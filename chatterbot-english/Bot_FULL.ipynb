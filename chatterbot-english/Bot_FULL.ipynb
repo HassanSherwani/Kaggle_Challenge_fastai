{
 "cells": [
  {
   "cell_type": "markdown",
   "metadata": {},
   "source": [
    "# Creating a conversation AI chatbot\n",
    "\n",
    "- using encoder-decoder framework\n",
    "- This bot answers question given in full dataset in kaggle challenge"
   ]
  },
  {
   "cell_type": "markdown",
   "metadata": {},
   "source": [
    "# 1)- Importing key modules"
   ]
  },
  {
   "cell_type": "code",
   "execution_count": 1,
   "metadata": {},
   "outputs": [],
   "source": [
    "# support both Python 2 and Python 3 with minimal overhead.\n",
    "from __future__ import absolute_import, division, print_function\n",
    "\n",
    "# I am an engineer. I care only about error not warning. So, let's be maverick and ignore warnings.\n",
    "import warnings\n",
    "warnings.filterwarnings('ignore')"
   ]
  },
  {
   "cell_type": "code",
   "execution_count": 2,
   "metadata": {},
   "outputs": [],
   "source": [
    "from mpl_toolkits.mplot3d import Axes3D\n",
    "from sklearn.preprocessing import StandardScaler\n",
    "import matplotlib.pyplot as plt # plotting\n",
    "import numpy as np # linear algebra\n",
    "import os # accessing directory structure\n",
    "import pandas as pd # data processing, CSV file I/O (e.g. pd.read_csv)"
   ]
  },
  {
   "cell_type": "markdown",
   "metadata": {},
   "source": [
    "# 2)-Loading Dataset"
   ]
  },
  {
   "cell_type": "code",
   "execution_count": 3,
   "metadata": {},
   "outputs": [
    {
     "name": "stdout",
     "output_type": "stream",
     "text": [
      "['ai.yml', 'botprofile.yml', 'computers.yml', 'emotion.yml', 'food.yml', 'gossip.yml', 'greetings.yml', 'health.yml', 'history.yml', 'humor.yml', 'literature.yml', 'money.yml', 'movies.yml', 'politics.yml', 'psychology.yml', 'science.yml', 'sports.yml', 'trivia.yml']\n"
     ]
    }
   ],
   "source": [
    "print(os.listdir('raw_data'))"
   ]
  },
  {
   "cell_type": "code",
   "execution_count": 4,
   "metadata": {},
   "outputs": [],
   "source": [
    "import os\n",
    "import yaml\n",
    "\n",
    "dir_path = 'raw_data'\n",
    "files_list = os.listdir(dir_path + os.sep)"
   ]
  },
  {
   "cell_type": "code",
   "execution_count": 5,
   "metadata": {},
   "outputs": [
    {
     "data": {
      "text/plain": [
       "['ai.yml',\n",
       " 'botprofile.yml',\n",
       " 'computers.yml',\n",
       " 'emotion.yml',\n",
       " 'food.yml',\n",
       " 'gossip.yml',\n",
       " 'greetings.yml',\n",
       " 'health.yml',\n",
       " 'history.yml',\n",
       " 'humor.yml',\n",
       " 'literature.yml',\n",
       " 'money.yml',\n",
       " 'movies.yml',\n",
       " 'politics.yml',\n",
       " 'psychology.yml',\n",
       " 'science.yml',\n",
       " 'sports.yml',\n",
       " 'trivia.yml']"
      ]
     },
     "execution_count": 5,
     "metadata": {},
     "output_type": "execute_result"
    }
   ],
   "source": [
    "files_list"
   ]
  },
  {
   "cell_type": "markdown",
   "metadata": {},
   "source": [
    "### reading tags in data"
   ]
  },
  {
   "cell_type": "code",
   "execution_count": 6,
   "metadata": {},
   "outputs": [
    {
     "name": "stdout",
     "output_type": "stream",
     "text": [
      "{'categories': ['trivia'], 'conversations': [['Who was the 37th President of the United States?', 'Richard Nixon'], ['What year was President John F. Kennedy assassinated?', '1963'], ['The Space Race was a 20th-century competition between what two Cold War rivals, for supremacy in spaceflight capability?', 'The Soviet Union and the United States.'], ['What was the name of the first artificial Earth satellite?', 'Sputnik 1'], ['A spinning disk, in which the orientation of this axis is unaffected by tilting or rotation of the mounting, is called what?', 'A gyroscope.'], ['The Hubble Space Telescope, launched into low Earth orbit in 1990, is named after what American astronomer?', 'Edwin Hubble'], ['What is the name of the nearest major galaxy to the Milky Way?', 'The Andromeda Galaxy.'], ['God Save the Queen is the national anthem of what country?', 'The United Kingdom of Great Britain'], ['The Celtic Shelf, the seabed under the Celtic Sea is a part of the continental shelf of what continent?', 'Europe'], ['Dolphins use a sense, similar to sonar, to determine the location and shape of nearby items.', 'Echolocation']]}\n"
     ]
    }
   ],
   "source": [
    "for filepath in files_list:\n",
    "    stream = open(os.path.join(dir_path, filepath), 'rb')\n",
    "    docs = yaml.safe_load(stream)\n",
    "print(docs)"
   ]
  },
  {
   "cell_type": "code",
   "execution_count": 7,
   "metadata": {},
   "outputs": [
    {
     "data": {
      "text/plain": [
       "['trivia']"
      ]
     },
     "execution_count": 7,
     "metadata": {},
     "output_type": "execute_result"
    }
   ],
   "source": [
    "docs[\"categories\"]"
   ]
  },
  {
   "cell_type": "code",
   "execution_count": 8,
   "metadata": {},
   "outputs": [
    {
     "data": {
      "text/plain": [
       "[['Who was the 37th President of the United States?', 'Richard Nixon'],\n",
       " ['What year was President John F. Kennedy assassinated?', '1963'],\n",
       " ['The Space Race was a 20th-century competition between what two Cold War rivals, for supremacy in spaceflight capability?',\n",
       "  'The Soviet Union and the United States.'],\n",
       " ['What was the name of the first artificial Earth satellite?', 'Sputnik 1'],\n",
       " ['A spinning disk, in which the orientation of this axis is unaffected by tilting or rotation of the mounting, is called what?',\n",
       "  'A gyroscope.'],\n",
       " ['The Hubble Space Telescope, launched into low Earth orbit in 1990, is named after what American astronomer?',\n",
       "  'Edwin Hubble'],\n",
       " ['What is the name of the nearest major galaxy to the Milky Way?',\n",
       "  'The Andromeda Galaxy.'],\n",
       " ['God Save the Queen is the national anthem of what country?',\n",
       "  'The United Kingdom of Great Britain'],\n",
       " ['The Celtic Shelf, the seabed under the Celtic Sea is a part of the continental shelf of what continent?',\n",
       "  'Europe'],\n",
       " ['Dolphins use a sense, similar to sonar, to determine the location and shape of nearby items.',\n",
       "  'Echolocation']]"
      ]
     },
     "execution_count": 8,
     "metadata": {},
     "output_type": "execute_result"
    }
   ],
   "source": [
    "docs[\"conversations\"]"
   ]
  },
  {
   "cell_type": "code",
   "execution_count": 9,
   "metadata": {},
   "outputs": [
    {
     "data": {
      "text/plain": [
       "list"
      ]
     },
     "execution_count": 9,
     "metadata": {},
     "output_type": "execute_result"
    }
   ],
   "source": [
    "con_access=docs[\"conversations\"]\n",
    "type(con_access)"
   ]
  },
  {
   "cell_type": "code",
   "execution_count": 10,
   "metadata": {},
   "outputs": [
    {
     "data": {
      "text/plain": [
       "[['Who was the 37th President of the United States?', 'Richard Nixon'],\n",
       " ['What year was President John F. Kennedy assassinated?', '1963'],\n",
       " ['The Space Race was a 20th-century competition between what two Cold War rivals, for supremacy in spaceflight capability?',\n",
       "  'The Soviet Union and the United States.'],\n",
       " ['What was the name of the first artificial Earth satellite?', 'Sputnik 1'],\n",
       " ['A spinning disk, in which the orientation of this axis is unaffected by tilting or rotation of the mounting, is called what?',\n",
       "  'A gyroscope.'],\n",
       " ['The Hubble Space Telescope, launched into low Earth orbit in 1990, is named after what American astronomer?',\n",
       "  'Edwin Hubble'],\n",
       " ['What is the name of the nearest major galaxy to the Milky Way?',\n",
       "  'The Andromeda Galaxy.'],\n",
       " ['God Save the Queen is the national anthem of what country?',\n",
       "  'The United Kingdom of Great Britain'],\n",
       " ['The Celtic Shelf, the seabed under the Celtic Sea is a part of the continental shelf of what continent?',\n",
       "  'Europe'],\n",
       " ['Dolphins use a sense, similar to sonar, to determine the location and shape of nearby items.',\n",
       "  'Echolocation']]"
      ]
     },
     "execution_count": 10,
     "metadata": {},
     "output_type": "execute_result"
    }
   ],
   "source": [
    "con_access"
   ]
  },
  {
   "cell_type": "markdown",
   "metadata": {},
   "source": [
    "**This is only one of many data file**"
   ]
  },
  {
   "cell_type": "markdown",
   "metadata": {},
   "source": [
    "### Separating Questions and answers"
   ]
  },
  {
   "cell_type": "code",
   "execution_count": 11,
   "metadata": {},
   "outputs": [],
   "source": [
    "questions = list()\n",
    "answers = list()\n",
    "for con in con_access:\n",
    "    if len(con)>2:\n",
    "        questions.append(con[0])\n",
    "        replies=con[1:]\n",
    "        ans=\"\"\n",
    "        for rep in replies:\n",
    "            ans+=' '+rep\n",
    "            answers.append(ans)\n",
    "    elif len(con)>1:\n",
    "        questions.append(con[0])\n",
    "        answers.append(con[1])"
   ]
  },
  {
   "cell_type": "code",
   "execution_count": 12,
   "metadata": {},
   "outputs": [
    {
     "data": {
      "text/plain": [
       "['Who was the 37th President of the United States?',\n",
       " 'What year was President John F. Kennedy assassinated?',\n",
       " 'The Space Race was a 20th-century competition between what two Cold War rivals, for supremacy in spaceflight capability?',\n",
       " 'What was the name of the first artificial Earth satellite?',\n",
       " 'A spinning disk, in which the orientation of this axis is unaffected by tilting or rotation of the mounting, is called what?',\n",
       " 'The Hubble Space Telescope, launched into low Earth orbit in 1990, is named after what American astronomer?',\n",
       " 'What is the name of the nearest major galaxy to the Milky Way?',\n",
       " 'God Save the Queen is the national anthem of what country?',\n",
       " 'The Celtic Shelf, the seabed under the Celtic Sea is a part of the continental shelf of what continent?',\n",
       " 'Dolphins use a sense, similar to sonar, to determine the location and shape of nearby items.']"
      ]
     },
     "execution_count": 12,
     "metadata": {},
     "output_type": "execute_result"
    }
   ],
   "source": [
    "questions"
   ]
  },
  {
   "cell_type": "code",
   "execution_count": 13,
   "metadata": {},
   "outputs": [
    {
     "data": {
      "text/plain": [
       "['Richard Nixon',\n",
       " '1963',\n",
       " 'The Soviet Union and the United States.',\n",
       " 'Sputnik 1',\n",
       " 'A gyroscope.',\n",
       " 'Edwin Hubble',\n",
       " 'The Andromeda Galaxy.',\n",
       " 'The United Kingdom of Great Britain',\n",
       " 'Europe',\n",
       " 'Echolocation']"
      ]
     },
     "execution_count": 13,
     "metadata": {},
     "output_type": "execute_result"
    }
   ],
   "source": [
    "answers"
   ]
  },
  {
   "cell_type": "markdown",
   "metadata": {},
   "source": [
    "### for more than one yml.file\n",
    "\n",
    "for all files in our raw_data folder"
   ]
  },
  {
   "cell_type": "code",
   "execution_count": 14,
   "metadata": {},
   "outputs": [],
   "source": [
    "full_docs=[]\n",
    "\n",
    "for filepath in files_list:\n",
    "    stream = open(os.path.join(dir_path, filepath), 'rb')\n",
    "    docs = yaml.safe_load(stream)\n",
    "    full_docs.append(docs)"
   ]
  },
  {
   "cell_type": "code",
   "execution_count": 15,
   "metadata": {},
   "outputs": [
    {
     "data": {
      "text/plain": [
       "{'categories': ['science'],\n",
       " 'conversations': [['what are the laws of thermodynamics',\n",
       "   \"i'm not a physicist, but i think this has something to do with heat, entropy, and conservation of energy, right?\"],\n",
       "  ['what disease does a carcinogen cause', 'cancer.'],\n",
       "  ['what is a wavelength', 'wavelength is the inverse of frequency.'],\n",
       "  ['what is thermodynamics',\n",
       "   'the branch of physics dealing with the transformation of heat to and from other forms of energy, and with the laws governing such conversions of energy.'],\n",
       "  ['what is chemistry', 'the science of mixing chemicals.'],\n",
       "  ['what is crystallography',\n",
       "   'this is the science dealing with the study of crystals.'],\n",
       "  ['what is avogadro s number',\n",
       "   'it is the number of molecules per mole.  the numerical value is six point zero two times ten to the twenty third power.'],\n",
       "  ['what is ultrasound',\n",
       "   'ultrasonic waves, used in medical diagnosis and therapy, in surgery, etc.'],\n",
       "  ['what is bioinformatics',\n",
       "   'a fancy name for applied computer science in biology.'],\n",
       "  ['what is venus',\n",
       "   'in roman mythology, the goddess of love and beauty; identified with the greek aphrodite. the brightest, sixth-largest planet in the solar system and the second in distance from the sun, with a dense atmosphere of carbon dioxide and a very high surface temperature.'],\n",
       "  ['what is ichthyology', 'we talk about this when we study fishes.'],\n",
       "  ['what is h2o', 'h is to o as o is to v.'],\n",
       "  ['what is cytology', 'the study of cells.'],\n",
       "  ['what is cytology',\n",
       "   'well, from what i can recall it is the study of cells.'],\n",
       "  ['what is wavelength',\n",
       "   'in physics, the distance, measured in the direction of prograssion of a wave, from any given point to the next point characterized by the same phase.  or is could be looked at as a way of thinking.'],\n",
       "  ['what is bacteriology',\n",
       "   'this is the scientific study of bacteria and diseases caused by them.'],\n",
       "  ['what is gravitation', 'an invitation to a burial'],\n",
       "  ['what is gravitation',\n",
       "   'the force by which every mass or particle of matter, including photons, attracts and is attracted by every other mass or particle of matter.'],\n",
       "  ['we are on the same wavelength', 'and the same frequency.'],\n",
       "  ['how far is the sun', 'it'],\n",
       "  ['how far is the sun', 'the sun is about 93 million miles from earth.'],\n",
       "  ['how far is the moon', 'it'],\n",
       "  ['how far is the moon',\n",
       "   'the moon is about 250,000 miles from earth on average.'],\n",
       "  ['do you know chemistry', 'what is chemistry'],\n",
       "  ['do you understand thermodynamics', 'what is thermodynamics'],\n",
       "  ['chemistry', 'my favorite subject is chemistry'],\n",
       "  ['the same wavelength', 'it means we agree.'],\n",
       "  ['tell me about venus', 'what is venus'],\n",
       "  ['tell me about venus', 'venus is the second planet from the sun.']]}"
      ]
     },
     "execution_count": 15,
     "metadata": {},
     "output_type": "execute_result"
    }
   ],
   "source": [
    "full_docs[15]"
   ]
  },
  {
   "cell_type": "markdown",
   "metadata": {},
   "source": [
    "### All in one"
   ]
  },
  {
   "cell_type": "code",
   "execution_count": 16,
   "metadata": {},
   "outputs": [],
   "source": [
    "questions = list()\n",
    "answers = list()\n",
    "for filepath in files_list:\n",
    "    stream = open( dir_path + os.sep + filepath , 'rb')\n",
    "    docs = yaml.safe_load(stream)\n",
    "    conversations = docs['conversations']\n",
    "    for con in conversations:\n",
    "        if len( con ) > 2 :\n",
    "            questions.append(con[0])\n",
    "            replies = con[ 1 : ]\n",
    "            ans = ''\n",
    "            for rep in replies:\n",
    "                ans += ' ' + rep\n",
    "            answers.append( ans )\n",
    "        elif len( con )> 1:\n",
    "            questions.append(con[0])\n",
    "            answers.append(con[1])"
   ]
  },
  {
   "cell_type": "code",
   "execution_count": 17,
   "metadata": {},
   "outputs": [
    {
     "data": {
      "text/plain": [
       "'What is AI?'"
      ]
     },
     "execution_count": 17,
     "metadata": {},
     "output_type": "execute_result"
    }
   ],
   "source": [
    "questions[0]"
   ]
  },
  {
   "cell_type": "code",
   "execution_count": 18,
   "metadata": {},
   "outputs": [
    {
     "data": {
      "text/plain": [
       "'Artificial Intelligence is the branch of engineering and science devoted to constructing machines that think.'"
      ]
     },
     "execution_count": 18,
     "metadata": {},
     "output_type": "execute_result"
    }
   ],
   "source": [
    "answers[0]"
   ]
  },
  {
   "cell_type": "markdown",
   "metadata": {},
   "source": [
    "### Add start and end tag with answers"
   ]
  },
  {
   "cell_type": "code",
   "execution_count": 19,
   "metadata": {},
   "outputs": [],
   "source": [
    "answers_with_tags=list()\n",
    "for i in range( len(answers)):\n",
    "    if type(answers[i])==str:\n",
    "        answers_with_tags.append(answers[i])\n",
    "    else:\n",
    "        questions.pop(i)\n",
    "\n",
    "answers=list()\n",
    "for ans in answers_with_tags:\n",
    "    answers.append('<START> '+ans+' <END>')"
   ]
  },
  {
   "cell_type": "code",
   "execution_count": 20,
   "metadata": {},
   "outputs": [
    {
     "data": {
      "text/plain": [
       "'What is AI?'"
      ]
     },
     "execution_count": 20,
     "metadata": {},
     "output_type": "execute_result"
    }
   ],
   "source": [
    "questions[0]"
   ]
  },
  {
   "cell_type": "code",
   "execution_count": 21,
   "metadata": {},
   "outputs": [
    {
     "data": {
      "text/plain": [
       "'<START> Artificial Intelligence is the branch of engineering and science devoted to constructing machines that think. <END>'"
      ]
     },
     "execution_count": 21,
     "metadata": {},
     "output_type": "execute_result"
    }
   ],
   "source": [
    "answers[0]"
   ]
  },
  {
   "cell_type": "markdown",
   "metadata": {},
   "source": [
    "# 3)- Preprocessing Data"
   ]
  },
  {
   "cell_type": "code",
   "execution_count": 22,
   "metadata": {},
   "outputs": [
    {
     "name": "stdout",
     "output_type": "stream",
     "text": [
      "<module 'tensorflow_core._api.v2.version' from 'C:\\\\Users\\\\hassan.sherwani\\\\Miniconda3\\\\envs\\\\tensorflow\\\\lib\\\\site-packages\\\\tensorflow_core\\\\_api\\\\v2\\\\version\\\\__init__.py'>\n"
     ]
    }
   ],
   "source": [
    "import tensorflow as tf\n",
    "from tensorflow.keras import layers, preprocessing, utils\n",
    "import yaml\n",
    "\n",
    "print( tf.version)"
   ]
  },
  {
   "cell_type": "code",
   "execution_count": 23,
   "metadata": {},
   "outputs": [
    {
     "name": "stdout",
     "output_type": "stream",
     "text": [
      "VOCAB SIZE : 1894\n"
     ]
    }
   ],
   "source": [
    "tokenizer=preprocessing.text.Tokenizer()\n",
    "tokenizer.fit_on_texts(questions+answers)\n",
    "VOCAB_SIZE= len(tokenizer.word_index)+1\n",
    "print('VOCAB SIZE : {}'.format(VOCAB_SIZE))"
   ]
  },
  {
   "cell_type": "markdown",
   "metadata": {},
   "source": [
    "### 3.1.tokenizer"
   ]
  },
  {
   "cell_type": "code",
   "execution_count": 24,
   "metadata": {},
   "outputs": [],
   "source": [
    "from gensim.models import Word2Vec\n",
    "import re\n",
    "\n",
    "vocab=[]\n",
    "for word in tokenizer.word_index:\n",
    "    vocab.append(word)\n",
    "    \n",
    "def tokenize(sentences):\n",
    "    tokens_list=[]\n",
    "    vocabulary=[]\n",
    "    for sentence in sentences:\n",
    "        sentence = sentence.lower()\n",
    "        sentence = re.sub( '^a-zA-Z',' ',sentence)\n",
    "        tokens = sentence.split()\n",
    "        vocabulary+=tokens\n",
    "        tokens_list.append(tokens)\n",
    "    return tokens_list,vocabulary\n",
    "\n",
    "p=tokenize(questions+answers)\n",
    "model = Word2Vec(p[0])"
   ]
  },
  {
   "cell_type": "markdown",
   "metadata": {},
   "source": [
    "#### 3.2.a.tokenized_questions"
   ]
  },
  {
   "cell_type": "code",
   "execution_count": 25,
   "metadata": {},
   "outputs": [
    {
     "name": "stdout",
     "output_type": "stream",
     "text": [
      "(564, 22) 22\n"
     ]
    }
   ],
   "source": [
    "tokenized_questions = tokenizer.texts_to_sequences(questions)\n",
    "maxlen_questions = max([len(x) for x in tokenized_questions])\n",
    "padded_questions = preprocessing.sequence.pad_sequences(tokenized_questions, maxlen=maxlen_questions, padding='post')\n",
    "encoder_input_data = np.array( padded_questions )\n",
    "print(encoder_input_data.shape, maxlen_questions)"
   ]
  },
  {
   "cell_type": "markdown",
   "metadata": {},
   "source": [
    "#### 3.2.b.tokenized_answers"
   ]
  },
  {
   "cell_type": "code",
   "execution_count": 26,
   "metadata": {},
   "outputs": [
    {
     "name": "stdout",
     "output_type": "stream",
     "text": [
      "(564, 74) 74\n"
     ]
    }
   ],
   "source": [
    "tokenized_answers = tokenizer.texts_to_sequences(answers)\n",
    "maxlen_answers = max([len(x) for x in tokenized_answers])\n",
    "padded_answers = preprocessing.sequence.pad_sequences(tokenized_answers, maxlen=maxlen_answers, padding='post')\n",
    "decoder_input_data = np.array(padded_answers)\n",
    "print(decoder_input_data.shape, maxlen_answers)"
   ]
  },
  {
   "cell_type": "code",
   "execution_count": 27,
   "metadata": {},
   "outputs": [
    {
     "name": "stdout",
     "output_type": "stream",
     "text": [
      "(564, 74, 1894)\n"
     ]
    }
   ],
   "source": [
    "tokenized_answers = tokenizer.texts_to_sequences(answers)\n",
    "for i in range(len(tokenized_answers)):\n",
    "    tokenized_answers[i]=tokenized_answers[i][1:]\n",
    "padded_answers = preprocessing.sequence.pad_sequences(tokenized_answers, maxlen=maxlen_answers, padding='post')\n",
    "one_hot_answers = utils.to_categorical(padded_answers, VOCAB_SIZE)\n",
    "decoder_output_data = np.array(one_hot_answers)\n",
    "print(decoder_output_data.shape)"
   ]
  },
  {
   "cell_type": "markdown",
   "metadata": {},
   "source": [
    "# 4)- Model Building"
   ]
  },
  {
   "cell_type": "code",
   "execution_count": 28,
   "metadata": {},
   "outputs": [
    {
     "name": "stdout",
     "output_type": "stream",
     "text": [
      "Model: \"model\"\n",
      "__________________________________________________________________________________________________\n",
      "Layer (type)                    Output Shape         Param #     Connected to                     \n",
      "==================================================================================================\n",
      "input_1 (InputLayer)            [(None, None)]       0                                            \n",
      "__________________________________________________________________________________________________\n",
      "input_2 (InputLayer)            [(None, None)]       0                                            \n",
      "__________________________________________________________________________________________________\n",
      "embedding (Embedding)           (None, None, 200)    378800      input_1[0][0]                    \n",
      "__________________________________________________________________________________________________\n",
      "embedding_1 (Embedding)         (None, None, 200)    378800      input_2[0][0]                    \n",
      "__________________________________________________________________________________________________\n",
      "lstm (LSTM)                     [(None, 200), (None, 320800      embedding[0][0]                  \n",
      "__________________________________________________________________________________________________\n",
      "lstm_1 (LSTM)                   [(None, None, 200),  320800      embedding_1[0][0]                \n",
      "                                                                 lstm[0][1]                       \n",
      "                                                                 lstm[0][2]                       \n",
      "__________________________________________________________________________________________________\n",
      "dense (Dense)                   (None, None, 1894)   380694      lstm_1[0][0]                     \n",
      "==================================================================================================\n",
      "Total params: 1,779,894\n",
      "Trainable params: 1,779,894\n",
      "Non-trainable params: 0\n",
      "__________________________________________________________________________________________________\n"
     ]
    }
   ],
   "source": [
    "encoder_inputs = tf.keras.layers.Input(shape=( None , ))\n",
    "encoder_embedding = tf.keras.layers.Embedding( VOCAB_SIZE, 200 , mask_zero=True ) (encoder_inputs)\n",
    "encoder_outputs , state_h , state_c = tf.keras.layers.LSTM( 200 , return_state=True )( encoder_embedding )\n",
    "encoder_states = [ state_h , state_c ]\n",
    "\n",
    "decoder_inputs = tf.keras.layers.Input(shape=( None ,  ))\n",
    "decoder_embedding = tf.keras.layers.Embedding( VOCAB_SIZE, 200 , mask_zero=True) (decoder_inputs)\n",
    "decoder_lstm = tf.keras.layers.LSTM( 200 , return_state=True , return_sequences=True )\n",
    "decoder_outputs , _ , _ = decoder_lstm ( decoder_embedding , initial_state=encoder_states )\n",
    "decoder_dense = tf.keras.layers.Dense( VOCAB_SIZE , activation=tf.keras.activations.softmax ) \n",
    "output = decoder_dense ( decoder_outputs )\n",
    "\n",
    "model = tf.keras.models.Model([encoder_inputs, decoder_inputs], output )\n",
    "model.compile(optimizer=tf.keras.optimizers.Adam(), loss='categorical_crossentropy', metrics=['accuracy'])\n",
    "\n",
    "model.summary()"
   ]
  },
  {
   "cell_type": "markdown",
   "metadata": {},
   "source": [
    "### fit and save model"
   ]
  },
  {
   "cell_type": "code",
   "execution_count": null,
   "metadata": {},
   "outputs": [
    {
     "name": "stdout",
     "output_type": "stream",
     "text": [
      "Train on 564 samples\n",
      "Epoch 1/150\n",
      "564/564 [==============================] - 13s 22ms/sample - loss: 1.4515 - accuracy: 0.0812\n",
      "Epoch 2/150\n",
      "564/564 [==============================] - 5s 9ms/sample - loss: 1.2744 - accuracy: 0.0904\n",
      "Epoch 3/150\n",
      "564/564 [==============================] - 5s 9ms/sample - loss: 1.1326 - accuracy: 0.0741\n",
      "Epoch 4/150\n",
      "564/564 [==============================] - 5s 9ms/sample - loss: 1.1075 - accuracy: 0.1055\n",
      "Epoch 5/150\n",
      "564/564 [==============================] - 5s 9ms/sample - loss: 1.0968 - accuracy: 0.1370\n",
      "Epoch 6/150\n",
      "564/564 [==============================] - 5s 9ms/sample - loss: 1.0855 - accuracy: 0.1239\n",
      "Epoch 7/150\n",
      "564/564 [==============================] - 5s 9ms/sample - loss: 1.0715 - accuracy: 0.1486\n",
      "Epoch 8/150\n",
      "564/564 [==============================] - 5s 9ms/sample - loss: 1.0539 - accuracy: 0.1503\n",
      "Epoch 9/150\n",
      "564/564 [==============================] - 5s 10ms/sample - loss: 1.0385 - accuracy: 0.1517\n",
      "Epoch 10/150\n",
      "564/564 [==============================] - 5s 9ms/sample - loss: 1.0254 - accuracy: 0.1501\n",
      "Epoch 11/150\n",
      "564/564 [==============================] - 5s 9ms/sample - loss: 1.0130 - accuracy: 0.1528\n",
      "Epoch 12/150\n",
      "564/564 [==============================] - 5s 9ms/sample - loss: 1.0021 - accuracy: 0.1581\n",
      "Epoch 13/150\n",
      "564/564 [==============================] - 5s 9ms/sample - loss: 0.9906 - accuracy: 0.1580\n",
      "Epoch 14/150\n",
      "564/564 [==============================] - 5s 9ms/sample - loss: 0.9803 - accuracy: 0.1768\n",
      "Epoch 15/150\n",
      "564/564 [==============================] - 5s 9ms/sample - loss: 0.9699 - accuracy: 0.1822\n",
      "Epoch 16/150\n",
      "564/564 [==============================] - 5s 9ms/sample - loss: 0.9599 - accuracy: 0.1840\n",
      "Epoch 17/150\n",
      "564/564 [==============================] - 5s 9ms/sample - loss: 0.9499 - accuracy: 0.1878\n",
      "Epoch 18/150\n",
      "564/564 [==============================] - 5s 9ms/sample - loss: 0.9403 - accuracy: 0.1899\n",
      "Epoch 19/150\n",
      "564/564 [==============================] - 5s 9ms/sample - loss: 0.9310 - accuracy: 0.1909\n",
      "Epoch 20/150\n",
      "564/564 [==============================] - 5s 9ms/sample - loss: 0.9205 - accuracy: 0.2027\n",
      "Epoch 21/150\n",
      "564/564 [==============================] - 5s 10ms/sample - loss: 0.9107 - accuracy: 0.2103\n",
      "Epoch 22/150\n",
      "564/564 [==============================] - 5s 9ms/sample - loss: 0.9008 - accuracy: 0.2221\n",
      "Epoch 23/150\n",
      "564/564 [==============================] - 5s 10ms/sample - loss: 0.8913 - accuracy: 0.2254\n",
      "Epoch 24/150\n",
      "564/564 [==============================] - 5s 10ms/sample - loss: 0.8819 - accuracy: 0.2289\n",
      "Epoch 25/150\n",
      "564/564 [==============================] - 5s 10ms/sample - loss: 0.8728 - accuracy: 0.2352\n",
      "Epoch 26/150\n",
      "564/564 [==============================] - 5s 9ms/sample - loss: 0.8636 - accuracy: 0.2362\n",
      "Epoch 27/150\n",
      "564/564 [==============================] - 5s 9ms/sample - loss: 0.8552 - accuracy: 0.2393\n",
      "Epoch 28/150\n",
      "564/564 [==============================] - 5s 10ms/sample - loss: 0.8462 - accuracy: 0.2478\n",
      "Epoch 29/150\n",
      "564/564 [==============================] - 5s 9ms/sample - loss: 0.8379 - accuracy: 0.2502\n",
      "Epoch 30/150\n",
      "564/564 [==============================] - 5s 10ms/sample - loss: 0.8298 - accuracy: 0.2602\n",
      "Epoch 31/150\n",
      "564/564 [==============================] - 5s 10ms/sample - loss: 0.8219 - accuracy: 0.2659\n",
      "Epoch 32/150\n",
      "564/564 [==============================] - 5s 9ms/sample - loss: 0.8134 - accuracy: 0.2763\n",
      "Epoch 33/150\n",
      "564/564 [==============================] - 5s 9ms/sample - loss: 0.8055 - accuracy: 0.2768\n",
      "Epoch 34/150\n",
      "564/564 [==============================] - 5s 10ms/sample - loss: 0.7975 - accuracy: 0.2853\n",
      "Epoch 35/150\n",
      "564/564 [==============================] - 5s 9ms/sample - loss: 0.7900 - accuracy: 0.2871\n",
      "Epoch 36/150\n",
      "564/564 [==============================] - 5s 10ms/sample - loss: 0.7818 - accuracy: 0.2892\n",
      "Epoch 37/150\n",
      "564/564 [==============================] - 6s 10ms/sample - loss: 0.7741 - accuracy: 0.2944\n",
      "Epoch 38/150\n",
      "564/564 [==============================] - 6s 10ms/sample - loss: 0.7669 - accuracy: 0.2963\n",
      "Epoch 39/150\n",
      "564/564 [==============================] - 5s 10ms/sample - loss: 0.7593 - accuracy: 0.3023\n",
      "Epoch 40/150\n",
      "564/564 [==============================] - 5s 10ms/sample - loss: 0.7526 - accuracy: 0.3013\n",
      "Epoch 41/150\n",
      "564/564 [==============================] - 5s 9ms/sample - loss: 0.7451 - accuracy: 0.3075\n",
      "Epoch 42/150\n",
      "564/564 [==============================] - 5s 9ms/sample - loss: 0.7377 - accuracy: 0.3073\n",
      "Epoch 43/150\n",
      "564/564 [==============================] - 5s 9ms/sample - loss: 0.7305 - accuracy: 0.3138\n",
      "Epoch 44/150\n",
      "564/564 [==============================] - 5s 10ms/sample - loss: 0.7231 - accuracy: 0.3190\n",
      "Epoch 45/150\n",
      "564/564 [==============================] - 5s 10ms/sample - loss: 0.7159 - accuracy: 0.3199\n",
      "Epoch 46/150\n",
      "564/564 [==============================] - 5s 9ms/sample - loss: 0.7083 - accuracy: 0.3246\n",
      "Epoch 47/150\n",
      "564/564 [==============================] - 5s 9ms/sample - loss: 0.7012 - accuracy: 0.3286\n",
      "Epoch 48/150\n",
      "564/564 [==============================] - 5s 10ms/sample - loss: 0.6939 - accuracy: 0.3329\n",
      "Epoch 49/150\n",
      "564/564 [==============================] - 5s 9ms/sample - loss: 0.6867 - accuracy: 0.3364\n",
      "Epoch 50/150\n",
      "564/564 [==============================] - 5s 9ms/sample - loss: 0.6791 - accuracy: 0.3400\n",
      "Epoch 51/150\n",
      "564/564 [==============================] - 5s 9ms/sample - loss: 0.6711 - accuracy: 0.3462\n",
      "Epoch 52/150\n",
      "564/564 [==============================] - 5s 9ms/sample - loss: 0.6638 - accuracy: 0.3497\n",
      "Epoch 53/150\n",
      "564/564 [==============================] - 5s 9ms/sample - loss: 0.6561 - accuracy: 0.3524\n",
      "Epoch 54/150\n",
      "564/564 [==============================] - 5s 10ms/sample - loss: 0.6483 - accuracy: 0.3544\n",
      "Epoch 55/150\n",
      "564/564 [==============================] - 5s 9ms/sample - loss: 0.6411 - accuracy: 0.3586\n",
      "Epoch 56/150\n",
      "564/564 [==============================] - 5s 9ms/sample - loss: 0.6333 - accuracy: 0.3618\n",
      "Epoch 57/150\n",
      "564/564 [==============================] - 5s 9ms/sample - loss: 0.6257 - accuracy: 0.3666\n",
      "Epoch 58/150\n",
      "564/564 [==============================] - 5s 10ms/sample - loss: 0.6179 - accuracy: 0.3719\n",
      "Epoch 59/150\n",
      "564/564 [==============================] - 6s 10ms/sample - loss: 0.6102 - accuracy: 0.3782\n",
      "Epoch 60/150\n",
      "564/564 [==============================] - 5s 9ms/sample - loss: 0.6027 - accuracy: 0.3806\n",
      "Epoch 61/150\n",
      "564/564 [==============================] - 5s 10ms/sample - loss: 0.5947 - accuracy: 0.3847\n",
      "Epoch 62/150\n",
      "564/564 [==============================] - 5s 10ms/sample - loss: 0.5873 - accuracy: 0.3928\n",
      "Epoch 63/150\n",
      "564/564 [==============================] - 6s 10ms/sample - loss: 0.5800 - accuracy: 0.3950\n",
      "Epoch 64/150\n",
      "564/564 [==============================] - 5s 10ms/sample - loss: 0.5731 - accuracy: 0.3987\n",
      "Epoch 65/150\n",
      "564/564 [==============================] - 6s 10ms/sample - loss: 0.5651 - accuracy: 0.4037\n",
      "Epoch 66/150\n",
      "564/564 [==============================] - 6s 10ms/sample - loss: 0.5574 - accuracy: 0.4109\n",
      "Epoch 67/150\n",
      "564/564 [==============================] - 6s 10ms/sample - loss: 0.5502 - accuracy: 0.4151\n",
      "Epoch 68/150\n",
      "564/564 [==============================] - 5s 10ms/sample - loss: 0.5428 - accuracy: 0.4188\n",
      "Epoch 69/150\n",
      "564/564 [==============================] - 5s 10ms/sample - loss: 0.5361 - accuracy: 0.4264\n",
      "Epoch 70/150\n",
      "564/564 [==============================] - 5s 10ms/sample - loss: 0.5280 - accuracy: 0.4315\n",
      "Epoch 71/150\n",
      "564/564 [==============================] - 5s 10ms/sample - loss: 0.5208 - accuracy: 0.4389\n",
      "Epoch 72/150\n",
      "564/564 [==============================] - 5s 10ms/sample - loss: 0.5131 - accuracy: 0.4440\n",
      "Epoch 73/150\n",
      "564/564 [==============================] - 5s 10ms/sample - loss: 0.5057 - accuracy: 0.4503\n",
      "Epoch 74/150\n",
      "564/564 [==============================] - 5s 9ms/sample - loss: 0.4980 - accuracy: 0.4577\n",
      "Epoch 75/150\n",
      "564/564 [==============================] - 5s 9ms/sample - loss: 0.4910 - accuracy: 0.4616\n",
      "Epoch 76/150\n",
      "564/564 [==============================] - 5s 10ms/sample - loss: 0.4839 - accuracy: 0.4693\n",
      "Epoch 77/150\n",
      "564/564 [==============================] - 6s 10ms/sample - loss: 0.4769 - accuracy: 0.4750\n",
      "Epoch 78/150\n",
      "564/564 [==============================] - 6s 10ms/sample - loss: 0.4695 - accuracy: 0.4861\n",
      "Epoch 79/150\n"
     ]
    },
    {
     "name": "stdout",
     "output_type": "stream",
     "text": [
      "564/564 [==============================] - 5s 10ms/sample - loss: 0.4627 - accuracy: 0.4924\n",
      "Epoch 80/150\n",
      "564/564 [==============================] - 5s 10ms/sample - loss: 0.4551 - accuracy: 0.4989\n",
      "Epoch 81/150\n",
      " 50/564 [=>............................] - ETA: 4s - loss: 0.3543 - accuracy: 0.5286"
     ]
    }
   ],
   "source": [
    "%%time\n",
    "model.fit([encoder_input_data , decoder_input_data], decoder_output_data, batch_size=50, epochs=150 ) \n",
    "model.save( 'model.h5' )"
   ]
  },
  {
   "cell_type": "markdown",
   "metadata": {},
   "source": [
    "**Accuracy value started from 11% and eventually improved with epochs upto value of 87.9 %**"
   ]
  },
  {
   "cell_type": "markdown",
   "metadata": {},
   "source": [
    "### inference\n",
    "\n",
    "During the inference phase, a trained Seq2Seq model gets a source sentence. It uses this to obtain an encoder_state which is used to initialize the decoder. The conversational process starts as soon as the decoder receives a special symbol, <start>, denoting the start of the decoding process."
   ]
  },
  {
   "cell_type": "code",
   "execution_count": null,
   "metadata": {},
   "outputs": [],
   "source": [
    "def make_inference_models():\n",
    "    \n",
    "    encoder_model = tf.keras.models.Model(encoder_inputs, encoder_states)\n",
    "    \n",
    "    decoder_state_input_h = tf.keras.layers.Input(shape=( 200 ,))\n",
    "    decoder_state_input_c = tf.keras.layers.Input(shape=( 200 ,))\n",
    "    \n",
    "    decoder_states_inputs = [decoder_state_input_h, decoder_state_input_c]\n",
    "    \n",
    "    decoder_outputs, state_h, state_c = decoder_lstm(\n",
    "        decoder_embedding , initial_state=decoder_states_inputs)\n",
    "    decoder_states = [state_h, state_c]\n",
    "    decoder_outputs = decoder_dense(decoder_outputs)\n",
    "    decoder_model = tf.keras.models.Model(\n",
    "        [decoder_inputs] + decoder_states_inputs,\n",
    "        [decoder_outputs] + decoder_states)\n",
    "    \n",
    "    return encoder_model , decoder_model"
   ]
  },
  {
   "cell_type": "code",
   "execution_count": null,
   "metadata": {},
   "outputs": [],
   "source": [
    "def str_to_tokens( sentence : str ):\n",
    "    words = sentence.lower().split()\n",
    "    tokens_list = list()\n",
    "    for word in words:\n",
    "        tokens_list.append( tokenizer.word_index[ word ] ) \n",
    "    return preprocessing.sequence.pad_sequences( [tokens_list] , maxlen=maxlen_questions , padding='post')"
   ]
  },
  {
   "cell_type": "markdown",
   "metadata": {},
   "source": [
    "# 5)-Evaluation"
   ]
  },
  {
   "cell_type": "code",
   "execution_count": null,
   "metadata": {
    "scrolled": true
   },
   "outputs": [],
   "source": [
    "enc_model , dec_model = make_inference_models()\n",
    "\n",
    "for _ in range(10):\n",
    "    states_values = enc_model.predict( str_to_tokens( input( 'Enter question : ' ) ) )\n",
    "    empty_target_seq = np.zeros( ( 1 , 1 ) )\n",
    "    empty_target_seq[0, 0] = tokenizer.word_index['start']\n",
    "    stop_condition = False\n",
    "    decoded_response = ''\n",
    "    while not stop_condition :\n",
    "        dec_outputs , h , c = dec_model.predict([ empty_target_seq ] + states_values )\n",
    "        sampled_word_index = np.argmax( dec_outputs[0, -1, :] )\n",
    "        sampled_word = None\n",
    "        for word , index in tokenizer.word_index.items() :\n",
    "            if sampled_word_index == index :\n",
    "                decoded_response += ' {}'.format( word )\n",
    "                sampled_word = word\n",
    "        \n",
    "        if sampled_word == 'end' or len(decoded_response.split()) > maxlen_answers:\n",
    "            stop_condition = True\n",
    "            \n",
    "        empty_target_seq = np.zeros( ( 1 , 1 ) )  \n",
    "        empty_target_seq[ 0 , 0 ] = sampled_word_index\n",
    "        states_values = [ h , c ] \n",
    "\n",
    "    print( decoded_response )"
   ]
  },
  {
   "cell_type": "markdown",
   "metadata": {},
   "source": [
    "any context that is not trained,  will not be entertained."
   ]
  },
  {
   "cell_type": "markdown",
   "metadata": {},
   "source": [
    "# END of NOTEBOOK"
   ]
  }
 ],
 "metadata": {
  "kernelspec": {
   "display_name": "Python 3.7 (tensorflow)",
   "language": "python",
   "name": "tensorflow"
  },
  "language_info": {
   "codemirror_mode": {
    "name": "ipython",
    "version": 3
   },
   "file_extension": ".py",
   "mimetype": "text/x-python",
   "name": "python",
   "nbconvert_exporter": "python",
   "pygments_lexer": "ipython3",
   "version": "3.7.7"
  }
 },
 "nbformat": 4,
 "nbformat_minor": 4
}
