{
 "cells": [
  {
   "cell_type": "markdown",
   "metadata": {},
   "source": [
    "# Cleaning and pre-processing dataset"
   ]
  },
  {
   "cell_type": "code",
   "execution_count": 1,
   "metadata": {
    "collapsed": true
   },
   "outputs": [],
   "source": [
    "# Let's be rebels and ignore warnings for now\n",
    "import warnings\n",
    "warnings.filterwarnings('ignore')"
   ]
  },
  {
   "cell_type": "code",
   "execution_count": 2,
   "metadata": {
    "collapsed": true
   },
   "outputs": [],
   "source": [
    "import warnings\n",
    "warnings.filterwarnings(action='ignore', category=UserWarning, module='gensim')\n",
    "\n",
    "import nltk\n",
    "import gensim"
   ]
  },
  {
   "cell_type": "code",
   "execution_count": 3,
   "metadata": {},
   "outputs": [
    {
     "name": "stdout",
     "output_type": "stream",
     "text": [
      "Populating the interactive namespace from numpy and matplotlib\n"
     ]
    }
   ],
   "source": [
    "# Visualization \n",
    "import matplotlib.pyplot as plt\n",
    "import seaborn as sns\n",
    "%matplotlib inline\n",
    "%pylab inline"
   ]
  },
  {
   "cell_type": "code",
   "execution_count": 4,
   "metadata": {},
   "outputs": [
    {
     "data": {
      "text/html": [
       "<script type=\"text/javascript\">window.PlotlyConfig = {MathJaxConfig: 'local'};</script><script type=\"text/javascript\">if (window.MathJax) {MathJax.Hub.Config({SVG: {font: \"STIX-Web\"}});}</script><script>requirejs.config({paths: { 'plotly': ['https://cdn.plot.ly/plotly-latest.min']},});if(!window._Plotly) {require(['plotly'],function(plotly) {window._Plotly=plotly;});}</script>"
      ],
      "text/vnd.plotly.v1+html": [
       "<script type=\"text/javascript\">window.PlotlyConfig = {MathJaxConfig: 'local'};</script><script type=\"text/javascript\">if (window.MathJax) {MathJax.Hub.Config({SVG: {font: \"STIX-Web\"}});}</script><script>requirejs.config({paths: { 'plotly': ['https://cdn.plot.ly/plotly-latest.min']},});if(!window._Plotly) {require(['plotly'],function(plotly) {window._Plotly=plotly;});}</script>"
      ]
     },
     "metadata": {},
     "output_type": "display_data"
    }
   ],
   "source": [
    "# Plotly imports\n",
    "import plotly.offline as py\n",
    "py.init_notebook_mode(connected=True)\n",
    "import plotly.graph_objs as go\n",
    "import plotly.tools as tls"
   ]
  },
  {
   "cell_type": "code",
   "execution_count": 5,
   "metadata": {
    "collapsed": true
   },
   "outputs": [],
   "source": [
    "import nltk\n",
    "import pandas as pd\n",
    "import numpy as np"
   ]
  },
  {
   "cell_type": "code",
   "execution_count": 6,
   "metadata": {
    "collapsed": true
   },
   "outputs": [],
   "source": [
    "# Other imports\n",
    "from collections import Counter\n",
    "from scipy.misc import imread\n",
    "from sklearn.feature_extraction.text import TfidfVectorizer, CountVectorizer\n",
    "from sklearn.decomposition import NMF, LatentDirichletAllocation"
   ]
  },
  {
   "cell_type": "code",
   "execution_count": 7,
   "metadata": {
    "collapsed": true
   },
   "outputs": [],
   "source": [
    "# IMPORTING ALL THE NECESSARY LIBRARIES AND PACKAGES\n",
    "from nltk.corpus import stopwords\n",
    "import string\n",
    "import math\n",
    "from sklearn.feature_extraction.text import CountVectorizer\n",
    "from sklearn.model_selection import train_test_split, cross_val_score\n",
    "from sklearn.metrics import classification_report\n",
    "from sklearn.metrics import confusion_matrix, accuracy_score, roc_auc_score, roc_curve\n",
    "from sklearn.model_selection import learning_curve, GridSearchCV"
   ]
  },
  {
   "cell_type": "code",
   "execution_count": 8,
   "metadata": {
    "collapsed": true
   },
   "outputs": [],
   "source": [
    "# LOADING THE DATASET AND SEEING THE DETAILS\n",
    "data = pd.read_csv('train.csv')"
   ]
  },
  {
   "cell_type": "code",
   "execution_count": 9,
   "metadata": {},
   "outputs": [
    {
     "data": {
      "text/html": [
       "<div>\n",
       "<style>\n",
       "    .dataframe thead tr:only-child th {\n",
       "        text-align: right;\n",
       "    }\n",
       "\n",
       "    .dataframe thead th {\n",
       "        text-align: left;\n",
       "    }\n",
       "\n",
       "    .dataframe tbody tr th {\n",
       "        vertical-align: top;\n",
       "    }\n",
       "</style>\n",
       "<table border=\"1\" class=\"dataframe\">\n",
       "  <thead>\n",
       "    <tr style=\"text-align: right;\">\n",
       "      <th></th>\n",
       "      <th>sentiment</th>\n",
       "      <th>text</th>\n",
       "    </tr>\n",
       "  </thead>\n",
       "  <tbody>\n",
       "    <tr>\n",
       "      <th>0</th>\n",
       "      <td>5</td>\n",
       "      <td>@manjulamartin @Kirk_Gleason Except trains are...</td>\n",
       "    </tr>\n",
       "    <tr>\n",
       "      <th>1</th>\n",
       "      <td>5</td>\n",
       "      <td>I want a Google driverless car.</td>\n",
       "    </tr>\n",
       "    <tr>\n",
       "      <th>2</th>\n",
       "      <td>5</td>\n",
       "      <td>@Oatmeal @google driverless @TeslaMotors ? Ooo...</td>\n",
       "    </tr>\n",
       "    <tr>\n",
       "      <th>3</th>\n",
       "      <td>5</td>\n",
       "      <td>SO MUCH AWESOME! Amazing video for GoogleÌ¢‰âÂ...</td>\n",
       "    </tr>\n",
       "    <tr>\n",
       "      <th>4</th>\n",
       "      <td>5</td>\n",
       "      <td>@google is making driverless cars which is awe...</td>\n",
       "    </tr>\n",
       "  </tbody>\n",
       "</table>\n",
       "</div>"
      ],
      "text/plain": [
       "   sentiment                                               text\n",
       "0          5  @manjulamartin @Kirk_Gleason Except trains are...\n",
       "1          5                    I want a Google driverless car.\n",
       "2          5  @Oatmeal @google driverless @TeslaMotors ? Ooo...\n",
       "3          5  SO MUCH AWESOME! Amazing video for GoogleÌ¢‰âÂ...\n",
       "4          5  @google is making driverless cars which is awe..."
      ]
     },
     "execution_count": 9,
     "metadata": {},
     "output_type": "execute_result"
    }
   ],
   "source": [
    "data.head()"
   ]
  },
  {
   "cell_type": "code",
   "execution_count": 10,
   "metadata": {},
   "outputs": [
    {
     "data": {
      "text/plain": [
       "0    5\n",
       "1    5\n",
       "2    5\n",
       "Name: sentiment, dtype: int64"
      ]
     },
     "execution_count": 10,
     "metadata": {},
     "output_type": "execute_result"
    }
   ],
   "source": [
    "y=data['sentiment']\n",
    "y[0:3]"
   ]
  },
  {
   "cell_type": "code",
   "execution_count": 11,
   "metadata": {
    "collapsed": true
   },
   "outputs": [],
   "source": [
    "# for showing word data, we make a separate feature\n",
    "tweet_text=data['text']"
   ]
  },
  {
   "cell_type": "code",
   "execution_count": 12,
   "metadata": {},
   "outputs": [
    {
     "data": {
      "application/vnd.plotly.v1+json": {
       "config": {
        "linkText": "Export to plot.ly",
        "plotlyServerURL": "https://plot.ly",
        "showLink": false
       },
       "data": [
        {
         "marker": {
          "color": [
           317,
           313,
           284,
           254,
           231,
           195,
           181,
           155,
           144,
           136,
           131,
           131,
           129,
           105,
           102,
           80,
           79,
           74,
           74,
           69,
           68,
           68,
           66,
           55,
           55,
           55,
           55,
           54,
           52,
           47,
           47,
           45,
           44,
           43,
           43,
           42,
           40,
           40,
           39,
           39,
           37,
           36,
           35,
           32,
           32,
           32,
           31,
           31,
           31,
           30,
           29,
           28,
           28,
           27,
           27,
           27,
           27,
           26,
           25,
           25,
           25,
           24,
           24,
           23,
           23,
           23,
           22,
           22,
           22,
           22,
           21,
           21,
           21,
           21,
           21,
           21,
           20,
           20,
           20,
           20,
           20,
           20,
           20,
           20,
           19,
           19,
           19,
           19,
           18,
           18,
           18,
           18,
           18,
           18,
           18,
           18,
           18,
           17
          ],
          "colorscale": "Jet"
         },
         "text": "Word counts",
         "type": "bar",
         "uid": "db56f97f-8f3e-4bb1-bc17-8c1eaf299b8c",
         "x": [
          "to",
          "the",
          "a",
          "Driverless",
          "car",
          "in",
          "of",
          "and",
          "I",
          "is",
          "on",
          "for",
          "Google",
          "be",
          "will",
          "are",
          "with",
          "you",
          "-",
          "that",
          "by",
          "Google's",
          "The",
          "about",
          "have",
          "Cars",
          "it",
          "California",
          "cars.",
          "no",
          "can",
          "car.",
          "this",
          "just",
          "we",
          "could",
          "via",
          "or",
          "as",
          "one",
          "but",
          "has",
          "at",
          "cars,",
          "RT",
          "my",
          "future",
          "Car"
         ],
         "y": [
          317,
          313,
          284,
          254,
          231,
          195,
          181,
          155,
          144,
          136,
          131,
          131,
          129,
          105,
          102,
          80,
          79,
          74,
          74,
          69,
          68,
          68,
          66,
          55,
          55,
          55,
          55,
          54,
          52,
          47,
          47,
          45,
          44,
          43,
          43,
          42,
          40,
          40,
          39,
          39,
          37,
          36,
          35,
          32,
          32,
          32,
          31,
          31
         ]
        }
       ],
       "layout": {
        "title": {
         "text": "Top 50 (Uncleaned) Word frequencies in the Patent dataset"
        }
       }
      },
      "text/html": [
       "<div id=\"f4b15d90-1de2-4928-8e25-c88b43dbe6d6\" style=\"height: 525px; width: 100%;\" class=\"plotly-graph-div\"></div><script type=\"text/javascript\">require([\"plotly\"], function(Plotly) { window.PLOTLYENV=window.PLOTLYENV || {};window.PLOTLYENV.BASE_URL=\"https://plot.ly\";\n",
       "if (document.getElementById(\"f4b15d90-1de2-4928-8e25-c88b43dbe6d6\")) {\n",
       "    Plotly.newPlot(\"f4b15d90-1de2-4928-8e25-c88b43dbe6d6\", [{\"marker\": {\"color\": [317, 313, 284, 254, 231, 195, 181, 155, 144, 136, 131, 131, 129, 105, 102, 80, 79, 74, 74, 69, 68, 68, 66, 55, 55, 55, 55, 54, 52, 47, 47, 45, 44, 43, 43, 42, 40, 40, 39, 39, 37, 36, 35, 32, 32, 32, 31, 31, 31, 30, 29, 28, 28, 27, 27, 27, 27, 26, 25, 25, 25, 24, 24, 23, 23, 23, 22, 22, 22, 22, 21, 21, 21, 21, 21, 21, 20, 20, 20, 20, 20, 20, 20, 20, 19, 19, 19, 19, 18, 18, 18, 18, 18, 18, 18, 18, 18, 17], \"colorscale\": \"Jet\"}, \"text\": \"Word counts\", \"x\": [\"to\", \"the\", \"a\", \"Driverless\", \"car\", \"in\", \"of\", \"and\", \"I\", \"is\", \"on\", \"for\", \"Google\", \"be\", \"will\", \"are\", \"with\", \"you\", \"-\", \"that\", \"by\", \"Google's\", \"The\", \"about\", \"have\", \"Cars\", \"it\", \"California\", \"cars.\", \"no\", \"can\", \"car.\", \"this\", \"just\", \"we\", \"could\", \"via\", \"or\", \"as\", \"one\", \"but\", \"has\", \"at\", \"cars,\", \"RT\", \"my\", \"future\", \"Car\"], \"y\": [317, 313, 284, 254, 231, 195, 181, 155, 144, 136, 131, 131, 129, 105, 102, 80, 79, 74, 74, 69, 68, 68, 66, 55, 55, 55, 55, 54, 52, 47, 47, 45, 44, 43, 43, 42, 40, 40, 39, 39, 37, 36, 35, 32, 32, 32, 31, 31], \"type\": \"bar\", \"uid\": \"db56f97f-8f3e-4bb1-bc17-8c1eaf299b8c\"}], {\"title\": {\"text\": \"Top 50 (Uncleaned) Word frequencies in the Patent dataset\"}}, {\"showLink\": false, \"linkText\": \"Export to plot.ly\", \"plotlyServerURL\": \"https://plot.ly\"}); \n",
       "}\n",
       "});</script><script type=\"text/javascript\">window.addEventListener(\"resize\", function(){if (document.getElementById(\"f4b15d90-1de2-4928-8e25-c88b43dbe6d6\")) {window._Plotly.Plots.resize(document.getElementById(\"f4b15d90-1de2-4928-8e25-c88b43dbe6d6\"));};})</script>"
      ],
      "text/vnd.plotly.v1+html": [
       "<div id=\"f4b15d90-1de2-4928-8e25-c88b43dbe6d6\" style=\"height: 525px; width: 100%;\" class=\"plotly-graph-div\"></div><script type=\"text/javascript\">require([\"plotly\"], function(Plotly) { window.PLOTLYENV=window.PLOTLYENV || {};window.PLOTLYENV.BASE_URL=\"https://plot.ly\";\n",
       "if (document.getElementById(\"f4b15d90-1de2-4928-8e25-c88b43dbe6d6\")) {\n",
       "    Plotly.newPlot(\"f4b15d90-1de2-4928-8e25-c88b43dbe6d6\", [{\"marker\": {\"color\": [317, 313, 284, 254, 231, 195, 181, 155, 144, 136, 131, 131, 129, 105, 102, 80, 79, 74, 74, 69, 68, 68, 66, 55, 55, 55, 55, 54, 52, 47, 47, 45, 44, 43, 43, 42, 40, 40, 39, 39, 37, 36, 35, 32, 32, 32, 31, 31, 31, 30, 29, 28, 28, 27, 27, 27, 27, 26, 25, 25, 25, 24, 24, 23, 23, 23, 22, 22, 22, 22, 21, 21, 21, 21, 21, 21, 20, 20, 20, 20, 20, 20, 20, 20, 19, 19, 19, 19, 18, 18, 18, 18, 18, 18, 18, 18, 18, 17], \"colorscale\": \"Jet\"}, \"text\": \"Word counts\", \"x\": [\"to\", \"the\", \"a\", \"Driverless\", \"car\", \"in\", \"of\", \"and\", \"I\", \"is\", \"on\", \"for\", \"Google\", \"be\", \"will\", \"are\", \"with\", \"you\", \"-\", \"that\", \"by\", \"Google's\", \"The\", \"about\", \"have\", \"Cars\", \"it\", \"California\", \"cars.\", \"no\", \"can\", \"car.\", \"this\", \"just\", \"we\", \"could\", \"via\", \"or\", \"as\", \"one\", \"but\", \"has\", \"at\", \"cars,\", \"RT\", \"my\", \"future\", \"Car\"], \"y\": [317, 313, 284, 254, 231, 195, 181, 155, 144, 136, 131, 131, 129, 105, 102, 80, 79, 74, 74, 69, 68, 68, 66, 55, 55, 55, 55, 54, 52, 47, 47, 45, 44, 43, 43, 42, 40, 40, 39, 39, 37, 36, 35, 32, 32, 32, 31, 31], \"type\": \"bar\", \"uid\": \"db56f97f-8f3e-4bb1-bc17-8c1eaf299b8c\"}], {\"title\": {\"text\": \"Top 50 (Uncleaned) Word frequencies in the Patent dataset\"}}, {\"showLink\": false, \"linkText\": \"Export to plot.ly\", \"plotlyServerURL\": \"https://plot.ly\"}); \n",
       "}\n",
       "});</script><script type=\"text/javascript\">window.addEventListener(\"resize\", function(){if (document.getElementById(\"f4b15d90-1de2-4928-8e25-c88b43dbe6d6\")) {window._Plotly.Plots.resize(document.getElementById(\"f4b15d90-1de2-4928-8e25-c88b43dbe6d6\"));};})</script>"
      ]
     },
     "metadata": {},
     "output_type": "display_data"
    }
   ],
   "source": [
    "all_words = tweet_text.str.split(expand=True).unstack().value_counts()\n",
    "data = [go.Bar(\n",
    "            x = all_words.index.values[2:50],\n",
    "            y = all_words.values[2:50],\n",
    "            marker= dict(colorscale='Jet',\n",
    "                         color = all_words.values[2:100]\n",
    "                        ),\n",
    "            text='Word counts'\n",
    "    )]\n",
    "\n",
    "layout = go.Layout(\n",
    "    title='Top 50 (Uncleaned) Word frequencies in the Patent dataset'\n",
    ")\n",
    "\n",
    "fig = go.Figure(data=data, layout=layout)\n",
    "\n",
    "py.iplot(fig, filename='basic-bar')"
   ]
  },
  {
   "cell_type": "markdown",
   "metadata": {},
   "source": [
    "# Preprocessing and cleaning"
   ]
  },
  {
   "cell_type": "markdown",
   "metadata": {},
   "source": [
    "# All in one step"
   ]
  },
  {
   "cell_type": "code",
   "execution_count": 13,
   "metadata": {},
   "outputs": [
    {
     "data": {
      "text/html": [
       "<div>\n",
       "<style>\n",
       "    .dataframe thead tr:only-child th {\n",
       "        text-align: right;\n",
       "    }\n",
       "\n",
       "    .dataframe thead th {\n",
       "        text-align: left;\n",
       "    }\n",
       "\n",
       "    .dataframe tbody tr th {\n",
       "        vertical-align: top;\n",
       "    }\n",
       "</style>\n",
       "<table border=\"1\" class=\"dataframe\">\n",
       "  <thead>\n",
       "    <tr style=\"text-align: right;\">\n",
       "      <th></th>\n",
       "      <th>sentiment</th>\n",
       "      <th>text</th>\n",
       "    </tr>\n",
       "  </thead>\n",
       "  <tbody>\n",
       "    <tr>\n",
       "      <th>0</th>\n",
       "      <td>5</td>\n",
       "      <td>@manjulamartin @Kirk_Gleason Except trains are...</td>\n",
       "    </tr>\n",
       "    <tr>\n",
       "      <th>1</th>\n",
       "      <td>5</td>\n",
       "      <td>I want a Google driverless car.</td>\n",
       "    </tr>\n",
       "    <tr>\n",
       "      <th>2</th>\n",
       "      <td>5</td>\n",
       "      <td>@Oatmeal @google driverless @TeslaMotors ? Ooo...</td>\n",
       "    </tr>\n",
       "    <tr>\n",
       "      <th>3</th>\n",
       "      <td>5</td>\n",
       "      <td>SO MUCH AWESOME! Amazing video for GoogleÌ¢‰âÂ...</td>\n",
       "    </tr>\n",
       "    <tr>\n",
       "      <th>4</th>\n",
       "      <td>5</td>\n",
       "      <td>@google is making driverless cars which is awe...</td>\n",
       "    </tr>\n",
       "  </tbody>\n",
       "</table>\n",
       "</div>"
      ],
      "text/plain": [
       "   sentiment                                               text\n",
       "0          5  @manjulamartin @Kirk_Gleason Except trains are...\n",
       "1          5                    I want a Google driverless car.\n",
       "2          5  @Oatmeal @google driverless @TeslaMotors ? Ooo...\n",
       "3          5  SO MUCH AWESOME! Amazing video for GoogleÌ¢‰âÂ...\n",
       "4          5  @google is making driverless cars which is awe..."
      ]
     },
     "execution_count": 13,
     "metadata": {},
     "output_type": "execute_result"
    }
   ],
   "source": [
    "df = pd.read_csv('train.csv')\n",
    "df.head()"
   ]
  },
  {
   "cell_type": "code",
   "execution_count": 14,
   "metadata": {
    "collapsed": true
   },
   "outputs": [],
   "source": [
    "import re\n",
    "from nltk.stem import WordNetLemmatizer\n",
    "corpus = [] # defining corpus\n",
    "for i in range(0, len(df['text'])): # giving range of values from 0 to 1000\n",
    "    tweet = re.sub('[^a-zA-Z]', ' ', df['text'][i]) # using i for all values instead of 1 column\n",
    "    tweet = tweet.lower()\n",
    "    tweet = tweet.split()\n",
    "    lemm = WordNetLemmatizer()\n",
    "    stopword_set = set(stopwords.words('english'))\n",
    "    tweet = [lemm.lemmatize(word) for word in tweet if not word in stopword_set]\n",
    "    tweet = ' '.join(tweet)\n",
    "    corpus.append(tweet) # finally attach all these cleaned values to corpus directory"
   ]
  },
  {
   "cell_type": "code",
   "execution_count": 15,
   "metadata": {},
   "outputs": [
    {
     "data": {
      "text/plain": [
       "list"
      ]
     },
     "execution_count": 15,
     "metadata": {},
     "output_type": "execute_result"
    }
   ],
   "source": [
    "type(corpus)"
   ]
  },
  {
   "cell_type": "code",
   "execution_count": 16,
   "metadata": {
    "collapsed": true
   },
   "outputs": [],
   "source": [
    "# convert to series to check words\n",
    "corpus_series = pd.Series(corpus)"
   ]
  },
  {
   "cell_type": "code",
   "execution_count": 17,
   "metadata": {},
   "outputs": [
    {
     "data": {
      "text/html": [
       "<div>\n",
       "<style>\n",
       "    .dataframe thead tr:only-child th {\n",
       "        text-align: right;\n",
       "    }\n",
       "\n",
       "    .dataframe thead th {\n",
       "        text-align: left;\n",
       "    }\n",
       "\n",
       "    .dataframe tbody tr th {\n",
       "        vertical-align: top;\n",
       "    }\n",
       "</style>\n",
       "<table border=\"1\" class=\"dataframe\">\n",
       "  <thead>\n",
       "    <tr style=\"text-align: right;\">\n",
       "      <th></th>\n",
       "      <th>sentiment</th>\n",
       "      <th>text</th>\n",
       "      <th>cleaned</th>\n",
       "    </tr>\n",
       "  </thead>\n",
       "  <tbody>\n",
       "    <tr>\n",
       "      <th>0</th>\n",
       "      <td>5</td>\n",
       "      <td>@manjulamartin @Kirk_Gleason Except trains are...</td>\n",
       "      <td>manjulamartin kirk gleason except train capita...</td>\n",
       "    </tr>\n",
       "    <tr>\n",
       "      <th>1</th>\n",
       "      <td>5</td>\n",
       "      <td>I want a Google driverless car.</td>\n",
       "      <td>want google driverless car</td>\n",
       "    </tr>\n",
       "    <tr>\n",
       "      <th>2</th>\n",
       "      <td>5</td>\n",
       "      <td>@Oatmeal @google driverless @TeslaMotors ? Ooo...</td>\n",
       "      <td>oatmeal google driverless teslamotors ooooh wo...</td>\n",
       "    </tr>\n",
       "    <tr>\n",
       "      <th>3</th>\n",
       "      <td>5</td>\n",
       "      <td>SO MUCH AWESOME! Amazing video for GoogleÌ¢‰âÂ...</td>\n",
       "      <td>much awesome amazing video google next phase d...</td>\n",
       "    </tr>\n",
       "    <tr>\n",
       "      <th>4</th>\n",
       "      <td>5</td>\n",
       "      <td>@google is making driverless cars which is awe...</td>\n",
       "      <td>google making driverless car awesome http co h...</td>\n",
       "    </tr>\n",
       "  </tbody>\n",
       "</table>\n",
       "</div>"
      ],
      "text/plain": [
       "   sentiment                                               text  \\\n",
       "0          5  @manjulamartin @Kirk_Gleason Except trains are...   \n",
       "1          5                    I want a Google driverless car.   \n",
       "2          5  @Oatmeal @google driverless @TeslaMotors ? Ooo...   \n",
       "3          5  SO MUCH AWESOME! Amazing video for GoogleÌ¢‰âÂ...   \n",
       "4          5  @google is making driverless cars which is awe...   \n",
       "\n",
       "                                             cleaned  \n",
       "0  manjulamartin kirk gleason except train capita...  \n",
       "1                         want google driverless car  \n",
       "2  oatmeal google driverless teslamotors ooooh wo...  \n",
       "3  much awesome amazing video google next phase d...  \n",
       "4  google making driverless car awesome http co h...  "
      ]
     },
     "execution_count": 17,
     "metadata": {},
     "output_type": "execute_result"
    }
   ],
   "source": [
    "df['cleaned'] = corpus_series\n",
    "df.head()"
   ]
  },
  {
   "cell_type": "code",
   "execution_count": 19,
   "metadata": {
    "collapsed": true
   },
   "outputs": [],
   "source": [
    "df.to_csv('train_self_drive_clean.csv',index= False, encoding= 'utf-8')"
   ]
  },
  {
   "cell_type": "code",
   "execution_count": 20,
   "metadata": {},
   "outputs": [
    {
     "data": {
      "text/plain": [
       "Index(['sentiment', 'text', 'cleaned'], dtype='object')"
      ]
     },
     "execution_count": 20,
     "metadata": {},
     "output_type": "execute_result"
    }
   ],
   "source": [
    "clean_data=pd.read_csv('train_self_drive_clean.csv', encoding= 'utf-8')\n",
    "clean_data.columns"
   ]
  },
  {
   "cell_type": "code",
   "execution_count": 21,
   "metadata": {},
   "outputs": [
    {
     "data": {
      "text/html": [
       "<div>\n",
       "<style>\n",
       "    .dataframe thead tr:only-child th {\n",
       "        text-align: right;\n",
       "    }\n",
       "\n",
       "    .dataframe thead th {\n",
       "        text-align: left;\n",
       "    }\n",
       "\n",
       "    .dataframe tbody tr th {\n",
       "        vertical-align: top;\n",
       "    }\n",
       "</style>\n",
       "<table border=\"1\" class=\"dataframe\">\n",
       "  <thead>\n",
       "    <tr style=\"text-align: right;\">\n",
       "      <th></th>\n",
       "      <th>sentiment</th>\n",
       "      <th>text</th>\n",
       "      <th>cleaned</th>\n",
       "    </tr>\n",
       "  </thead>\n",
       "  <tbody>\n",
       "    <tr>\n",
       "      <th>0</th>\n",
       "      <td>5</td>\n",
       "      <td>@manjulamartin @Kirk_Gleason Except trains are...</td>\n",
       "      <td>manjulamartin kirk gleason except train capita...</td>\n",
       "    </tr>\n",
       "    <tr>\n",
       "      <th>1</th>\n",
       "      <td>5</td>\n",
       "      <td>I want a Google driverless car.</td>\n",
       "      <td>want google driverless car</td>\n",
       "    </tr>\n",
       "    <tr>\n",
       "      <th>2</th>\n",
       "      <td>5</td>\n",
       "      <td>@Oatmeal @google driverless @TeslaMotors ? Ooo...</td>\n",
       "      <td>oatmeal google driverless teslamotors ooooh wo...</td>\n",
       "    </tr>\n",
       "    <tr>\n",
       "      <th>3</th>\n",
       "      <td>5</td>\n",
       "      <td>SO MUCH AWESOME! Amazing video for GoogleÌ¢‰âÂ...</td>\n",
       "      <td>much awesome amazing video google next phase d...</td>\n",
       "    </tr>\n",
       "    <tr>\n",
       "      <th>4</th>\n",
       "      <td>5</td>\n",
       "      <td>@google is making driverless cars which is awe...</td>\n",
       "      <td>google making driverless car awesome http co h...</td>\n",
       "    </tr>\n",
       "  </tbody>\n",
       "</table>\n",
       "</div>"
      ],
      "text/plain": [
       "   sentiment                                               text  \\\n",
       "0          5  @manjulamartin @Kirk_Gleason Except trains are...   \n",
       "1          5                    I want a Google driverless car.   \n",
       "2          5  @Oatmeal @google driverless @TeslaMotors ? Ooo...   \n",
       "3          5  SO MUCH AWESOME! Amazing video for GoogleÌ¢‰âÂ...   \n",
       "4          5  @google is making driverless cars which is awe...   \n",
       "\n",
       "                                             cleaned  \n",
       "0  manjulamartin kirk gleason except train capita...  \n",
       "1                         want google driverless car  \n",
       "2  oatmeal google driverless teslamotors ooooh wo...  \n",
       "3  much awesome amazing video google next phase d...  \n",
       "4  google making driverless car awesome http co h...  "
      ]
     },
     "execution_count": 21,
     "metadata": {},
     "output_type": "execute_result"
    }
   ],
   "source": [
    "clean_data.head()"
   ]
  },
  {
   "cell_type": "markdown",
   "metadata": {},
   "source": [
    "**We have created a cleaned file for future use**"
   ]
  }
 ],
 "metadata": {
  "kernelspec": {
   "display_name": "Python 3",
   "language": "python",
   "name": "python3"
  },
  "language_info": {
   "codemirror_mode": {
    "name": "ipython",
    "version": 3
   },
   "file_extension": ".py",
   "mimetype": "text/x-python",
   "name": "python",
   "nbconvert_exporter": "python",
   "pygments_lexer": "ipython3",
   "version": "3.6.3"
  }
 },
 "nbformat": 4,
 "nbformat_minor": 2
}
