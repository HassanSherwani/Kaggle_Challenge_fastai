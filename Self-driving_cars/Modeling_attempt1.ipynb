{
 "cells": [
  {
   "cell_type": "markdown",
   "metadata": {},
   "source": [
    "# Modeling"
   ]
  },
  {
   "cell_type": "markdown",
   "metadata": {},
   "source": [
    "# 1) Importing key modules"
   ]
  },
  {
   "cell_type": "code",
   "execution_count": 1,
   "metadata": {},
   "outputs": [],
   "source": [
    "# Let's be rebels and ignore warnings for now\n",
    "import warnings\n",
    "warnings.filterwarnings('ignore')"
   ]
  },
  {
   "cell_type": "code",
   "execution_count": 2,
   "metadata": {},
   "outputs": [
    {
     "name": "stdout",
     "output_type": "stream",
     "text": [
      "Populating the interactive namespace from numpy and matplotlib\n"
     ]
    }
   ],
   "source": [
    "# Visualization \n",
    "import matplotlib.pyplot as plt\n",
    "import seaborn as sns\n",
    "from wordcloud import WordCloud,STOPWORDS\n",
    "%matplotlib inline\n",
    "%pylab inline"
   ]
  },
  {
   "cell_type": "code",
   "execution_count": 3,
   "metadata": {},
   "outputs": [],
   "source": [
    "import pandas as pd\n",
    "import numpy as np\n",
    "import os\n",
    "import string\n",
    "import re"
   ]
  },
  {
   "cell_type": "code",
   "execution_count": 4,
   "metadata": {},
   "outputs": [],
   "source": [
    "from tqdm import tqdm_notebook as tqdm\n",
    "from sklearn.model_selection import train_test_split\n",
    "from sklearn.preprocessing import LabelEncoder\n",
    "from sklearn.utils import class_weight\n",
    "from sklearn.metrics import f1_score, classification_report, log_loss"
   ]
  },
  {
   "cell_type": "code",
   "execution_count": 5,
   "metadata": {},
   "outputs": [
    {
     "name": "stderr",
     "output_type": "stream",
     "text": [
      "Using TensorFlow backend.\n"
     ]
    }
   ],
   "source": [
    "import tensorflow as tf\n",
    "import keras\n",
    "from keras.preprocessing.text import Tokenizer\n",
    "from keras.preprocessing.sequence import pad_sequences\n",
    "from keras.utils import to_categorical\n",
    "\n",
    "from keras.models import Sequential\n",
    "from keras.layers import Embedding, LSTM, Dense, SpatialDropout1D, Bidirectional, Flatten\n",
    "from keras.layers import Dropout, Conv1D, GlobalMaxPool1D, GRU, GlobalAvgPool1D\n",
    "from keras.optimizers import Adam\n",
    "from keras.callbacks import ModelCheckpoint, EarlyStopping"
   ]
  },
  {
   "cell_type": "markdown",
   "metadata": {},
   "source": [
    "# 2) Loading preprocessed dataset"
   ]
  },
  {
   "cell_type": "code",
   "execution_count": 6,
   "metadata": {},
   "outputs": [
    {
     "data": {
      "text/html": [
       "<div>\n",
       "<style scoped>\n",
       "    .dataframe tbody tr th:only-of-type {\n",
       "        vertical-align: middle;\n",
       "    }\n",
       "\n",
       "    .dataframe tbody tr th {\n",
       "        vertical-align: top;\n",
       "    }\n",
       "\n",
       "    .dataframe thead th {\n",
       "        text-align: right;\n",
       "    }\n",
       "</style>\n",
       "<table border=\"1\" class=\"dataframe\">\n",
       "  <thead>\n",
       "    <tr style=\"text-align: right;\">\n",
       "      <th></th>\n",
       "      <th>sentiment</th>\n",
       "      <th>text</th>\n",
       "    </tr>\n",
       "  </thead>\n",
       "  <tbody>\n",
       "    <tr>\n",
       "      <th>0</th>\n",
       "      <td>5</td>\n",
       "      <td>@manjulamartin @Kirk_Gleason Except trains are...</td>\n",
       "    </tr>\n",
       "    <tr>\n",
       "      <th>1</th>\n",
       "      <td>5</td>\n",
       "      <td>I want a Google driverless car.</td>\n",
       "    </tr>\n",
       "    <tr>\n",
       "      <th>2</th>\n",
       "      <td>5</td>\n",
       "      <td>@Oatmeal @google driverless @TeslaMotors ? Ooo...</td>\n",
       "    </tr>\n",
       "    <tr>\n",
       "      <th>3</th>\n",
       "      <td>5</td>\n",
       "      <td>SO MUCH AWESOME! Amazing video for GoogleÌ¢‰âÂ...</td>\n",
       "    </tr>\n",
       "    <tr>\n",
       "      <th>4</th>\n",
       "      <td>5</td>\n",
       "      <td>@google is making driverless cars which is awe...</td>\n",
       "    </tr>\n",
       "  </tbody>\n",
       "</table>\n",
       "</div>"
      ],
      "text/plain": [
       "   sentiment                                               text\n",
       "0          5  @manjulamartin @Kirk_Gleason Except trains are...\n",
       "1          5                    I want a Google driverless car.\n",
       "2          5  @Oatmeal @google driverless @TeslaMotors ? Ooo...\n",
       "3          5  SO MUCH AWESOME! Amazing video for GoogleÌ¢‰âÂ...\n",
       "4          5  @google is making driverless cars which is awe..."
      ]
     },
     "execution_count": 6,
     "metadata": {},
     "output_type": "execute_result"
    }
   ],
   "source": [
    "data = pd.read_csv('self_drive.csv', encoding=\"utf8\")\n",
    "data.head()"
   ]
  },
  {
   "cell_type": "code",
   "execution_count": 7,
   "metadata": {},
   "outputs": [
    {
     "name": "stdout",
     "output_type": "stream",
     "text": [
      "0\n"
     ]
    }
   ],
   "source": [
    "print(data.text.duplicated().sum())"
   ]
  },
  {
   "cell_type": "code",
   "execution_count": 8,
   "metadata": {},
   "outputs": [
    {
     "data": {
      "text/plain": [
       "3    603\n",
       "4    179\n",
       "2    117\n",
       "5     59\n",
       "1     23\n",
       "Name: sentiment, dtype: int64"
      ]
     },
     "execution_count": 8,
     "metadata": {},
     "output_type": "execute_result"
    }
   ],
   "source": [
    "data.sentiment.value_counts()"
   ]
  },
  {
   "cell_type": "code",
   "execution_count": 9,
   "metadata": {},
   "outputs": [
    {
     "data": {
      "text/plain": [
       "(981, 2)"
      ]
     },
     "execution_count": 9,
     "metadata": {},
     "output_type": "execute_result"
    }
   ],
   "source": [
    "data.shape"
   ]
  },
  {
   "cell_type": "code",
   "execution_count": 10,
   "metadata": {},
   "outputs": [],
   "source": [
    "data['sent_type'] = data.sentiment.map({ 1 :'Negative', 2:'Negative',4:'Positive', 5:'Positive',3:'Neutral'})"
   ]
  },
  {
   "cell_type": "code",
   "execution_count": 11,
   "metadata": {},
   "outputs": [
    {
     "data": {
      "text/plain": [
       "Neutral     603\n",
       "Positive    238\n",
       "Negative    140\n",
       "Name: sent_type, dtype: int64"
      ]
     },
     "execution_count": 11,
     "metadata": {},
     "output_type": "execute_result"
    }
   ],
   "source": [
    "data.sent_type.value_counts()"
   ]
  },
  {
   "cell_type": "code",
   "execution_count": 12,
   "metadata": {},
   "outputs": [],
   "source": [
    "data=data.drop(['sentiment'], axis=1)"
   ]
  },
  {
   "cell_type": "code",
   "execution_count": 13,
   "metadata": {},
   "outputs": [
    {
     "data": {
      "text/html": [
       "<div>\n",
       "<style scoped>\n",
       "    .dataframe tbody tr th:only-of-type {\n",
       "        vertical-align: middle;\n",
       "    }\n",
       "\n",
       "    .dataframe tbody tr th {\n",
       "        vertical-align: top;\n",
       "    }\n",
       "\n",
       "    .dataframe thead th {\n",
       "        text-align: right;\n",
       "    }\n",
       "</style>\n",
       "<table border=\"1\" class=\"dataframe\">\n",
       "  <thead>\n",
       "    <tr style=\"text-align: right;\">\n",
       "      <th></th>\n",
       "      <th>text</th>\n",
       "      <th>sent_type</th>\n",
       "    </tr>\n",
       "  </thead>\n",
       "  <tbody>\n",
       "    <tr>\n",
       "      <th>0</th>\n",
       "      <td>@manjulamartin @Kirk_Gleason Except trains are...</td>\n",
       "      <td>Positive</td>\n",
       "    </tr>\n",
       "    <tr>\n",
       "      <th>1</th>\n",
       "      <td>I want a Google driverless car.</td>\n",
       "      <td>Positive</td>\n",
       "    </tr>\n",
       "    <tr>\n",
       "      <th>2</th>\n",
       "      <td>@Oatmeal @google driverless @TeslaMotors ? Ooo...</td>\n",
       "      <td>Positive</td>\n",
       "    </tr>\n",
       "    <tr>\n",
       "      <th>3</th>\n",
       "      <td>SO MUCH AWESOME! Amazing video for GoogleÌ¢‰âÂ...</td>\n",
       "      <td>Positive</td>\n",
       "    </tr>\n",
       "    <tr>\n",
       "      <th>4</th>\n",
       "      <td>@google is making driverless cars which is awe...</td>\n",
       "      <td>Positive</td>\n",
       "    </tr>\n",
       "  </tbody>\n",
       "</table>\n",
       "</div>"
      ],
      "text/plain": [
       "                                                text sent_type\n",
       "0  @manjulamartin @Kirk_Gleason Except trains are...  Positive\n",
       "1                    I want a Google driverless car.  Positive\n",
       "2  @Oatmeal @google driverless @TeslaMotors ? Ooo...  Positive\n",
       "3  SO MUCH AWESOME! Amazing video for GoogleÌ¢‰âÂ...  Positive\n",
       "4  @google is making driverless cars which is awe...  Positive"
      ]
     },
     "execution_count": 13,
     "metadata": {},
     "output_type": "execute_result"
    }
   ],
   "source": [
    "data.head()"
   ]
  },
  {
   "cell_type": "code",
   "execution_count": 14,
   "metadata": {},
   "outputs": [],
   "source": [
    "data.to_pickle('self_drive_model.pkl')"
   ]
  },
  {
   "cell_type": "markdown",
   "metadata": {},
   "source": [
    "## 3) Preprocessing  for modeling"
   ]
  },
  {
   "cell_type": "markdown",
   "metadata": {},
   "source": [
    "### a) Splitting dataset"
   ]
  },
  {
   "cell_type": "code",
   "execution_count": 15,
   "metadata": {},
   "outputs": [
    {
     "name": "stdout",
     "output_type": "stream",
     "text": [
      "(882, 2)\n",
      "(99, 2)\n"
     ]
    }
   ],
   "source": [
    "train, test = train_test_split(data, random_state = 42, test_size=0.1)\n",
    "print(train.shape)\n",
    "print(test.shape)"
   ]
  },
  {
   "cell_type": "code",
   "execution_count": 16,
   "metadata": {},
   "outputs": [
    {
     "data": {
      "text/html": [
       "<div>\n",
       "<style scoped>\n",
       "    .dataframe tbody tr th:only-of-type {\n",
       "        vertical-align: middle;\n",
       "    }\n",
       "\n",
       "    .dataframe tbody tr th {\n",
       "        vertical-align: top;\n",
       "    }\n",
       "\n",
       "    .dataframe thead th {\n",
       "        text-align: right;\n",
       "    }\n",
       "</style>\n",
       "<table border=\"1\" class=\"dataframe\">\n",
       "  <thead>\n",
       "    <tr style=\"text-align: right;\">\n",
       "      <th></th>\n",
       "      <th>text</th>\n",
       "      <th>sent_type</th>\n",
       "    </tr>\n",
       "  </thead>\n",
       "  <tbody>\n",
       "    <tr>\n",
       "      <th>629</th>\n",
       "      <td>FBI Concerned About Criminals Using Driverless...</td>\n",
       "      <td>Neutral</td>\n",
       "    </tr>\n",
       "    <tr>\n",
       "      <th>424</th>\n",
       "      <td>Secrets to Google driverless cars! @TODAYshow ...</td>\n",
       "      <td>Neutral</td>\n",
       "    </tr>\n",
       "    <tr>\n",
       "      <th>715</th>\n",
       "      <td>\"@DanielBurrus: Volvo Is About To Put 100 Driv...</td>\n",
       "      <td>Neutral</td>\n",
       "    </tr>\n",
       "    <tr>\n",
       "      <th>692</th>\n",
       "      <td>Driverless car + Mobile LiDAR: @sustaincities:...</td>\n",
       "      <td>Neutral</td>\n",
       "    </tr>\n",
       "    <tr>\n",
       "      <th>712</th>\n",
       "      <td>The solution for parents who have to drive the...</td>\n",
       "      <td>Neutral</td>\n",
       "    </tr>\n",
       "  </tbody>\n",
       "</table>\n",
       "</div>"
      ],
      "text/plain": [
       "                                                  text sent_type\n",
       "629  FBI Concerned About Criminals Using Driverless...   Neutral\n",
       "424  Secrets to Google driverless cars! @TODAYshow ...   Neutral\n",
       "715  \"@DanielBurrus: Volvo Is About To Put 100 Driv...   Neutral\n",
       "692  Driverless car + Mobile LiDAR: @sustaincities:...   Neutral\n",
       "712  The solution for parents who have to drive the...   Neutral"
      ]
     },
     "execution_count": 16,
     "metadata": {},
     "output_type": "execute_result"
    }
   ],
   "source": [
    "train.head()"
   ]
  },
  {
   "cell_type": "markdown",
   "metadata": {},
   "source": [
    "### b) training constt"
   ]
  },
  {
   "cell_type": "code",
   "execution_count": 17,
   "metadata": {},
   "outputs": [],
   "source": [
    "MAX_SEQ_LEN = 25 #this is based on a quick analysis of the len of sequences train['text'].apply(lambda x : len(x.split(' '))).quantile(0.95)\n",
    "DEFAULT_BATCH_SIZE = 128"
   ]
  },
  {
   "cell_type": "markdown",
   "metadata": {},
   "source": [
    "### c) Let's clean"
   ]
  },
  {
   "cell_type": "code",
   "execution_count": 18,
   "metadata": {},
   "outputs": [],
   "source": [
    "# Mapping of common contractions, could probbaly be done better\n",
    "CONTRACTION_MAPPING = {\"ain't\": \"is not\", \"aren't\": \"are not\",\"can't\": \"cannot\", \"'cause\": \"because\", \"could've\": \"could have\", \"couldn't\": \"could not\", \"didn't\": \"did not\",  \"doesn't\": \"does not\", \"don't\": \"do not\", \"hadn't\": \"had not\", \"hasn't\": \"has not\", \"haven't\": \"have not\", \"he'd\": \"he would\",\"he'll\": \"he will\", \"he's\": \"he is\", \"how'd\": \"how did\", \"how'd'y\": \"how do you\", \"how'll\": \"how will\", \"how's\": \"how is\",  \"I'd\": \"I would\", \"I'd've\": \"I would have\", \"I'll\": \"I will\", \"I'll've\": \"I will have\",\"I'm\": \"I am\", \"I've\": \"I have\", \"i'd\": \"i would\", \"i'd've\": \"i would have\", \"i'll\": \"i will\",  \"i'll've\": \"i will have\",\"i'm\": \"i am\", \"i've\": \"i have\", \"isn't\": \"is not\", \"it'd\": \"it would\", \"it'd've\": \"it would have\", \"it'll\": \"it will\", \"it'll've\": \"it will have\",\"it's\": \"it is\", \"let's\": \"let us\", \"ma'am\": \"madam\", \"mayn't\": \"may not\", \"might've\": \"might have\",\"mightn't\": \"might not\",\"mightn't've\": \"might not have\", \"must've\": \"must have\", \"mustn't\": \"must not\", \"mustn't've\": \"must not have\", \"needn't\": \"need not\", \"needn't've\": \"need not have\",\"o'clock\": \"of the clock\", \"oughtn't\": \"ought not\", \"oughtn't've\": \"ought not have\", \"shan't\": \"shall not\", \"sha'n't\": \"shall not\", \"shan't've\": \"shall not have\", \"she'd\": \"she would\", \"she'd've\": \"she would have\", \"she'll\": \"she will\", \"she'll've\": \"she will have\", \"she's\": \"she is\", \"should've\": \"should have\", \"shouldn't\": \"should not\", \"shouldn't've\": \"should not have\", \"so've\": \"so have\",\"so's\": \"so as\", \"this's\": \"this is\",\"that'd\": \"that would\", \"that'd've\": \"that would have\", \"that's\": \"that is\", \"there'd\": \"there would\", \"there'd've\": \"there would have\", \"there's\": \"there is\", \"here's\": \"here is\",\"they'd\": \"they would\", \"they'd've\": \"they would have\", \"they'll\": \"they will\", \"they'll've\": \"they will have\", \"they're\": \"they are\", \"they've\": \"they have\", \"to've\": \"to have\", \"wasn't\": \"was not\", \"we'd\": \"we would\", \"we'd've\": \"we would have\", \"we'll\": \"we will\", \"we'll've\": \"we will have\", \"we're\": \"we are\", \"we've\": \"we have\", \"weren't\": \"were not\", \"what'll\": \"what will\", \"what'll've\": \"what will have\", \"what're\": \"what are\",  \"what's\": \"what is\", \"what've\": \"what have\", \"when's\": \"when is\", \"when've\": \"when have\", \"where'd\": \"where did\", \"where's\": \"where is\", \"where've\": \"where have\", \"who'll\": \"who will\", \"who'll've\": \"who will have\", \"who's\": \"who is\", \"who've\": \"who have\", \"why's\": \"why is\", \"why've\": \"why have\", \"will've\": \"will have\", \"won't\": \"will not\", \"won't've\": \"will not have\", \"would've\": \"would have\", \"wouldn't\": \"would not\", \"wouldn't've\": \"would not have\", \"y'all\": \"you all\", \"y'all'd\": \"you all would\",\"y'all'd've\": \"you all would have\",\"y'all're\": \"you all are\",\"y'all've\": \"you all have\",\"you'd\": \"you would\", \"you'd've\": \"you would have\", \"you'll\": \"you will\", \"you'll've\": \"you will have\", \"you're\": \"you are\", \"you've\": \"you have\",\n",
    "                       \"It's\": 'It is', \"Can't\": 'Can not',\n",
    "                      }"
   ]
  },
  {
   "cell_type": "code",
   "execution_count": 19,
   "metadata": {},
   "outputs": [],
   "source": [
    "def clean_text(text, mapping):\n",
    "    replace_white_space = [\"\\n\"]\n",
    "    for s in replace_white_space:\n",
    "        text = text.replace(s, \" \")\n",
    "    replace_punctuation = [\"’\", \"‘\", \"´\", \"`\", \"\\'\", r\"\\'\"]\n",
    "    for s in replace_punctuation:\n",
    "        text = text.replace(s, \"'\")\n",
    "    \n",
    "    # Random note: removing the URL's slightly degraded performance, it's possible the model learned that certain URLs were positive/negative\n",
    "    # And was able to extrapolate that to retweets. Could also explain why re-training the Embeddings improves performance.\n",
    "    # remove twitter url's\n",
    "        text = re.sub(r\"http[s]?://t.co/[A-Za-z0-9]*\",\"TWITTERURL\",text)\n",
    "    mapped_string = []\n",
    "    for t in text.split(\" \"):\n",
    "        if t in mapping:\n",
    "            mapped_string.append(mapping[t])\n",
    "        elif t.lower() in mapping:\n",
    "            mapped_string.append(mapping[t.lower()])\n",
    "        else:\n",
    "            mapped_string.append(t)\n",
    "    return ' '.join(mapped_string)"
   ]
  },
  {
   "cell_type": "code",
   "execution_count": 20,
   "metadata": {},
   "outputs": [
    {
     "name": "stdout",
     "output_type": "stream",
     "text": [
      "Number of Tokens: 3683\n",
      "Max Token Index: 3683 \n",
      "\n",
      "Sample Tweet Before Processing: FBI Concerned About Criminals Using Driverless Cars http://t.co/YRxAy75BYY via @slashdot\n",
      "Sample Tweet After Processing: ['FBI Concerned About Criminals Using Driverless Cars TWITTERURL via slashdot'] \n",
      "\n",
      "What the model will interpret: [0, 0, 0, 0, 0, 0, 0, 0, 0, 0, 0, 0, 0, 0, 0, 115, 1195, 387, 515, 1196, 8, 23, 2, 42, 1197]\n"
     ]
    }
   ],
   "source": [
    "# Get tweets from Data frame and convert to list of \"texts\" scrubbing based on clean_text function\n",
    "# CONTRACTION_MAPPING is a map of common contractions(e.g don't => do not)\n",
    "train_text_vec = [clean_text(text, CONTRACTION_MAPPING) for text in train['text'].values]\n",
    "test_text_vec = [clean_text(text, CONTRACTION_MAPPING) for text in test['text'].values]\n",
    "\n",
    "\n",
    "# tokenize the sentences\n",
    "tokenizer = Tokenizer(lower=False)\n",
    "tokenizer.fit_on_texts(train_text_vec)\n",
    "train_text_vec = tokenizer.texts_to_sequences(train_text_vec)\n",
    "test_text_vec = tokenizer.texts_to_sequences(test_text_vec)\n",
    "\n",
    "# pad the sequences\n",
    "train_text_vec = pad_sequences(train_text_vec, maxlen=MAX_SEQ_LEN)\n",
    "test_text_vec = pad_sequences(test_text_vec, maxlen=MAX_SEQ_LEN)\n",
    "\n",
    "print('Number of Tokens:', len(tokenizer.word_index))\n",
    "print(\"Max Token Index:\", train_text_vec.max(), \"\\n\")\n",
    "\n",
    "print('Sample Tweet Before Processing:', train[\"text\"].values[0])\n",
    "print('Sample Tweet After Processing:', tokenizer.sequences_to_texts([train_text_vec[0]]), '\\n')\n",
    "\n",
    "print('What the model will interpret:', train_text_vec[0].tolist())"
   ]
  },
  {
   "cell_type": "markdown",
   "metadata": {},
   "source": [
    "**Of course we could more cleaning and we can use other methods. We will keep it simple and easy for start. Perhaps at later stage, we use other techniques**"
   ]
  },
  {
   "cell_type": "markdown",
   "metadata": {},
   "source": [
    "### d) Dealing with categorical variables \n",
    "sentiment is classified as Negative, Neutral or Positive. To make it suitable for a deep learning model each sentiment will be converted to a vector of length 3, where each position corresponds to a sentiment class: Negative = 0, Neutral = 1 and Positive = 2"
   ]
  },
  {
   "cell_type": "code",
   "execution_count": 21,
   "metadata": {},
   "outputs": [],
   "source": [
    "# One Hot Encode Y values:\n",
    "encoder = LabelEncoder()\n",
    "\n",
    "y_train = encoder.fit_transform(train['sent_type'].values)\n",
    "y_train = to_categorical(y_train) \n",
    "\n",
    "y_test = encoder.fit_transform(test['sent_type'].values)\n",
    "y_test = to_categorical(y_test) "
   ]
  },
  {
   "cell_type": "code",
   "execution_count": 22,
   "metadata": {},
   "outputs": [
    {
     "name": "stdout",
     "output_type": "stream",
     "text": [
      "Distribution of Classes: Counter({'Neutral': 538, 'Positive': 217, 'Negative': 127})\n",
      "[2.31496063 0.5464684  1.35483871]\n"
     ]
    }
   ],
   "source": [
    "# get an idea of the distribution of the text values\n",
    "from collections import Counter\n",
    "ctr = Counter(train['sent_type'].values)\n",
    "print('Distribution of Classes:', ctr)\n",
    "\n",
    "# get class weights for the training data, this will be used data\n",
    "y_train_int = np.argmax(y_train,axis=1)\n",
    "cws = class_weight.compute_class_weight('balanced', np.unique(y_train_int), y_train_int)\n",
    "print(cws)"
   ]
  },
  {
   "cell_type": "markdown",
   "metadata": {},
   "source": [
    "# 4) Model"
   ]
  },
  {
   "cell_type": "markdown",
   "metadata": {},
   "source": [
    "### i-Baselines\n",
    "- Use Dominant class\n",
    "- Use Naive bayes and Random Forest ML\n",
    "- Compare with DL algorithms"
   ]
  },
  {
   "cell_type": "code",
   "execution_count": 23,
   "metadata": {},
   "outputs": [],
   "source": [
    "# confusion matrix define\n",
    "import matplotlib.pyplot as plt\n",
    "from sklearn.metrics import confusion_matrix\n",
    "from sklearn.utils.multiclass import unique_labels\n",
    "\n",
    "np.set_printoptions(precision=4)\n",
    "def plot_confusion_matrix(y_true, y_pred, classes,\n",
    "                          normalize=False,\n",
    "                          title=None,\n",
    "                          cmap=plt.cm.Blues):\n",
    "    \"\"\"\n",
    "    This function prints and plots the confusion matrix.\n",
    "    Normalization can be applied by setting `normalize=True`.\n",
    "    \"\"\"\n",
    "\n",
    "    # Compute confusion matrix\n",
    "    classes = classes[unique_labels(y_true, y_pred)]\n",
    "    _cm = confusion_matrix(y_true, y_pred)\n",
    "\n",
    "    print(classification_report(y_true, y_pred, target_names=classes))\n",
    "        \n",
    "    def _build_matrix(fig, ax, cm, normalize = False):\n",
    "        if normalize:\n",
    "            title = 'Normalized confusion matrix'\n",
    "        else:\n",
    "            title = 'Confusion matrix, without normalization'\n",
    "        \n",
    "        if normalize:\n",
    "            cm = cm.astype('float') / cm.sum(axis=1)[:, np.newaxis]\n",
    "\n",
    "        im = ax.imshow(cm, cmap=cmap)\n",
    "#         fig.colorbar(im, ax=ax)\n",
    "        \n",
    "        # We want to show all ticks...\n",
    "        ax.set(xticks=np.arange(cm.shape[1]),\n",
    "               yticks=np.arange(cm.shape[0]),\n",
    "               # ... and label them with the respective list entries\n",
    "               xticklabels=classes, \n",
    "               yticklabels=classes,\n",
    "               title=title,\n",
    "               ylabel='True label',\n",
    "               xlabel='Predicted label')\n",
    "\n",
    "        # Rotate the tick labels and set their alignment.\n",
    "        plt.setp(ax.get_xticklabels(), rotation=45, ha=\"right\", rotation_mode=\"anchor\")\n",
    "\n",
    "        # Loop over data dimensions and create text annotations.\n",
    "        fmt = '.2f' if normalize else 'd'\n",
    "        thresh = cm.max() / 2.\n",
    "        for i in range(cm.shape[0]):\n",
    "            for j in range(cm.shape[1]):\n",
    "                ax.text(j, i, format(cm[i, j], fmt),\n",
    "                        ha=\"center\", va=\"center\",\n",
    "                        color=\"white\" if cm[i, j] > thresh else \"black\")\n",
    "        \n",
    "    fig, [ax1, ax2] = plt.subplots(nrows = 1, ncols = 2, figsize=(8, 4))\n",
    "    _build_matrix(fig, ax1, cm = _cm, normalize=False)\n",
    "    _build_matrix(fig, ax2, cm = _cm, normalize=True)\n",
    "    fig.tight_layout()"
   ]
  },
  {
   "cell_type": "code",
   "execution_count": 24,
   "metadata": {},
   "outputs": [
    {
     "name": "stdout",
     "output_type": "stream",
     "text": [
      "Dominant Class:  Neutral\n",
      "Baseline Accuracy Dominant Class 0.6565656565656566\n",
      "F1 Score: 0.050379334470243564\n"
     ]
    }
   ],
   "source": [
    "print('Dominant Class: ', ctr.most_common(n = 1)[0][0])\n",
    "print('Baseline Accuracy Dominant Class', (ctr.most_common(n = 1)[0][0] == test['sent_type'].values).mean())\n",
    "\n",
    "preds = np.zeros_like(y_test) # its kind of close to what null accuracy does. We are checking acc. of neg sentiment\n",
    "preds[:, 0] = 1\n",
    "preds[0] = 1 #done to suppress warning from numpy for f1 score\n",
    "print('F1 Score:', f1_score(y_test, preds, average='weighted'))"
   ]
  },
  {
   "cell_type": "markdown",
   "metadata": {},
   "source": [
    "**From here, we get a rough idea what our accuracy and F1 scores could be. Let's see if our models improve on this or not !!!**"
   ]
  },
  {
   "cell_type": "markdown",
   "metadata": {},
   "source": [
    "### ii-Naive Bayes"
   ]
  },
  {
   "cell_type": "code",
   "execution_count": 25,
   "metadata": {},
   "outputs": [
    {
     "name": "stdout",
     "output_type": "stream",
     "text": [
      "Baseline Accuracy Using Naive Bayes:  0.6666666666666666\n",
      "F1 Score: 0.5429250677438072\n",
      "              precision    recall  f1-score   support\n",
      "\n",
      "    Negative       0.00      0.00      0.00        13\n",
      "     Neutral       0.66      1.00      0.80        65\n",
      "    Positive       1.00      0.05      0.09        21\n",
      "\n",
      "   micro avg       0.67      0.67      0.67        99\n",
      "   macro avg       0.55      0.35      0.30        99\n",
      "weighted avg       0.65      0.67      0.54        99\n",
      "\n"
     ]
    },
    {
     "data": {
      "image/png": "[encoded data removed]",
      "text/plain": [
       "<matplotlib.figure.Figure at 0x1fc5f582a20>"
      ]
     },
     "metadata": {
      "needs_background": "light"
     },
     "output_type": "display_data"
    }
   ],
   "source": [
    "from sklearn.feature_extraction.text import CountVectorizer\n",
    "from sklearn.feature_extraction.text import TfidfTransformer\n",
    "from sklearn.naive_bayes import MultinomialNB\n",
    "from sklearn.pipeline import Pipeline\n",
    "\n",
    "text_clf = Pipeline([\n",
    "    ('vect', CountVectorizer()),\n",
    "    ('tfidf', TfidfTransformer()),\n",
    "    ('clf', MultinomialNB()),\n",
    "])\n",
    "text_clf.fit(tokenizer.sequences_to_texts_generator(train_text_vec), y_train.argmax(axis=1))\n",
    "predictions = text_clf.predict(tokenizer.sequences_to_texts_generator(test_text_vec)) \n",
    "print('Baseline Accuracy Using Naive Bayes: ', (predictions == y_test.argmax(axis = 1)).mean())\n",
    "print('F1 Score:', f1_score(y_test.argmax(axis = 1), predictions, average='weighted'))\n",
    "\n",
    "_ = plot_confusion_matrix(y_test.argmax(axis = 1), predictions, classes=encoder.classes_, title='Confusion matrix, without normalization')"
   ]
  },
  {
   "cell_type": "markdown",
   "metadata": {},
   "source": [
    "Naive Bayes is a good baseline, but is not robust to imblanced datasets, common with classification of \"real-world\" data.In this case rebalancing the data would require throwing away a lot of neutral examples or significantly oversampling the positive/negative cases. "
   ]
  },
  {
   "cell_type": "markdown",
   "metadata": {},
   "source": [
    "### iii- Random Forest"
   ]
  },
  {
   "cell_type": "code",
   "execution_count": 26,
   "metadata": {},
   "outputs": [
    {
     "name": "stdout",
     "output_type": "stream",
     "text": [
      "Baseline Accuracy Using RFC:  0.7575757575757576\n",
      "F1 Score: 0.7095467663649482\n",
      "              precision    recall  f1-score   support\n",
      "\n",
      "    Negative       1.00      0.23      0.38        13\n",
      "     Neutral       0.73      1.00      0.84        65\n",
      "    Positive       1.00      0.33      0.50        21\n",
      "\n",
      "   micro avg       0.76      0.76      0.76        99\n",
      "   macro avg       0.91      0.52      0.57        99\n",
      "weighted avg       0.82      0.76      0.71        99\n",
      "\n"
     ]
    },
    {
     "data": {
      "image/png": "[encoded data removed]",
      "text/plain": [
       "<matplotlib.figure.Figure at 0x1fc5f5c06a0>"
      ]
     },
     "metadata": {
      "needs_background": "light"
     },
     "output_type": "display_data"
    }
   ],
   "source": [
    "from sklearn.feature_extraction.text import CountVectorizer\n",
    "from sklearn.feature_extraction.text import TfidfTransformer\n",
    "from sklearn.naive_bayes import MultinomialNB\n",
    "from sklearn.ensemble import RandomForestClassifier\n",
    "from sklearn.pipeline import Pipeline\n",
    "\n",
    "text_clf = Pipeline([\n",
    "    ('vect', CountVectorizer()),\n",
    "    ('tfidf', TfidfTransformer()),\n",
    "    ('clf', RandomForestClassifier(class_weight='balanced', n_estimators=100)), #100 estimators will be the new default in version 0.22\n",
    "])\n",
    "text_clf.fit(tokenizer.sequences_to_texts_generator(train_text_vec), y_train.argmax(axis=1))\n",
    "predictions = text_clf.predict(tokenizer.sequences_to_texts_generator(test_text_vec)) \n",
    "print('Baseline Accuracy Using RFC: ', (predictions == y_test.argmax(axis = 1)).mean())\n",
    "print('F1 Score:', f1_score(y_test.argmax(axis = 1), predictions, average='weighted'))\n",
    "\n",
    "_ = plot_confusion_matrix(y_test.argmax(axis = 1), predictions, classes=encoder.classes_)"
   ]
  },
  {
   "cell_type": "markdown",
   "metadata": {},
   "source": [
    "The metric we'll be interested are Accuracy, which is self-explanatory and F1 Score, which blends the precision and recall scores for each class. F1 Score is generally a better measure of the performance of a model, especially when classes are imbalanced.\n",
    "\n",
    "Between our Baselines the Random Forest Classifier performs the best by a large margin (mostly because it's robust to class imbalance).\n",
    "\n",
    "Our goal is to see if we can produce a model that has a F1 Score > ~0.67\n"
   ]
  },
  {
   "cell_type": "markdown",
   "metadata": {},
   "source": [
    "### iii- Neural Networks"
   ]
  },
  {
   "cell_type": "code",
   "execution_count": 27,
   "metadata": {},
   "outputs": [],
   "source": [
    "#train the models\n",
    "def threshold_search(y_true, y_proba, average = None):\n",
    "    best_threshold = 0\n",
    "    best_score = 0\n",
    "    for threshold in [i * 0.01 for i in range(100)]:\n",
    "        score = f1_score(y_true=y_true, y_pred=y_proba > threshold, average=average)\n",
    "        if score > best_score:\n",
    "            best_threshold = threshold\n",
    "            best_score = score\n",
    "    search_result = {'threshold': best_threshold, 'f1': best_score}\n",
    "    return search_result\n",
    "\n",
    "\n",
    "def train(model, \n",
    "          X_train, y_train, X_test, y_test, \n",
    "          checkpoint_path='model.hdf5', \n",
    "          epcohs = 25, \n",
    "          batch_size = DEFAULT_BATCH_SIZE, \n",
    "          class_weights = None, \n",
    "          fit_verbose=2,\n",
    "          print_summary = True\n",
    "         ):\n",
    "    m = model()\n",
    "    if print_summary:\n",
    "        print(m.summary())\n",
    "    m.fit(\n",
    "        X_train, \n",
    "        y_train, \n",
    "        #this is bad practice using test data for validation, in a real case would use a seperate validation set\n",
    "        validation_data=(X_test, y_test),  \n",
    "        epochs=epcohs, \n",
    "        batch_size=batch_size,\n",
    "        class_weight=class_weights,\n",
    "         #saves the most accurate model, usually you would save the one with the lowest loss\n",
    "        callbacks= [\n",
    "            ModelCheckpoint(checkpoint_path, monitor='val_acc', verbose=1, save_best_only=True),\n",
    "            EarlyStopping(patience = 2)\n",
    "        ],\n",
    "        verbose=fit_verbose\n",
    "    ) \n",
    "    print(\"\\n\\n****************************\\n\\n\")\n",
    "    print('Loading Best Model...')\n",
    "    m.load_weights(checkpoint_path)\n",
    "    predictions = m.predict(X_test, verbose=1)\n",
    "    print('Validation Loss:', log_loss(y_test, predictions))\n",
    "    print('Test Accuracy', (predictions.argmax(axis = 1) == y_test.argmax(axis = 1)).mean())\n",
    "    print('F1 Score:', f1_score(y_test.argmax(axis = 1), predictions.argmax(axis = 1), average='weighted'))\n",
    "    plot_confusion_matrix(y_test.argmax(axis = 1), predictions.argmax(axis = 1), classes=encoder.classes_)\n",
    "    plt.show()    \n",
    "    return m #returns best performing model"
   ]
  },
  {
   "cell_type": "code",
   "execution_count": 28,
   "metadata": {},
   "outputs": [
    {
     "name": "stdout",
     "output_type": "stream",
     "text": [
      "WARNING:tensorflow:From C:\\Program Files\\Anaconda3\\lib\\site-packages\\tensorflow\\python\\framework\\op_def_library.py:263: colocate_with (from tensorflow.python.framework.ops) is deprecated and will be removed in a future version.\n",
      "Instructions for updating:\n",
      "Colocations handled automatically by placer.\n",
      "_________________________________________________________________\n",
      "Layer (type)                 Output Shape              Param #   \n",
      "=================================================================\n",
      "embedding_1 (Embedding)      (None, 25, 128)           471552    \n",
      "_________________________________________________________________\n",
      "lstm_1 (LSTM)                (None, 128)               131584    \n",
      "_________________________________________________________________\n",
      "dense_1 (Dense)              (None, 64)                8256      \n",
      "_________________________________________________________________\n",
      "dense_2 (Dense)              (None, 3)                 195       \n",
      "=================================================================\n",
      "Total params: 611,587\n",
      "Trainable params: 611,587\n",
      "Non-trainable params: 0\n",
      "_________________________________________________________________\n",
      "None\n",
      "WARNING:tensorflow:From C:\\Program Files\\Anaconda3\\lib\\site-packages\\tensorflow\\python\\ops\\math_ops.py:3066: to_int32 (from tensorflow.python.ops.math_ops) is deprecated and will be removed in a future version.\n",
      "Instructions for updating:\n",
      "Use tf.cast instead.\n",
      "Train on 882 samples, validate on 99 samples\n",
      "Epoch 1/25\n",
      " - 1s - loss: 1.0742 - acc: 0.5680 - val_loss: 0.9938 - val_acc: 0.6566\n",
      "\n",
      "Epoch 00001: val_acc improved from -inf to 0.65657, saving model to model_1.h5\n",
      "Epoch 2/25\n",
      " - 0s - loss: 0.9444 - acc: 0.6100 - val_loss: 0.8222 - val_acc: 0.6566\n",
      "\n",
      "Epoch 00002: val_acc did not improve from 0.65657\n",
      "Epoch 3/25\n",
      " - 0s - loss: 0.8801 - acc: 0.6100 - val_loss: 0.8140 - val_acc: 0.6566\n",
      "\n",
      "Epoch 00003: val_acc did not improve from 0.65657\n",
      "Epoch 4/25\n",
      " - 0s - loss: 0.8185 - acc: 0.6100 - val_loss: 0.7663 - val_acc: 0.6566\n",
      "\n",
      "Epoch 00004: val_acc did not improve from 0.65657\n",
      "Epoch 5/25\n",
      " - 0s - loss: 0.7170 - acc: 0.6224 - val_loss: 0.7145 - val_acc: 0.6667\n",
      "\n",
      "Epoch 00005: val_acc improved from 0.65657 to 0.66667, saving model to model_1.h5\n",
      "Epoch 6/25\n",
      " - 0s - loss: 0.5592 - acc: 0.7449 - val_loss: 0.8563 - val_acc: 0.7071\n",
      "\n",
      "Epoch 00006: val_acc improved from 0.66667 to 0.70707, saving model to model_1.h5\n",
      "Epoch 7/25\n",
      " - 0s - loss: 0.4461 - acc: 0.7948 - val_loss: 0.9156 - val_acc: 0.6970\n",
      "\n",
      "Epoch 00007: val_acc did not improve from 0.70707\n",
      "\n",
      "\n",
      "****************************\n",
      "\n",
      "\n",
      "Loading Best Model...\n",
      "99/99 [==============================] - ETA:  - 0s 947us/step\n",
      "Validation Loss: 0.856271228028434\n",
      "Test Accuracy 0.7070707070707071\n",
      "F1 Score: 0.6735315559868822\n",
      "              precision    recall  f1-score   support\n",
      "\n",
      "    Negative       0.47      0.54      0.50        13\n",
      "     Neutral       0.81      0.92      0.86        65\n",
      "    Positive       0.30      0.14      0.19        21\n",
      "\n",
      "   micro avg       0.71      0.71      0.71        99\n",
      "   macro avg       0.53      0.53      0.52        99\n",
      "weighted avg       0.66      0.71      0.67        99\n",
      "\n"
     ]
    },
    {
     "data": {
      "image/png": "[encoded data removed]",
      "text/plain": [
       "<matplotlib.figure.Figure at 0x1fc637359b0>"
      ]
     },
     "metadata": {
      "needs_background": "light"
     },
     "output_type": "display_data"
    }
   ],
   "source": [
    "#simple implementation of an LSTM\n",
    "def model_1():\n",
    "    model = Sequential()\n",
    "    model.add(Embedding(input_dim = (len(tokenizer.word_counts) + 1), output_dim = 128, input_length = MAX_SEQ_LEN))\n",
    "    model.add(LSTM(128))\n",
    "    model.add(Dense(64, activation='relu'))\n",
    "    model.add(Dense(3, activation='softmax'))\n",
    "    model.compile(loss='categorical_crossentropy', optimizer='adam', metrics=['accuracy'])\n",
    "    return model\n",
    "\n",
    "m1 = train(model_1, \n",
    "           train_text_vec,\n",
    "           y_train,\n",
    "           test_text_vec,\n",
    "           y_test,\n",
    "           checkpoint_path='model_1.h5',\n",
    "           class_weights=cws\n",
    "          )"
   ]
  },
  {
   "cell_type": "markdown",
   "metadata": {},
   "source": [
    "we have a good baseline Neural Network Architecture we'll begin building on it. By adding more layers and increasing the complexity"
   ]
  },
  {
   "cell_type": "markdown",
   "metadata": {},
   "source": [
    "### b-Bidiretional LSTM"
   ]
  },
  {
   "cell_type": "code",
   "execution_count": 29,
   "metadata": {},
   "outputs": [
    {
     "name": "stdout",
     "output_type": "stream",
     "text": [
      "WARNING:tensorflow:From C:\\Users\\69785hsh\\AppData\\Roaming\\Python\\Python36\\site-packages\\keras\\backend\\tensorflow_backend.py:3445: calling dropout (from tensorflow.python.ops.nn_ops) with keep_prob is deprecated and will be removed in a future version.\n",
      "Instructions for updating:\n",
      "Please use `rate` instead of `keep_prob`. Rate should be set to `rate = 1 - keep_prob`.\n",
      "_________________________________________________________________\n",
      "Layer (type)                 Output Shape              Param #   \n",
      "=================================================================\n",
      "embedding_2 (Embedding)      (None, 25, 128)           471552    \n",
      "_________________________________________________________________\n",
      "spatial_dropout1d_1 (Spatial (None, 25, 128)           0         \n",
      "_________________________________________________________________\n",
      "bidirectional_1 (Bidirection (None, 256)               263168    \n",
      "_________________________________________________________________\n",
      "dense_3 (Dense)              (None, 64)                16448     \n",
      "_________________________________________________________________\n",
      "dense_4 (Dense)              (None, 3)                 195       \n",
      "=================================================================\n",
      "Total params: 751,363\n",
      "Trainable params: 751,363\n",
      "Non-trainable params: 0\n",
      "_________________________________________________________________\n",
      "None\n",
      "Train on 882 samples, validate on 99 samples\n",
      "Epoch 1/25\n",
      " - 3s - loss: 1.0542 - acc: 0.5442 - val_loss: 0.9301 - val_acc: 0.6566\n",
      "\n",
      "Epoch 00001: val_acc improved from -inf to 0.65657, saving model to model_1b.h5\n",
      "Epoch 2/25\n",
      " - 1s - loss: 0.9360 - acc: 0.6100 - val_loss: 0.8411 - val_acc: 0.6566\n",
      "\n",
      "Epoch 00002: val_acc did not improve from 0.65657\n",
      "Epoch 3/25\n",
      " - 1s - loss: 0.9052 - acc: 0.6100 - val_loss: 0.8567 - val_acc: 0.6566\n",
      "\n",
      "Epoch 00003: val_acc did not improve from 0.65657\n",
      "Epoch 4/25\n",
      " - 1s - loss: 0.8910 - acc: 0.6100 - val_loss: 0.8255 - val_acc: 0.6566\n",
      "\n",
      "Epoch 00004: val_acc did not improve from 0.65657\n",
      "Epoch 5/25\n",
      " - 1s - loss: 0.8559 - acc: 0.6100 - val_loss: 0.7963 - val_acc: 0.6566\n",
      "\n",
      "Epoch 00005: val_acc did not improve from 0.65657\n",
      "Epoch 6/25\n",
      " - 1s - loss: 0.7830 - acc: 0.6190 - val_loss: 0.7261 - val_acc: 0.6566\n",
      "\n",
      "Epoch 00006: val_acc did not improve from 0.65657\n",
      "Epoch 7/25\n",
      " - 1s - loss: 0.6611 - acc: 0.7177 - val_loss: 0.7234 - val_acc: 0.7071\n",
      "\n",
      "Epoch 00007: val_acc improved from 0.65657 to 0.70707, saving model to model_1b.h5\n",
      "Epoch 8/25\n",
      " - 1s - loss: 0.5056 - acc: 0.7857 - val_loss: 0.7564 - val_acc: 0.6768\n",
      "\n",
      "Epoch 00008: val_acc did not improve from 0.70707\n",
      "Epoch 9/25\n",
      " - 1s - loss: 0.4034 - acc: 0.8492 - val_loss: 0.8685 - val_acc: 0.7071\n",
      "\n",
      "Epoch 00009: val_acc did not improve from 0.70707\n",
      "\n",
      "\n",
      "****************************\n",
      "\n",
      "\n",
      "Loading Best Model...\n",
      "99/99 [==============================] - ETA:  - 0s 3ms/step\n",
      "Validation Loss: 0.7233880503253654\n",
      "Test Accuracy 0.7070707070707071\n",
      "F1 Score: 0.6700502562571528\n",
      "              precision    recall  f1-score   support\n",
      "\n",
      "    Negative       0.44      0.54      0.48        13\n",
      "     Neutral       0.80      0.92      0.86        65\n",
      "    Positive       0.38      0.14      0.21        21\n",
      "\n",
      "   micro avg       0.71      0.71      0.71        99\n",
      "   macro avg       0.54      0.53      0.52        99\n",
      "weighted avg       0.66      0.71      0.67        99\n",
      "\n"
     ]
    },
    {
     "data": {
      "image/png": "[encoded data removed]",
      "text/plain": [
       "<matplotlib.figure.Figure at 0x1fc6a5a9f98>"
      ]
     },
     "metadata": {
      "needs_background": "light"
     },
     "output_type": "display_data"
    }
   ],
   "source": [
    "def model_1b():\n",
    "    \"\"\"\n",
    "    Using a Bidiretional LSTM. \n",
    "    \"\"\"\n",
    "    model = Sequential()\n",
    "    model.add(Embedding(input_dim = (len(tokenizer.word_counts) + 1), output_dim = 128, input_length = MAX_SEQ_LEN))\n",
    "    model.add(SpatialDropout1D(0.3))\n",
    "    model.add(Bidirectional(LSTM(128, dropout=0.25, recurrent_dropout=0.25)))\n",
    "    model.add(Dense(64, activation='relu'))\n",
    "#     model.add(Dropout(0.3))\n",
    "    model.add(Dense(3, activation='softmax'))\n",
    "    model.compile(loss='categorical_crossentropy', optimizer='adam', metrics=['accuracy'])\n",
    "    return model\n",
    "\n",
    "_ = train(model_1b, \n",
    "           train_text_vec,\n",
    "           y_train,\n",
    "           test_text_vec,\n",
    "           y_test,\n",
    "           checkpoint_path='model_1b.h5',\n",
    "           class_weights=cws,\n",
    "           print_summary = True\n",
    "          )"
   ]
  },
  {
   "cell_type": "markdown",
   "metadata": {},
   "source": [
    "### c)Adding dropout to reduce overfitting"
   ]
  },
  {
   "cell_type": "code",
   "execution_count": 30,
   "metadata": {},
   "outputs": [
    {
     "name": "stdout",
     "output_type": "stream",
     "text": [
      "_________________________________________________________________\n",
      "Layer (type)                 Output Shape              Param #   \n",
      "=================================================================\n",
      "embedding_3 (Embedding)      (None, 25, 128)           471552    \n",
      "_________________________________________________________________\n",
      "spatial_dropout1d_2 (Spatial (None, 25, 128)           0         \n",
      "_________________________________________________________________\n",
      "bidirectional_2 (Bidirection (None, 25, 256)           263168    \n",
      "_________________________________________________________________\n",
      "conv1d_1 (Conv1D)            (None, 22, 64)            65600     \n",
      "_________________________________________________________________\n",
      "global_max_pooling1d_1 (Glob (None, 64)                0         \n",
      "_________________________________________________________________\n",
      "dense_5 (Dense)              (None, 64)                4160      \n",
      "_________________________________________________________________\n",
      "dense_6 (Dense)              (None, 3)                 195       \n",
      "=================================================================\n",
      "Total params: 804,675\n",
      "Trainable params: 804,675\n",
      "Non-trainable params: 0\n",
      "_________________________________________________________________\n",
      "None\n",
      "WARNING:tensorflow:From C:\\Program Files\\Anaconda3\\lib\\site-packages\\tensorflow\\python\\ops\\math_grad.py:102: div (from tensorflow.python.ops.math_ops) is deprecated and will be removed in a future version.\n",
      "Instructions for updating:\n",
      "Deprecated in favor of operator or tf.math.divide.\n",
      "Train on 882 samples, validate on 99 samples\n",
      "Epoch 1/25\n",
      " - 3s - loss: 1.0026 - acc: 0.6100 - val_loss: 0.8528 - val_acc: 0.6566\n",
      "\n",
      "Epoch 00001: val_acc improved from -inf to 0.65657, saving model to model_1c.h5\n",
      "Epoch 2/25\n",
      " - 1s - loss: 0.9298 - acc: 0.6100 - val_loss: 0.8708 - val_acc: 0.6566\n",
      "\n",
      "Epoch 00002: val_acc did not improve from 0.65657\n",
      "Epoch 3/25\n",
      " - 1s - loss: 0.9164 - acc: 0.6100 - val_loss: 0.8405 - val_acc: 0.6566\n",
      "\n",
      "Epoch 00003: val_acc did not improve from 0.65657\n",
      "Epoch 4/25\n",
      " - 1s - loss: 0.8914 - acc: 0.6100 - val_loss: 0.8226 - val_acc: 0.6566\n",
      "\n",
      "Epoch 00004: val_acc did not improve from 0.65657\n",
      "Epoch 5/25\n",
      " - 1s - loss: 0.8426 - acc: 0.6100 - val_loss: 0.7676 - val_acc: 0.6465\n",
      "\n",
      "Epoch 00005: val_acc did not improve from 0.65657\n",
      "Epoch 6/25\n",
      " - 1s - loss: 0.6804 - acc: 0.6927 - val_loss: 0.7865 - val_acc: 0.6970\n",
      "\n",
      "Epoch 00006: val_acc improved from 0.65657 to 0.69697, saving model to model_1c.h5\n",
      "Epoch 7/25\n",
      " - 1s - loss: 0.5345 - acc: 0.7710 - val_loss: 0.8083 - val_acc: 0.7172\n",
      "\n",
      "Epoch 00007: val_acc improved from 0.69697 to 0.71717, saving model to model_1c.h5\n",
      "\n",
      "\n",
      "****************************\n",
      "\n",
      "\n",
      "Loading Best Model...\n",
      "99/99 [==============================] - ETA:  - 0s 4ms/step\n",
      "Validation Loss: 0.808252977683396\n",
      "Test Accuracy 0.7171717171717171\n",
      "F1 Score: 0.6765104956500917\n",
      "              precision    recall  f1-score   support\n",
      "\n",
      "    Negative       0.00      0.00      0.00        13\n",
      "     Neutral       0.84      0.89      0.87        65\n",
      "    Positive       0.43      0.62      0.51        21\n",
      "\n",
      "   micro avg       0.72      0.72      0.72        99\n",
      "   macro avg       0.42      0.50      0.46        99\n",
      "weighted avg       0.64      0.72      0.68        99\n",
      "\n"
     ]
    },
    {
     "data": {
      "image/png": "[encoded data removed]",
      "text/plain": [
       "<matplotlib.figure.Figure at 0x1fc7639e2e8>"
      ]
     },
     "metadata": {
      "needs_background": "light"
     },
     "output_type": "display_data"
    }
   ],
   "source": [
    "def model_1c():\n",
    "    \"\"\"\n",
    "    Adding dropout to reduce overfitting using a bidiretional LSTM\n",
    "    \"\"\"\n",
    "    model = Sequential()\n",
    "    model.add(Embedding(input_dim = (len(tokenizer.word_counts) + 1), output_dim = 128, input_length = MAX_SEQ_LEN))\n",
    "    model.add(SpatialDropout1D(0.3))\n",
    "    model.add(Bidirectional(LSTM(128, dropout=0.25, recurrent_dropout=0.25, return_sequences=True)))\n",
    "    model.add(Conv1D(64, 4))\n",
    "#     model.add(Flatten())\n",
    "    model.add(GlobalMaxPool1D())\n",
    "    model.add(Dense(64, activation='relu'))\n",
    "    model.add(Dense(3, activation='softmax'))\n",
    "    model.compile(loss='categorical_crossentropy', optimizer='adam', metrics=['accuracy'])\n",
    "#     print(model.summary())\n",
    "    return model\n",
    "\n",
    "\n",
    "_ = train(model_1c, \n",
    "           train_text_vec,\n",
    "           y_train,\n",
    "           test_text_vec,\n",
    "           y_test,\n",
    "           checkpoint_path='model_1c.h5',\n",
    "           class_weights=cws,\n",
    "           print_summary = True\n",
    "          )"
   ]
  },
  {
   "cell_type": "markdown",
   "metadata": {},
   "source": [
    "### d)Convolutional NLP"
   ]
  },
  {
   "cell_type": "code",
   "execution_count": 31,
   "metadata": {},
   "outputs": [
    {
     "name": "stdout",
     "output_type": "stream",
     "text": [
      "_________________________________________________________________\n",
      "Layer (type)                 Output Shape              Param #   \n",
      "=================================================================\n",
      "embedding_4 (Embedding)      (None, 25, 128)           471552    \n",
      "_________________________________________________________________\n",
      "spatial_dropout1d_3 (Spatial (None, 25, 128)           0         \n",
      "_________________________________________________________________\n",
      "conv1d_2 (Conv1D)            (None, 21, 64)            41024     \n",
      "_________________________________________________________________\n",
      "conv1d_3 (Conv1D)            (None, 19, 64)            12352     \n",
      "_________________________________________________________________\n",
      "conv1d_4 (Conv1D)            (None, 18, 64)            8256      \n",
      "_________________________________________________________________\n",
      "global_max_pooling1d_2 (Glob (None, 64)                0         \n",
      "_________________________________________________________________\n",
      "dense_7 (Dense)              (None, 64)                4160      \n",
      "_________________________________________________________________\n",
      "dense_8 (Dense)              (None, 3)                 195       \n",
      "=================================================================\n",
      "Total params: 537,539\n",
      "Trainable params: 537,539\n",
      "Non-trainable params: 0\n",
      "_________________________________________________________________\n",
      "None\n",
      "Train on 882 samples, validate on 99 samples\n",
      "Epoch 1/25\n",
      " - 1s - loss: 1.0214 - acc: 0.5862 - val_loss: 0.8580 - val_acc: 0.6566\n",
      "\n",
      "Epoch 00001: val_acc improved from -inf to 0.65657, saving model to model_1d.h5\n",
      "Epoch 2/25\n",
      " - 0s - loss: 0.9193 - acc: 0.6100 - val_loss: 0.8597 - val_acc: 0.6566\n",
      "\n",
      "Epoch 00002: val_acc did not improve from 0.65657\n",
      "Epoch 3/25\n",
      " - 0s - loss: 0.9024 - acc: 0.6100 - val_loss: 0.8543 - val_acc: 0.6566\n",
      "\n",
      "Epoch 00003: val_acc did not improve from 0.65657\n",
      "Epoch 4/25\n",
      " - 0s - loss: 0.8687 - acc: 0.6100 - val_loss: 0.8227 - val_acc: 0.6566\n",
      "\n",
      "Epoch 00004: val_acc did not improve from 0.65657\n",
      "Epoch 5/25\n",
      " - 0s - loss: 0.8110 - acc: 0.6134 - val_loss: 0.7822 - val_acc: 0.6364\n",
      "\n",
      "Epoch 00005: val_acc did not improve from 0.65657\n",
      "Epoch 6/25\n",
      " - 0s - loss: 0.6909 - acc: 0.6871 - val_loss: 0.7047 - val_acc: 0.6970\n",
      "\n",
      "Epoch 00006: val_acc improved from 0.65657 to 0.69697, saving model to model_1d.h5\n",
      "Epoch 7/25\n",
      " - 0s - loss: 0.4865 - acc: 0.8016 - val_loss: 0.6578 - val_acc: 0.7677\n",
      "\n",
      "Epoch 00007: val_acc improved from 0.69697 to 0.76768, saving model to model_1d.h5\n",
      "Epoch 8/25\n",
      " - 0s - loss: 0.2781 - acc: 0.9116 - val_loss: 0.7292 - val_acc: 0.7879\n",
      "\n",
      "Epoch 00008: val_acc improved from 0.76768 to 0.78788, saving model to model_1d.h5\n",
      "Epoch 9/25\n",
      " - 0s - loss: 0.1143 - acc: 0.9683 - val_loss: 0.9536 - val_acc: 0.7879\n",
      "\n",
      "Epoch 00009: val_acc did not improve from 0.78788\n",
      "\n",
      "\n",
      "****************************\n",
      "\n",
      "\n",
      "Loading Best Model...\n",
      "99/99 [==============================] - ETA:  - 0s 2ms/step\n",
      "Validation Loss: 0.7291637069808503\n",
      "Test Accuracy 0.7878787878787878\n",
      "F1 Score: 0.7780503989512358\n",
      "              precision    recall  f1-score   support\n",
      "\n",
      "    Negative       0.86      0.46      0.60        13\n",
      "     Neutral       0.83      0.92      0.88        65\n",
      "    Positive       0.60      0.57      0.59        21\n",
      "\n",
      "   micro avg       0.79      0.79      0.79        99\n",
      "   macro avg       0.76      0.65      0.69        99\n",
      "weighted avg       0.79      0.79      0.78        99\n",
      "\n"
     ]
    },
    {
     "data": {
      "image/png": "[encoded data removed]",
      "text/plain": [
       "<matplotlib.figure.Figure at 0x1fc7c454be0>"
      ]
     },
     "metadata": {
      "needs_background": "light"
     },
     "output_type": "display_data"
    }
   ],
   "source": [
    "def model_1d():\n",
    "    \"\"\"\n",
    "    Just for fun below is a model only using covolutions. This is pretty good and also trains very quickly(and predictions would also likely be fast) compared to the LSTM...\n",
    "    It's equivalent to using an n-gram based approach.\n",
    "    Usually in practice you would use a more complex architecture with multiple parallel convolutions that are combined before pooling(and usually both max and avg).\n",
    "    Pure Convolutional NLP is definitely a solution worth exploring further.\n",
    "    \"\"\"\n",
    "    model = Sequential()\n",
    "    model.add(Embedding(input_dim = (len(tokenizer.word_counts) + 1), output_dim = 128, input_length = MAX_SEQ_LEN))\n",
    "    model.add(SpatialDropout1D(0.3))\n",
    "    model.add(Conv1D(64, 5))\n",
    "    model.add(Conv1D(64, 3))\n",
    "    model.add(Conv1D(64, 2))\n",
    "    model.add(GlobalMaxPool1D())\n",
    "    model.add(Dense(64, activation='relu'))\n",
    "    model.add(Dense(3, activation='softmax'))\n",
    "    model.compile(loss='categorical_crossentropy', optimizer='adam', metrics=['accuracy'])\n",
    "    return model\n",
    "\n",
    "\n",
    "_ = train(model_1d, \n",
    "           train_text_vec,\n",
    "           y_train,\n",
    "           test_text_vec,\n",
    "           y_test,\n",
    "           checkpoint_path='model_1d.h5',\n",
    "           class_weights=cws,\n",
    "           print_summary = True\n",
    "          )"
   ]
  },
  {
   "cell_type": "markdown",
   "metadata": {},
   "source": [
    "**When dealing with neural network, it is important to know that we are looking for Loss function now as key evaluation parameter.**"
   ]
  },
  {
   "cell_type": "markdown",
   "metadata": {},
   "source": [
    "# Conclusion:\n",
    "We got 0.73 loss from our neural network. Naive Bayes which is very reliable method in text classifier literature did not work that well. Do you wonder why?<br>\n",
    "\n",
    "In most data science courses, we walk around all the new techniques and algorithms. But, we forget the focus. It's data cleaning. Have we cleaned our well enough? Answer is \"not good enough\". In my next excercises, I would work on more techniques of data cleaning than round 1 and round2. Then we will run our results again to see if there is any improvement."
   ]
  },
  {
   "cell_type": "code",
   "execution_count": 32,
   "metadata": {},
   "outputs": [
    {
     "name": "stdout",
     "output_type": "stream",
     "text": [
      "Residuals Analysis:\n",
      "[[13  0  0]\n",
      " [65  0  0]\n",
      " [21  0  0]]\n",
      "idx: 0\n",
      "True Label: Neutral\n",
      "Predicted Label: Negative\n",
      "Probability Prediction [1. 1. 1.]\n",
      "Neutral :: @AdamVolle Well, not without driverless cars, completely automated factories and stores, etc. Someone needs to be around to produce. \n",
      "\n",
      "idx: 1\n",
      "True Label: Neutral\n",
      "Predicted Label: Negative\n",
      "Probability Prediction [1. 0. 0.]\n",
      "Neutral :: DMV Hosts NorCal Workshop To Create Rules For Driverless Cars: SAN JOSE (CBS/AP) Ì¢‰âÂ‰Û With auto officials saying... http://t.co/NsAba7thQ3 \n",
      "\n",
      "idx: 2\n",
      "True Label: Positive\n",
      "Predicted Label: Negative\n",
      "Probability Prediction [1. 0. 0.]\n",
      "Positive :: Can't wait for driverless vehicles to be the norm, obviously we are a while away cause it's still spell checked as a word :) \n",
      "\n",
      "idx: 3\n",
      "True Label: Neutral\n",
      "Predicted Label: Negative\n",
      "Probability Prediction [1. 0. 0.]\n",
      "Neutral :: Ever-vigilant DC cops pull over Google's driverless car. http://t.co/RltLZAUk Amazingly, no one was injured. \n",
      "\n",
      "idx: 4\n",
      "True Label: Positive\n",
      "Predicted Label: Negative\n",
      "Probability Prediction [1. 0. 0.]\n",
      "Positive :: @grescoe Driverless cars will make buses &amp; taxis unnecessary and will solve parking issues. Kids will do more sports &amp; activities too. \n",
      "\n",
      "idx: 5\n",
      "True Label: Neutral\n",
      "Predicted Label: Negative\n",
      "Probability Prediction [1. 0. 0.]\n",
      "Neutral :: Google's driverless cars are expected to become legal on California roads today. http://t.co/JBQJtX3l \n",
      "\n",
      "idx: 6\n",
      "True Label: Neutral\n",
      "Predicted Label: Negative\n",
      "Probability Prediction [1. 0. 0.]\n",
      "Neutral :: Ì¢‰âÂÒ@engadget: California Governor Brown signs bill clearing use of driverless cars on public roads (video) -  http://t.co/fVCvFuPfÌ¢‰âÂå YES \n",
      "\n",
      "idx: 7\n",
      "True Label: Neutral\n",
      "Predicted Label: Negative\n",
      "Probability Prediction [1. 0. 0.]\n",
      "Neutral :: Iowa County says yes to driverless cars http://t.co/tk6tDYXM55 @USAtoday @IADA_Bruce #driverlesscars #autonomous #cars #selfdrivingcars \n",
      "\n",
      "idx: 9\n",
      "True Label: Neutral\n",
      "Predicted Label: Negative\n",
      "Probability Prediction [1. 0. 0.]\n",
      "Neutral :: California giving Google licenses for driverless cars - 300M to @Uber Ì¡ü‰Û÷å @MaxJCrowley http://t.co/rVXumeD3Wo \n",
      "\n",
      "idx: 10\n",
      "True Label: Neutral\n",
      "Predicted Label: Negative\n",
      "Probability Prediction [1. 0. 0.]\n",
      "Neutral :: Hey, so does my life! Ì¢‰âÂÒ@nytimes: Google's newest driverless car has no steering wheel or gas pedal and only 2 buttons: start and panicÌ¢‰âÂå \n",
      "\n",
      "idx: 11\n",
      "True Label: Positive\n",
      "Predicted Label: Negative\n",
      "Probability Prediction [1. 0. 0.]\n",
      "Positive :: Actually I believe that less people will be nervous seeing the Google driverless car come down the street than one with me behind the wheel. \n",
      "\n",
      "idx: 12\n",
      "True Label: Neutral\n",
      "Predicted Label: Negative\n",
      "Probability Prediction [1. 0. 0.]\n",
      "Neutral :: DMV ponders how to regulate driverless cars: California must set guidelines by 2015. http://t.co/Y2PXruSG31 \n",
      "\n",
      "idx: 13\n",
      "True Label: Neutral\n",
      "Predicted Label: Negative\n",
      "Probability Prediction [1. 0. 0.]\n",
      "Neutral :: @RobynBresnahan Driverless cars will fix the taxi industry, except who will we ask how the economy is doing? \n",
      "\n",
      "idx: 16\n",
      "True Label: Positive\n",
      "Predicted Label: Negative\n",
      "Probability Prediction [1. 0. 0.]\n",
      "Positive :: \"We'd love to have driverless cars at @Uber...would cut out biggest cost...make rides much cheaper\" @travisk #CodeCon http://t.co/WeIKrLCSeQ \n",
      "\n",
      "idx: 17\n",
      "True Label: Neutral\n",
      "Predicted Label: Negative\n",
      "Probability Prediction [1. 0. 0.]\n",
      "Neutral :: Google's driverless car has driven 500000 miles in CA already. #yptbwp \n",
      "\n",
      "idx: 18\n",
      "True Label: Neutral\n",
      "Predicted Label: Negative\n",
      "Probability Prediction [1. 0. 0.]\n",
      "Neutral :: You mean to tell me we have driverless cars but vacums still sound like kingkong ? Why... \n",
      "\n",
      "idx: 21\n",
      "True Label: Neutral\n",
      "Predicted Label: Negative\n",
      "Probability Prediction [1. 0. 0.]\n",
      "Neutral :: @Vespa59 besides drone? Via Google Driverless Car? \n",
      "\n",
      "idx: 22\n",
      "True Label: Neutral\n",
      "Predicted Label: Negative\n",
      "Probability Prediction [1. 0. 0.]\n",
      "Neutral :: Ì¢‰âÂÒ@Qualcomm: CEO Steve Mollenkopf shares his thoughts on driverless cars &amp; more at #codecon. http://t.co/UsrIj1FFWM here's mines Terminator! \n",
      "\n",
      "idx: 23\n",
      "True Label: Neutral\n",
      "Predicted Label: Negative\n",
      "Probability Prediction [1. 0. 0.]\n",
      "Neutral :: @streetsblogCHI driverless cars are on the way. \n",
      "\n",
      "idx: 25\n",
      "True Label: Neutral\n",
      "Predicted Label: Negative\n",
      "Probability Prediction [1. 0. 0.]\n",
      "Neutral :: Ì¢‰âÂÒ@VentureBeat: U.K. science minister races to legalize driverless cars http://t.co/UvxPGhagYa by @EricBlattberg cc @jeremywaite \n",
      "\n",
      "idx: 26\n",
      "True Label: Neutral\n",
      "Predicted Label: Negative\n",
      "Probability Prediction [1. 0. 0.]\n",
      "Neutral :: i hacked my driverless car so now it just drives the streets at night alone, wondering where the time went; why we're here; how it will end \n",
      "\n"
     ]
    }
   ],
   "source": [
    "from sklearn.metrics import confusion_matrix\n",
    "print('Residuals Analysis:', )\n",
    "print(confusion_matrix(y_test.argmax(axis = 1),preds.argmax(axis = 1)))\n",
    "\n",
    "\n",
    "ctr = 0\n",
    "for i in range(y_test.shape[0]):\n",
    "    true_label = y_test[i].argmax()\n",
    "    pred_label = preds[i].argmax()\n",
    "    if true_label != pred_label:\n",
    "        print('idx:', i)\n",
    "        print('True Label:', encoder.classes_[true_label])\n",
    "        print('Predicted Label:', encoder.classes_[pred_label])\n",
    "        print('Probability Prediction', preds[i])\n",
    "        print(test['sent_type'].values[i], '::',  test['text'].values[i], '\\n')\n",
    "        ctr += 1\n",
    "    \n",
    "    if ctr > 20:\n",
    "        break"
   ]
  },
  {
   "cell_type": "markdown",
   "metadata": {},
   "source": [
    "**Even our model predicts so bad. Could it be only predicting issue or something else need to be done?**"
   ]
  }
 ],
 "metadata": {
  "kernelspec": {
   "display_name": "Python 3",
   "language": "python",
   "name": "python3"
  },
  "language_info": {
   "codemirror_mode": {
    "name": "ipython",
    "version": 3
   },
   "file_extension": ".py",
   "mimetype": "text/x-python",
   "name": "python",
   "nbconvert_exporter": "python",
   "pygments_lexer": "ipython3",
   "version": "3.6.3"
  }
 },
 "nbformat": 4,
 "nbformat_minor": 2
}
