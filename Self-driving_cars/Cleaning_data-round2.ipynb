{
 "cells": [
  {
   "cell_type": "markdown",
   "metadata": {},
   "source": [
    "# Cleaning and pre-processing dataset\n",
    "In this round, we will use stemming techniques instead of lemm technique. As we have already done in first cleaning attempt."
   ]
  },
  {
   "cell_type": "markdown",
   "metadata": {},
   "source": [
    "# 1) Importing key modules"
   ]
  },
  {
   "cell_type": "code",
   "execution_count": 1,
   "metadata": {
    "collapsed": true
   },
   "outputs": [],
   "source": [
    "# Let's be rebels and ignore warnings for now\n",
    "import warnings\n",
    "warnings.filterwarnings('ignore')\n",
    "warnings.filterwarnings(action='ignore', category=UserWarning, module='gensim')\n",
    "warnings.filterwarnings(\"ignore\", category=DeprecationWarning) "
   ]
  },
  {
   "cell_type": "code",
   "execution_count": 2,
   "metadata": {},
   "outputs": [
    {
     "name": "stdout",
     "output_type": "stream",
     "text": [
      "Populating the interactive namespace from numpy and matplotlib\n"
     ]
    }
   ],
   "source": [
    "# Visualization \n",
    "import matplotlib.pyplot as plt\n",
    "import seaborn as sns\n",
    "from wordcloud import WordCloud,STOPWORDS\n",
    "%matplotlib inline\n",
    "%pylab inline"
   ]
  },
  {
   "cell_type": "code",
   "execution_count": 3,
   "metadata": {},
   "outputs": [
    {
     "data": {
      "text/html": [
       "<script type=\"text/javascript\">window.PlotlyConfig = {MathJaxConfig: 'local'};</script><script type=\"text/javascript\">if (window.MathJax) {MathJax.Hub.Config({SVG: {font: \"STIX-Web\"}});}</script><script>requirejs.config({paths: { 'plotly': ['https://cdn.plot.ly/plotly-latest.min']},});if(!window._Plotly) {require(['plotly'],function(plotly) {window._Plotly=plotly;});}</script>"
      ],
      "text/vnd.plotly.v1+html": [
       "<script type=\"text/javascript\">window.PlotlyConfig = {MathJaxConfig: 'local'};</script><script type=\"text/javascript\">if (window.MathJax) {MathJax.Hub.Config({SVG: {font: \"STIX-Web\"}});}</script><script>requirejs.config({paths: { 'plotly': ['https://cdn.plot.ly/plotly-latest.min']},});if(!window._Plotly) {require(['plotly'],function(plotly) {window._Plotly=plotly;});}</script>"
      ]
     },
     "metadata": {},
     "output_type": "display_data"
    }
   ],
   "source": [
    "# Plotly imports\n",
    "import plotly.offline as py\n",
    "py.init_notebook_mode(connected=True)\n",
    "import plotly.graph_objs as go\n",
    "import plotly.tools as tls"
   ]
  },
  {
   "cell_type": "code",
   "execution_count": 4,
   "metadata": {
    "collapsed": true
   },
   "outputs": [],
   "source": [
    "# For Processing\n",
    "import re\n",
    "import nltk\n",
    "import pandas as pd\n",
    "import numpy as np\n",
    "import gensim\n",
    "import string"
   ]
  },
  {
   "cell_type": "code",
   "execution_count": 5,
   "metadata": {
    "collapsed": true
   },
   "outputs": [],
   "source": [
    "# Other imports\n",
    "from collections import Counter\n",
    "from scipy.misc import imread\n",
    "from sklearn.feature_extraction.text import TfidfVectorizer, CountVectorizer\n",
    "from sklearn.decomposition import NMF, LatentDirichletAllocation"
   ]
  },
  {
   "cell_type": "code",
   "execution_count": 6,
   "metadata": {
    "collapsed": true
   },
   "outputs": [],
   "source": [
    "# Import packages for text analysis and modeling\n",
    "from nltk.corpus import stopwords\n",
    "import string\n",
    "import math\n",
    "from sklearn.feature_extraction.text import CountVectorizer\n",
    "from sklearn.model_selection import train_test_split, cross_val_score\n",
    "from sklearn.metrics import classification_report\n",
    "from sklearn.metrics import confusion_matrix, accuracy_score, roc_auc_score, roc_curve\n",
    "from sklearn.model_selection import learning_curve, GridSearchCV"
   ]
  },
  {
   "cell_type": "markdown",
   "metadata": {},
   "source": [
    "# 2)- Loading datset"
   ]
  },
  {
   "cell_type": "code",
   "execution_count": 7,
   "metadata": {},
   "outputs": [
    {
     "data": {
      "text/plain": [
       "Index(['sentiment', 'text'], dtype='object')"
      ]
     },
     "execution_count": 7,
     "metadata": {},
     "output_type": "execute_result"
    }
   ],
   "source": [
    "# LOADING THE DATASET AND SEEING THE DETAILS\n",
    "data = pd.read_csv('self_drive.csv')\n",
    "data.columns"
   ]
  },
  {
   "cell_type": "code",
   "execution_count": 8,
   "metadata": {},
   "outputs": [
    {
     "data": {
      "text/html": [
       "<div>\n",
       "<style>\n",
       "    .dataframe thead tr:only-child th {\n",
       "        text-align: right;\n",
       "    }\n",
       "\n",
       "    .dataframe thead th {\n",
       "        text-align: left;\n",
       "    }\n",
       "\n",
       "    .dataframe tbody tr th {\n",
       "        vertical-align: top;\n",
       "    }\n",
       "</style>\n",
       "<table border=\"1\" class=\"dataframe\">\n",
       "  <thead>\n",
       "    <tr style=\"text-align: right;\">\n",
       "      <th></th>\n",
       "      <th>sentiment</th>\n",
       "      <th>text</th>\n",
       "    </tr>\n",
       "  </thead>\n",
       "  <tbody>\n",
       "    <tr>\n",
       "      <th>0</th>\n",
       "      <td>5</td>\n",
       "      <td>@manjulamartin @Kirk_Gleason Except trains are...</td>\n",
       "    </tr>\n",
       "    <tr>\n",
       "      <th>1</th>\n",
       "      <td>5</td>\n",
       "      <td>I want a Google driverless car.</td>\n",
       "    </tr>\n",
       "    <tr>\n",
       "      <th>2</th>\n",
       "      <td>5</td>\n",
       "      <td>@Oatmeal @google driverless @TeslaMotors ? Ooo...</td>\n",
       "    </tr>\n",
       "    <tr>\n",
       "      <th>3</th>\n",
       "      <td>5</td>\n",
       "      <td>SO MUCH AWESOME! Amazing video for GoogleÌ¢‰âÂ...</td>\n",
       "    </tr>\n",
       "    <tr>\n",
       "      <th>4</th>\n",
       "      <td>5</td>\n",
       "      <td>@google is making driverless cars which is awe...</td>\n",
       "    </tr>\n",
       "  </tbody>\n",
       "</table>\n",
       "</div>"
      ],
      "text/plain": [
       "   sentiment                                               text\n",
       "0          5  @manjulamartin @Kirk_Gleason Except trains are...\n",
       "1          5                    I want a Google driverless car.\n",
       "2          5  @Oatmeal @google driverless @TeslaMotors ? Ooo...\n",
       "3          5  SO MUCH AWESOME! Amazing video for GoogleÌ¢‰âÂ...\n",
       "4          5  @google is making driverless cars which is awe..."
      ]
     },
     "execution_count": 8,
     "metadata": {},
     "output_type": "execute_result"
    }
   ],
   "source": [
    "data.head()"
   ]
  },
  {
   "cell_type": "code",
   "execution_count": 9,
   "metadata": {},
   "outputs": [
    {
     "data": {
      "text/plain": [
       "'@manjulamartin @Kirk_Gleason Except trains are very capital intensive and have limited mobility. Driverless cars are the best of both worlds'"
      ]
     },
     "execution_count": 9,
     "metadata": {},
     "output_type": "execute_result"
    }
   ],
   "source": [
    "data['text'][0]"
   ]
  },
  {
   "cell_type": "markdown",
   "metadata": {
    "collapsed": true
   },
   "source": [
    "# 3)- Visualize what we have"
   ]
  },
  {
   "cell_type": "code",
   "execution_count": 10,
   "metadata": {
    "collapsed": true
   },
   "outputs": [],
   "source": [
    "check_words=data['text']"
   ]
  },
  {
   "cell_type": "markdown",
   "metadata": {},
   "source": [
    "### Plotting for the Top 50 word frequencies"
   ]
  },
  {
   "cell_type": "code",
   "execution_count": 11,
   "metadata": {},
   "outputs": [
    {
     "data": {
      "application/vnd.plotly.v1+json": {
       "config": {
        "linkText": "Export to plot.ly",
        "plotlyServerURL": "https://plot.ly",
        "showLink": false
       },
       "data": [
        {
         "marker": {
          "color": [
           317,
           313,
           284,
           254,
           231,
           195,
           181,
           155,
           144,
           136,
           131,
           131,
           129,
           105,
           102,
           80,
           79,
           74,
           74,
           69,
           68,
           68,
           66,
           55,
           55,
           55,
           55,
           54,
           52,
           47,
           47,
           45,
           44,
           43,
           43,
           42,
           40,
           40,
           39,
           39,
           37,
           36,
           35,
           32,
           32,
           32,
           31,
           31,
           31,
           30,
           29,
           28,
           28,
           27,
           27,
           27,
           27,
           26,
           25,
           25,
           25,
           24,
           24,
           23,
           23,
           23,
           22,
           22,
           22,
           22,
           21,
           21,
           21,
           21,
           21,
           21,
           20,
           20,
           20,
           20,
           20,
           20,
           20,
           20,
           19,
           19,
           19,
           19,
           18,
           18,
           18,
           18,
           18,
           18,
           18,
           18,
           18,
           17
          ],
          "colorscale": "Jet"
         },
         "text": "Word counts",
         "type": "bar",
         "uid": "294c66d4-ce93-438b-bf97-642133a185a4",
         "x": [
          "to",
          "the",
          "a",
          "Driverless",
          "car",
          "in",
          "of",
          "and",
          "I",
          "is",
          "on",
          "for",
          "Google",
          "be",
          "will",
          "are",
          "with",
          "-",
          "you",
          "that",
          "Google's",
          "by",
          "The",
          "about",
          "it",
          "Cars",
          "have",
          "California",
          "cars.",
          "can",
          "no",
          "car.",
          "this",
          "we",
          "just",
          "could",
          "or",
          "via",
          "one",
          "as",
          "but",
          "has",
          "at",
          "my",
          "RT",
          "cars,",
          "Car",
          "like"
         ],
         "y": [
          317,
          313,
          284,
          254,
          231,
          195,
          181,
          155,
          144,
          136,
          131,
          131,
          129,
          105,
          102,
          80,
          79,
          74,
          74,
          69,
          68,
          68,
          66,
          55,
          55,
          55,
          55,
          54,
          52,
          47,
          47,
          45,
          44,
          43,
          43,
          42,
          40,
          40,
          39,
          39,
          37,
          36,
          35,
          32,
          32,
          32,
          31,
          31
         ]
        }
       ],
       "layout": {
        "title": {
         "text": "Top 50 (uncleaned) Word frequencies in the dataset"
        }
       }
      },
      "text/html": [
       "<div id=\"4801ee9d-30b2-4985-98bf-d46412e64ed6\" style=\"height: 525px; width: 100%;\" class=\"plotly-graph-div\"></div><script type=\"text/javascript\">require([\"plotly\"], function(Plotly) { window.PLOTLYENV=window.PLOTLYENV || {};window.PLOTLYENV.BASE_URL=\"https://plot.ly\";\n",
       "if (document.getElementById(\"4801ee9d-30b2-4985-98bf-d46412e64ed6\")) {\n",
       "    Plotly.newPlot(\"4801ee9d-30b2-4985-98bf-d46412e64ed6\", [{\"marker\": {\"color\": [317, 313, 284, 254, 231, 195, 181, 155, 144, 136, 131, 131, 129, 105, 102, 80, 79, 74, 74, 69, 68, 68, 66, 55, 55, 55, 55, 54, 52, 47, 47, 45, 44, 43, 43, 42, 40, 40, 39, 39, 37, 36, 35, 32, 32, 32, 31, 31, 31, 30, 29, 28, 28, 27, 27, 27, 27, 26, 25, 25, 25, 24, 24, 23, 23, 23, 22, 22, 22, 22, 21, 21, 21, 21, 21, 21, 20, 20, 20, 20, 20, 20, 20, 20, 19, 19, 19, 19, 18, 18, 18, 18, 18, 18, 18, 18, 18, 17], \"colorscale\": \"Jet\"}, \"text\": \"Word counts\", \"x\": [\"to\", \"the\", \"a\", \"Driverless\", \"car\", \"in\", \"of\", \"and\", \"I\", \"is\", \"on\", \"for\", \"Google\", \"be\", \"will\", \"are\", \"with\", \"-\", \"you\", \"that\", \"Google's\", \"by\", \"The\", \"about\", \"it\", \"Cars\", \"have\", \"California\", \"cars.\", \"can\", \"no\", \"car.\", \"this\", \"we\", \"just\", \"could\", \"or\", \"via\", \"one\", \"as\", \"but\", \"has\", \"at\", \"my\", \"RT\", \"cars,\", \"Car\", \"like\"], \"y\": [317, 313, 284, 254, 231, 195, 181, 155, 144, 136, 131, 131, 129, 105, 102, 80, 79, 74, 74, 69, 68, 68, 66, 55, 55, 55, 55, 54, 52, 47, 47, 45, 44, 43, 43, 42, 40, 40, 39, 39, 37, 36, 35, 32, 32, 32, 31, 31], \"type\": \"bar\", \"uid\": \"294c66d4-ce93-438b-bf97-642133a185a4\"}], {\"title\": {\"text\": \"Top 50 (uncleaned) Word frequencies in the dataset\"}}, {\"showLink\": false, \"linkText\": \"Export to plot.ly\", \"plotlyServerURL\": \"https://plot.ly\"}); \n",
       "}\n",
       "});</script><script type=\"text/javascript\">window.addEventListener(\"resize\", function(){if (document.getElementById(\"4801ee9d-30b2-4985-98bf-d46412e64ed6\")) {window._Plotly.Plots.resize(document.getElementById(\"4801ee9d-30b2-4985-98bf-d46412e64ed6\"));};})</script>"
      ],
      "text/vnd.plotly.v1+html": [
       "<div id=\"4801ee9d-30b2-4985-98bf-d46412e64ed6\" style=\"height: 525px; width: 100%;\" class=\"plotly-graph-div\"></div><script type=\"text/javascript\">require([\"plotly\"], function(Plotly) { window.PLOTLYENV=window.PLOTLYENV || {};window.PLOTLYENV.BASE_URL=\"https://plot.ly\";\n",
       "if (document.getElementById(\"4801ee9d-30b2-4985-98bf-d46412e64ed6\")) {\n",
       "    Plotly.newPlot(\"4801ee9d-30b2-4985-98bf-d46412e64ed6\", [{\"marker\": {\"color\": [317, 313, 284, 254, 231, 195, 181, 155, 144, 136, 131, 131, 129, 105, 102, 80, 79, 74, 74, 69, 68, 68, 66, 55, 55, 55, 55, 54, 52, 47, 47, 45, 44, 43, 43, 42, 40, 40, 39, 39, 37, 36, 35, 32, 32, 32, 31, 31, 31, 30, 29, 28, 28, 27, 27, 27, 27, 26, 25, 25, 25, 24, 24, 23, 23, 23, 22, 22, 22, 22, 21, 21, 21, 21, 21, 21, 20, 20, 20, 20, 20, 20, 20, 20, 19, 19, 19, 19, 18, 18, 18, 18, 18, 18, 18, 18, 18, 17], \"colorscale\": \"Jet\"}, \"text\": \"Word counts\", \"x\": [\"to\", \"the\", \"a\", \"Driverless\", \"car\", \"in\", \"of\", \"and\", \"I\", \"is\", \"on\", \"for\", \"Google\", \"be\", \"will\", \"are\", \"with\", \"-\", \"you\", \"that\", \"Google's\", \"by\", \"The\", \"about\", \"it\", \"Cars\", \"have\", \"California\", \"cars.\", \"can\", \"no\", \"car.\", \"this\", \"we\", \"just\", \"could\", \"or\", \"via\", \"one\", \"as\", \"but\", \"has\", \"at\", \"my\", \"RT\", \"cars,\", \"Car\", \"like\"], \"y\": [317, 313, 284, 254, 231, 195, 181, 155, 144, 136, 131, 131, 129, 105, 102, 80, 79, 74, 74, 69, 68, 68, 66, 55, 55, 55, 55, 54, 52, 47, 47, 45, 44, 43, 43, 42, 40, 40, 39, 39, 37, 36, 35, 32, 32, 32, 31, 31], \"type\": \"bar\", \"uid\": \"294c66d4-ce93-438b-bf97-642133a185a4\"}], {\"title\": {\"text\": \"Top 50 (uncleaned) Word frequencies in the dataset\"}}, {\"showLink\": false, \"linkText\": \"Export to plot.ly\", \"plotlyServerURL\": \"https://plot.ly\"}); \n",
       "}\n",
       "});</script><script type=\"text/javascript\">window.addEventListener(\"resize\", function(){if (document.getElementById(\"4801ee9d-30b2-4985-98bf-d46412e64ed6\")) {window._Plotly.Plots.resize(document.getElementById(\"4801ee9d-30b2-4985-98bf-d46412e64ed6\"));};})</script>"
      ]
     },
     "metadata": {},
     "output_type": "display_data"
    }
   ],
   "source": [
    "all_words = check_words.str.split(expand=True).unstack().value_counts()\n",
    "data = [go.Bar(\n",
    "            x = all_words.index.values[2:50],\n",
    "            y = all_words.values[2:50],\n",
    "            marker= dict(colorscale='Jet',\n",
    "                         color = all_words.values[2:100]\n",
    "                        ),\n",
    "            text='Word counts'\n",
    "    )]\n",
    "\n",
    "layout = go.Layout(\n",
    "    title='Top 50 (uncleaned) Word frequencies in the dataset'\n",
    ")\n",
    "\n",
    "fig = go.Figure(data=data, layout=layout)\n",
    "\n",
    "py.iplot(fig, filename='basic-bar')"
   ]
  },
  {
   "cell_type": "markdown",
   "metadata": {},
   "source": [
    "### Plotting  for the Bottom 100 word frequencies"
   ]
  },
  {
   "cell_type": "code",
   "execution_count": 12,
   "metadata": {},
   "outputs": [
    {
     "data": {
      "application/vnd.plotly.v1+json": {
       "config": {
        "linkText": "Export to plot.ly",
        "plotlyServerURL": "https://plot.ly",
        "showLink": false
       },
       "data": [
        {
         "marker": {
          "color": [
           1,
           1,
           1,
           1,
           1,
           1,
           1,
           1,
           1,
           1,
           1,
           1,
           1,
           1,
           1,
           1,
           1,
           1,
           1,
           1,
           1,
           1,
           1,
           1,
           1,
           1,
           1,
           1,
           1,
           1,
           1,
           1,
           1,
           1,
           1,
           1,
           1,
           1,
           1,
           1,
           1,
           1,
           1,
           1,
           1,
           1,
           1,
           1,
           1,
           1,
           1,
           1,
           1,
           1,
           1,
           1,
           1,
           1,
           1,
           1,
           1,
           1,
           1,
           1,
           1,
           1,
           1,
           1,
           1,
           1,
           1,
           1,
           1,
           1,
           1,
           1,
           1,
           1,
           1,
           1,
           1,
           1,
           1,
           1,
           1,
           1,
           1,
           1,
           1,
           1,
           1,
           1,
           1,
           1,
           1,
           1,
           1,
           1,
           1,
           1
          ],
          "colorscale": "Portland"
         },
         "text": "Word counts",
         "type": "bar",
         "uid": "2bb1086e-b2c5-4e10-ac11-4a88ab38bd60",
         "x": [
          "\"Robo-taxis\"",
          "invests",
          "races??",
          "becoming",
          "clstrfk",
          "@jeffmichael11",
          "I-95,",
          "regarding",
          "Air",
          "aircraft",
          "install",
          "crash,",
          "glass",
          "yesterday",
          "windshield!",
          "#Google,",
          "Which",
          "Its",
          "$20",
          "hearing",
          "planes",
          "@slobotski",
          "Sure,",
          "\"It's",
          "http://t.co/WfPpk7ss",
          "whether",
          "enjoyed",
          "ideer.",
          "secret",
          "http://t.co/Mm6EscoE",
          "condition",
          "@ckrewson",
          "Bezos",
          "tired",
          "@TeslaMotors",
          "glad",
          "@chartier",
          "#SupplyChain",
          "Thing",
          "alone",
          "Phoenix",
          "drink.",
          "equation.",
          "#carsÌ¢‰âÂå",
          "#ha",
          ")#kidding",
          "http://t.co/yHEH2SlgTfÌ¢‰âÂå",
          "yessssss",
          "testing!",
          "theb",
          "http://t.co/UsrIj1FFWM",
          "@wickedlullaby92",
          "Detroit?",
          "@AdamVolle",
          "#Britain",
          "freaked",
          "#Networking",
          "http://t.co/2ocOCTvmeN",
          "yrs\".",
          "desperately",
          "(via",
          "text?",
          "@travisk",
          "85%",
          "http://t.co/OGzj7T5fM1",
          "robot\"",
          "cars!\"",
          "I/O",
          "#nodrivers",
          "http://t.co/IEVOSId7V7",
          "#AudiA7",
          "@BerkeleyITS",
          "@tcarmody",
          "appeals",
          "Except",
          "thinner,",
          "http://t.co/Gaqxi4DW6Z",
          "card",
          "WeÌ¢‰âÂ‰ã¢re",
          "http://t.co/zSX0W0gh6d\"",
          "Currently",
          "#acnuit13",
          "THAT",
          "Always",
          "@ryenarussillo",
          "saying...",
          "Happy",
          "http://t.co/qFxVkZGE6k",
          "MIT:",
          "now?!",
          "GOOG",
          "scanning",
          "Terminator!",
          "mean,",
          "http://t.co/k4Z7CJAM",
          "die?\"",
          "carry",
          "2020",
          "underwater",
          "@bonappetit:"
         ],
         "y": [
          1,
          1,
          1,
          1,
          1,
          1,
          1,
          1,
          1,
          1,
          1,
          1,
          1,
          1,
          1,
          1,
          1,
          1,
          1,
          1,
          1,
          1,
          1,
          1,
          1,
          1,
          1,
          1,
          1,
          1,
          1,
          1,
          1,
          1,
          1,
          1,
          1,
          1,
          1,
          1,
          1,
          1,
          1,
          1,
          1,
          1,
          1,
          1,
          1,
          1,
          1,
          1,
          1,
          1,
          1,
          1,
          1,
          1,
          1,
          1,
          1,
          1,
          1,
          1,
          1,
          1,
          1,
          1,
          1,
          1,
          1,
          1,
          1,
          1,
          1,
          1,
          1,
          1,
          1,
          1,
          1,
          1,
          1,
          1,
          1,
          1,
          1,
          1,
          1,
          1,
          1,
          1,
          1,
          1,
          1,
          1,
          1,
          1,
          1,
          1
         ]
        }
       ],
       "layout": {
        "title": {
         "text": "Bottom 100 Word frequencies before cleaning"
        }
       }
      },
      "text/html": [
       "<div id=\"b254decc-9c11-40d4-9497-697420d59b48\" style=\"height: 525px; width: 100%;\" class=\"plotly-graph-div\"></div><script type=\"text/javascript\">require([\"plotly\"], function(Plotly) { window.PLOTLYENV=window.PLOTLYENV || {};window.PLOTLYENV.BASE_URL=\"https://plot.ly\";\n",
       "if (document.getElementById(\"b254decc-9c11-40d4-9497-697420d59b48\")) {\n",
       "    Plotly.newPlot(\"b254decc-9c11-40d4-9497-697420d59b48\", [{\"marker\": {\"color\": [1, 1, 1, 1, 1, 1, 1, 1, 1, 1, 1, 1, 1, 1, 1, 1, 1, 1, 1, 1, 1, 1, 1, 1, 1, 1, 1, 1, 1, 1, 1, 1, 1, 1, 1, 1, 1, 1, 1, 1, 1, 1, 1, 1, 1, 1, 1, 1, 1, 1, 1, 1, 1, 1, 1, 1, 1, 1, 1, 1, 1, 1, 1, 1, 1, 1, 1, 1, 1, 1, 1, 1, 1, 1, 1, 1, 1, 1, 1, 1, 1, 1, 1, 1, 1, 1, 1, 1, 1, 1, 1, 1, 1, 1, 1, 1, 1, 1, 1, 1], \"colorscale\": \"Portland\"}, \"text\": \"Word counts\", \"x\": [\"\\\"Robo-taxis\\\"\", \"invests\", \"races??\", \"becoming\", \"clstrfk\", \"@jeffmichael11\", \"I-95,\", \"regarding\", \"Air\", \"aircraft\", \"install\", \"crash,\", \"glass\", \"yesterday\", \"windshield!\", \"#Google,\", \"Which\", \"Its\", \"$20\", \"hearing\", \"planes\", \"@slobotski\", \"Sure,\", \"\\\"It's\", \"http://t.co/WfPpk7ss\", \"whether\", \"enjoyed\", \"ideer.\", \"secret\", \"http://t.co/Mm6EscoE\", \"condition\", \"@ckrewson\", \"Bezos\", \"tired\", \"@TeslaMotors\", \"glad\", \"@chartier\", \"#SupplyChain\", \"Thing\", \"alone\", \"Phoenix\", \"drink.\", \"equation.\", \"#cars\\u00cc\\u00a2\\u2030\\u00e2\\u00c2\\u00e5\\u009d\", \"#ha\", \")#kidding\", \"http://t.co/yHEH2SlgTf\\u00cc\\u00a2\\u2030\\u00e2\\u00c2\\u00e5\\u009d\", \"yessssss\", \"testing!\", \"theb\", \"http://t.co/UsrIj1FFWM\", \"@wickedlullaby92\", \"Detroit?\", \"@AdamVolle\", \"#Britain\", \"freaked\", \"#Networking\", \"http://t.co/2ocOCTvmeN\", \"yrs\\\".\", \"desperately\", \"(via\", \"text?\", \"@travisk\", \"85%\", \"http://t.co/OGzj7T5fM1\", \"robot\\\"\", \"cars!\\\"\", \"I/O\", \"#nodrivers\", \"http://t.co/IEVOSId7V7\", \"#AudiA7\", \"@BerkeleyITS\", \"@tcarmody\", \"appeals\", \"Except\", \"thinner,\", \"http://t.co/Gaqxi4DW6Z\", \"card\", \"We\\u00cc\\u00a2\\u2030\\u00e2\\u00c2\\u2030\\u00e3\\u00a2re\", \"http://t.co/zSX0W0gh6d\\\"\", \"Currently\", \"#acnuit13\", \"THAT\", \"Always\", \"@ryenarussillo\", \"saying...\", \"Happy\", \"http://t.co/qFxVkZGE6k\", \"MIT:\", \"now?!\", \"GOOG\", \"scanning\", \"Terminator!\", \"mean,\", \"http://t.co/k4Z7CJAM\", \"die?\\\"\", \"carry\", \"2020\", \"underwater\", \"@bonappetit:\"], \"y\": [1, 1, 1, 1, 1, 1, 1, 1, 1, 1, 1, 1, 1, 1, 1, 1, 1, 1, 1, 1, 1, 1, 1, 1, 1, 1, 1, 1, 1, 1, 1, 1, 1, 1, 1, 1, 1, 1, 1, 1, 1, 1, 1, 1, 1, 1, 1, 1, 1, 1, 1, 1, 1, 1, 1, 1, 1, 1, 1, 1, 1, 1, 1, 1, 1, 1, 1, 1, 1, 1, 1, 1, 1, 1, 1, 1, 1, 1, 1, 1, 1, 1, 1, 1, 1, 1, 1, 1, 1, 1, 1, 1, 1, 1, 1, 1, 1, 1, 1, 1], \"type\": \"bar\", \"uid\": \"2bb1086e-b2c5-4e10-ac11-4a88ab38bd60\"}], {\"title\": {\"text\": \"Bottom 100 Word frequencies before cleaning\"}}, {\"showLink\": false, \"linkText\": \"Export to plot.ly\", \"plotlyServerURL\": \"https://plot.ly\"}); \n",
       "}\n",
       "});</script><script type=\"text/javascript\">window.addEventListener(\"resize\", function(){if (document.getElementById(\"b254decc-9c11-40d4-9497-697420d59b48\")) {window._Plotly.Plots.resize(document.getElementById(\"b254decc-9c11-40d4-9497-697420d59b48\"));};})</script>"
      ],
      "text/vnd.plotly.v1+html": [
       "<div id=\"b254decc-9c11-40d4-9497-697420d59b48\" style=\"height: 525px; width: 100%;\" class=\"plotly-graph-div\"></div><script type=\"text/javascript\">require([\"plotly\"], function(Plotly) { window.PLOTLYENV=window.PLOTLYENV || {};window.PLOTLYENV.BASE_URL=\"https://plot.ly\";\n",
       "if (document.getElementById(\"b254decc-9c11-40d4-9497-697420d59b48\")) {\n",
       "    Plotly.newPlot(\"b254decc-9c11-40d4-9497-697420d59b48\", [{\"marker\": {\"color\": [1, 1, 1, 1, 1, 1, 1, 1, 1, 1, 1, 1, 1, 1, 1, 1, 1, 1, 1, 1, 1, 1, 1, 1, 1, 1, 1, 1, 1, 1, 1, 1, 1, 1, 1, 1, 1, 1, 1, 1, 1, 1, 1, 1, 1, 1, 1, 1, 1, 1, 1, 1, 1, 1, 1, 1, 1, 1, 1, 1, 1, 1, 1, 1, 1, 1, 1, 1, 1, 1, 1, 1, 1, 1, 1, 1, 1, 1, 1, 1, 1, 1, 1, 1, 1, 1, 1, 1, 1, 1, 1, 1, 1, 1, 1, 1, 1, 1, 1, 1], \"colorscale\": \"Portland\"}, \"text\": \"Word counts\", \"x\": [\"\\\"Robo-taxis\\\"\", \"invests\", \"races??\", \"becoming\", \"clstrfk\", \"@jeffmichael11\", \"I-95,\", \"regarding\", \"Air\", \"aircraft\", \"install\", \"crash,\", \"glass\", \"yesterday\", \"windshield!\", \"#Google,\", \"Which\", \"Its\", \"$20\", \"hearing\", \"planes\", \"@slobotski\", \"Sure,\", \"\\\"It's\", \"http://t.co/WfPpk7ss\", \"whether\", \"enjoyed\", \"ideer.\", \"secret\", \"http://t.co/Mm6EscoE\", \"condition\", \"@ckrewson\", \"Bezos\", \"tired\", \"@TeslaMotors\", \"glad\", \"@chartier\", \"#SupplyChain\", \"Thing\", \"alone\", \"Phoenix\", \"drink.\", \"equation.\", \"#cars\\u00cc\\u00a2\\u2030\\u00e2\\u00c2\\u00e5\\u009d\", \"#ha\", \")#kidding\", \"http://t.co/yHEH2SlgTf\\u00cc\\u00a2\\u2030\\u00e2\\u00c2\\u00e5\\u009d\", \"yessssss\", \"testing!\", \"theb\", \"http://t.co/UsrIj1FFWM\", \"@wickedlullaby92\", \"Detroit?\", \"@AdamVolle\", \"#Britain\", \"freaked\", \"#Networking\", \"http://t.co/2ocOCTvmeN\", \"yrs\\\".\", \"desperately\", \"(via\", \"text?\", \"@travisk\", \"85%\", \"http://t.co/OGzj7T5fM1\", \"robot\\\"\", \"cars!\\\"\", \"I/O\", \"#nodrivers\", \"http://t.co/IEVOSId7V7\", \"#AudiA7\", \"@BerkeleyITS\", \"@tcarmody\", \"appeals\", \"Except\", \"thinner,\", \"http://t.co/Gaqxi4DW6Z\", \"card\", \"We\\u00cc\\u00a2\\u2030\\u00e2\\u00c2\\u2030\\u00e3\\u00a2re\", \"http://t.co/zSX0W0gh6d\\\"\", \"Currently\", \"#acnuit13\", \"THAT\", \"Always\", \"@ryenarussillo\", \"saying...\", \"Happy\", \"http://t.co/qFxVkZGE6k\", \"MIT:\", \"now?!\", \"GOOG\", \"scanning\", \"Terminator!\", \"mean,\", \"http://t.co/k4Z7CJAM\", \"die?\\\"\", \"carry\", \"2020\", \"underwater\", \"@bonappetit:\"], \"y\": [1, 1, 1, 1, 1, 1, 1, 1, 1, 1, 1, 1, 1, 1, 1, 1, 1, 1, 1, 1, 1, 1, 1, 1, 1, 1, 1, 1, 1, 1, 1, 1, 1, 1, 1, 1, 1, 1, 1, 1, 1, 1, 1, 1, 1, 1, 1, 1, 1, 1, 1, 1, 1, 1, 1, 1, 1, 1, 1, 1, 1, 1, 1, 1, 1, 1, 1, 1, 1, 1, 1, 1, 1, 1, 1, 1, 1, 1, 1, 1, 1, 1, 1, 1, 1, 1, 1, 1, 1, 1, 1, 1, 1, 1, 1, 1, 1, 1, 1, 1], \"type\": \"bar\", \"uid\": \"2bb1086e-b2c5-4e10-ac11-4a88ab38bd60\"}], {\"title\": {\"text\": \"Bottom 100 Word frequencies before cleaning\"}}, {\"showLink\": false, \"linkText\": \"Export to plot.ly\", \"plotlyServerURL\": \"https://plot.ly\"}); \n",
       "}\n",
       "});</script><script type=\"text/javascript\">window.addEventListener(\"resize\", function(){if (document.getElementById(\"b254decc-9c11-40d4-9497-697420d59b48\")) {window._Plotly.Plots.resize(document.getElementById(\"b254decc-9c11-40d4-9497-697420d59b48\"));};})</script>"
      ]
     },
     "metadata": {},
     "output_type": "display_data"
    }
   ],
   "source": [
    "data = [go.Bar(\n",
    "            x = all_words.index.values[-100:],\n",
    "            y = all_words.values[-100:],\n",
    "            marker= dict(colorscale='Portland',\n",
    "                         color = all_words.values[-100:]\n",
    "                        ),\n",
    "            text='Word counts'\n",
    "    )]\n",
    "\n",
    "layout = go.Layout(\n",
    "    title='Bottom 100 Word frequencies before cleaning'\n",
    ")\n",
    "\n",
    "fig = go.Figure(data=data, layout=layout)\n",
    "\n",
    "py.iplot(fig, filename='basic-bar')"
   ]
  },
  {
   "cell_type": "markdown",
   "metadata": {},
   "source": [
    "# 4) Cleaning and preprocessing data"
   ]
  },
  {
   "cell_type": "code",
   "execution_count": 13,
   "metadata": {
    "collapsed": true
   },
   "outputs": [],
   "source": [
    "data = pd.read_csv('self_drive.csv')"
   ]
  },
  {
   "cell_type": "markdown",
   "metadata": {},
   "source": [
    "### 4.1) Removing punctions"
   ]
  },
  {
   "cell_type": "code",
   "execution_count": 14,
   "metadata": {
    "collapsed": true
   },
   "outputs": [],
   "source": [
    "#Funtion to remove punctuation\n",
    "def remove_punctuation(text):\n",
    "    '''a function for removing punctuation'''\n",
    "    import string\n",
    "    # replacing the punctuations with no space, \n",
    "    # which in effect deletes the punctuation marks \n",
    "    translator = str.maketrans('', '', string.punctuation)\n",
    "    # return the text stripped of punctuation marks\n",
    "    return text.translate(translator)"
   ]
  },
  {
   "cell_type": "code",
   "execution_count": 15,
   "metadata": {},
   "outputs": [
    {
     "name": "stdout",
     "output_type": "stream",
     "text": [
      "After cleaning punctuation and extra characters: \n",
      " SKYNET Ì¢‰âÂÒSheriJo I am for driverless cars Sick of the accidents injuries deaths people driving recklessly all the time It must stopÌ¢‰âÂå\n"
     ]
    }
   ],
   "source": [
    "data['cleaned_round2'] = data['text'].apply(remove_punctuation)\n",
    "print(\"After cleaning punctuation and extra characters: \\n\",data['cleaned_round2'][19])"
   ]
  },
  {
   "cell_type": "code",
   "execution_count": 16,
   "metadata": {},
   "outputs": [
    {
     "name": "stdout",
     "output_type": "stream",
     "text": [
      "Before cleaning punctuation and extra characters: \n",
      " #SKYNET Ì¢‰âÂÒ@SheriJo: I am for driverless cars. Sick of the accidents, injuries, deaths, people driving recklessly all the time. It must stop.Ì¢‰âÂå\n"
     ]
    }
   ],
   "source": [
    "#Before cleaning\n",
    "print(\"Before cleaning punctuation and extra characters: \\n\",data['text'][19])"
   ]
  },
  {
   "cell_type": "code",
   "execution_count": 17,
   "metadata": {},
   "outputs": [
    {
     "data": {
      "text/html": [
       "<div>\n",
       "<style>\n",
       "    .dataframe thead tr:only-child th {\n",
       "        text-align: right;\n",
       "    }\n",
       "\n",
       "    .dataframe thead th {\n",
       "        text-align: left;\n",
       "    }\n",
       "\n",
       "    .dataframe tbody tr th {\n",
       "        vertical-align: top;\n",
       "    }\n",
       "</style>\n",
       "<table border=\"1\" class=\"dataframe\">\n",
       "  <thead>\n",
       "    <tr style=\"text-align: right;\">\n",
       "      <th></th>\n",
       "      <th>sentiment</th>\n",
       "      <th>text</th>\n",
       "      <th>cleaned_round2</th>\n",
       "    </tr>\n",
       "  </thead>\n",
       "  <tbody>\n",
       "    <tr>\n",
       "      <th>0</th>\n",
       "      <td>5</td>\n",
       "      <td>@manjulamartin @Kirk_Gleason Except trains are...</td>\n",
       "      <td>manjulamartin KirkGleason Except trains are ve...</td>\n",
       "    </tr>\n",
       "    <tr>\n",
       "      <th>1</th>\n",
       "      <td>5</td>\n",
       "      <td>I want a Google driverless car.</td>\n",
       "      <td>I want a Google driverless car</td>\n",
       "    </tr>\n",
       "    <tr>\n",
       "      <th>2</th>\n",
       "      <td>5</td>\n",
       "      <td>@Oatmeal @google driverless @TeslaMotors ? Ooo...</td>\n",
       "      <td>Oatmeal google driverless TeslaMotors  Ooooh t...</td>\n",
       "    </tr>\n",
       "    <tr>\n",
       "      <th>3</th>\n",
       "      <td>5</td>\n",
       "      <td>SO MUCH AWESOME! Amazing video for GoogleÌ¢‰âÂ...</td>\n",
       "      <td>SO MUCH AWESOME Amazing video for GoogleÌ¢‰âÂ‰...</td>\n",
       "    </tr>\n",
       "    <tr>\n",
       "      <th>4</th>\n",
       "      <td>5</td>\n",
       "      <td>@google is making driverless cars which is awe...</td>\n",
       "      <td>google is making driverless cars which is awes...</td>\n",
       "    </tr>\n",
       "  </tbody>\n",
       "</table>\n",
       "</div>"
      ],
      "text/plain": [
       "   sentiment                                               text  \\\n",
       "0          5  @manjulamartin @Kirk_Gleason Except trains are...   \n",
       "1          5                    I want a Google driverless car.   \n",
       "2          5  @Oatmeal @google driverless @TeslaMotors ? Ooo...   \n",
       "3          5  SO MUCH AWESOME! Amazing video for GoogleÌ¢‰âÂ...   \n",
       "4          5  @google is making driverless cars which is awe...   \n",
       "\n",
       "                                      cleaned_round2  \n",
       "0  manjulamartin KirkGleason Except trains are ve...  \n",
       "1                     I want a Google driverless car  \n",
       "2  Oatmeal google driverless TeslaMotors  Ooooh t...  \n",
       "3  SO MUCH AWESOME Amazing video for GoogleÌ¢‰âÂ‰...  \n",
       "4  google is making driverless cars which is awes...  "
      ]
     },
     "execution_count": 17,
     "metadata": {},
     "output_type": "execute_result"
    }
   ],
   "source": [
    "data.head()"
   ]
  },
  {
   "cell_type": "markdown",
   "metadata": {},
   "source": [
    "We can see some noisy characters are removed."
   ]
  },
  {
   "cell_type": "code",
   "execution_count": 18,
   "metadata": {
    "collapsed": true
   },
   "outputs": [],
   "source": [
    "# Remo0ving more extra text\n",
    "\n",
    "def clean_text_round1(text):\n",
    "    '''Make text lowercase, remove text in square brackets, remove punctuation and remove words containing numbers.'''\n",
    "    text = text.lower()\n",
    "    text = re.sub('\\[.*?\\]', '', text)\n",
    "    text = re.sub('[%s]' % re.escape(string.punctuation), '', text)\n",
    "    text = re.sub('\\w*\\d\\w*', '', text)\n",
    "    return text\n",
    "\n",
    "round1 = lambda x: clean_text_round1(x)"
   ]
  },
  {
   "cell_type": "code",
   "execution_count": 19,
   "metadata": {},
   "outputs": [
    {
     "data": {
      "text/plain": [
       "'skynet ì¢‰ââ\\x81òsherijo i am for driverless cars sick of the accidents injuries deaths people driving recklessly all the time it must stopì¢‰ââå\\x9d'"
      ]
     },
     "execution_count": 19,
     "metadata": {},
     "output_type": "execute_result"
    }
   ],
   "source": [
    "# Let's take a look at the updated text\n",
    "data['cleaned_round2'] = data['cleaned_round2'].apply(round1)\n",
    "data['cleaned_round2'][19]"
   ]
  },
  {
   "cell_type": "code",
   "execution_count": 20,
   "metadata": {
    "collapsed": true
   },
   "outputs": [],
   "source": [
    "# Apply a second round of cleaning\n",
    "def clean_text_round2(text):\n",
    "    '''Get rid of some additional punctuation and non-sensical text that was missed the first time around.'''\n",
    "    text = re.sub('[‘’“”…]', '', text)\n",
    "    text = re.sub('\\n', '', text)\n",
    "    text=re.sub('[^a-zA-Z]', ' ' ,text)\n",
    "    return text\n",
    "\n",
    "round2 = lambda x: clean_text_round2(x)"
   ]
  },
  {
   "cell_type": "code",
   "execution_count": 21,
   "metadata": {},
   "outputs": [
    {
     "data": {
      "text/plain": [
       "'skynet        sherijo i am for driverless cars sick of the accidents injuries deaths people driving recklessly all the time it must stop       '"
      ]
     },
     "execution_count": 21,
     "metadata": {},
     "output_type": "execute_result"
    }
   ],
   "source": [
    "# Let's take a look at the updated text\n",
    "data['cleaned_round2'] = data['cleaned_round2'].apply(round2)\n",
    "data['cleaned_round2'][19]"
   ]
  },
  {
   "cell_type": "markdown",
   "metadata": {},
   "source": [
    "### 4.2)- Removing stopwords"
   ]
  },
  {
   "cell_type": "code",
   "execution_count": 22,
   "metadata": {},
   "outputs": [
    {
     "data": {
      "text/plain": [
       "array(['i', 'me', 'my', 'myself', 'we', 'our', 'ours', 'ourselves', 'you',\n",
       "       \"you're\", \"you've\", \"you'll\", \"you'd\", 'your', 'yours', 'yourself',\n",
       "       'yourselves', 'he', 'him', 'his', 'himself', 'she', \"she's\", 'her',\n",
       "       'hers', 'herself', 'it', \"it's\", 'its', 'itself', 'they', 'them',\n",
       "       'their', 'theirs', 'themselves', 'what', 'which', 'who', 'whom',\n",
       "       'this', 'that', \"that'll\", 'these', 'those', 'am', 'is', 'are',\n",
       "       'was', 'were', 'be', 'been', 'being', 'have', 'has', 'had',\n",
       "       'having', 'do', 'does', 'did', 'doing', 'a', 'an', 'the', 'and',\n",
       "       'but', 'if', 'or', 'because', 'as', 'until', 'while', 'of', 'at',\n",
       "       'by', 'for', 'with', 'about', 'against', 'between', 'into',\n",
       "       'through', 'during', 'before', 'after', 'above', 'below', 'to',\n",
       "       'from', 'up', 'down', 'in', 'out', 'on', 'off', 'over', 'under',\n",
       "       'again', 'further', 'then', 'once', 'here', 'there', 'when',\n",
       "       'where', 'why', 'how', 'all', 'any', 'both', 'each', 'few', 'more',\n",
       "       'most', 'other', 'some', 'such', 'no', 'nor', 'not', 'only', 'own',\n",
       "       'same', 'so', 'than', 'too', 'very', 's', 't', 'can', 'will',\n",
       "       'just', 'don', \"don't\", 'should', \"should've\", 'now', 'd', 'll',\n",
       "       'm', 'o', 're', 've', 'y', 'ain', 'aren', \"aren't\", 'couldn',\n",
       "       \"couldn't\", 'didn', \"didn't\", 'doesn', \"doesn't\", 'hadn', \"hadn't\",\n",
       "       'hasn', \"hasn't\", 'haven', \"haven't\", 'isn', \"isn't\", 'ma',\n",
       "       'mightn', \"mightn't\", 'mustn', \"mustn't\", 'needn', \"needn't\",\n",
       "       'shan', \"shan't\", 'shouldn', \"shouldn't\", 'wasn', \"wasn't\",\n",
       "       'weren', \"weren't\", 'won', \"won't\", 'wouldn', \"wouldn't\"],\n",
       "      dtype='<U10')"
      ]
     },
     "execution_count": 22,
     "metadata": {},
     "output_type": "execute_result"
    }
   ],
   "source": [
    "#Extract the stop words from nltk library. We may make our own list too\n",
    "sw = stopwords.words('english')\n",
    "# displaying the stopwords\n",
    "np.array(sw)"
   ]
  },
  {
   "cell_type": "code",
   "execution_count": 23,
   "metadata": {},
   "outputs": [
    {
     "name": "stdout",
     "output_type": "stream",
     "text": [
      "Number of stopwords:  179\n"
     ]
    }
   ],
   "source": [
    "print(\"Number of stopwords: \", len(sw))"
   ]
  },
  {
   "cell_type": "code",
   "execution_count": 24,
   "metadata": {
    "collapsed": true
   },
   "outputs": [],
   "source": [
    "#Function to remove stopwords\n",
    "def stopwords(text):\n",
    "    '''a function for removing the stopword'''\n",
    "    # removing the stop words and lowercasing the selected words\n",
    "    text = [word.lower() for word in text.split() if word.lower() not in sw]\n",
    "    # joining the list of words with space separator\n",
    "    return \" \".join(text)"
   ]
  },
  {
   "cell_type": "code",
   "execution_count": 25,
   "metadata": {},
   "outputs": [
    {
     "name": "stdout",
     "output_type": "stream",
     "text": [
      "After applying stopwords: \n",
      " skynet sherijo driverless cars sick accidents injuries deaths people driving recklessly time must stop\n"
     ]
    }
   ],
   "source": [
    "data['cleaned_round2'] = data['cleaned_round2'].apply(stopwords)\n",
    "print(\"After applying stopwords: \\n\",data['cleaned_round2'][19])"
   ]
  },
  {
   "cell_type": "markdown",
   "metadata": {},
   "source": [
    "### 4.3)  Stemming"
   ]
  },
  {
   "cell_type": "markdown",
   "metadata": {},
   "source": [
    "Let's check topwords before doing any stemming"
   ]
  },
  {
   "cell_type": "markdown",
   "metadata": {},
   "source": [
    "#### a)Collect vocabulary count"
   ]
  },
  {
   "cell_type": "code",
   "execution_count": 26,
   "metadata": {
    "collapsed": true
   },
   "outputs": [],
   "source": [
    "# create a count vectorizer object\n",
    "count_vectorizer = CountVectorizer()\n",
    "# fit the count vectorizer using the text data\n",
    "count_vectorizer.fit(data['cleaned_round2'])\n",
    "# collect the vocabulary items used in the vectorizer\n",
    "dictionary = count_vectorizer.vocabulary_.items() "
   ]
  },
  {
   "cell_type": "markdown",
   "metadata": {},
   "source": [
    "#### b)Store the vocab and counts in a pandas dataframe"
   ]
  },
  {
   "cell_type": "code",
   "execution_count": 27,
   "metadata": {
    "collapsed": true
   },
   "outputs": [],
   "source": [
    "# lists to store the vocab and counts\n",
    "vocab = []\n",
    "count = []\n",
    "# iterate through each vocab and count append the value to designated lists\n",
    "for key, value in dictionary:\n",
    "    vocab.append(key)\n",
    "    count.append(value)\n",
    "# store the count in panadas dataframe with vocab as index\n",
    "vocab_bef_stem = pd.Series(count, index=vocab)\n",
    "# sort the dataframe\n",
    "vocab_bef_stem = vocab_bef_stem.sort_values(ascending=False)"
   ]
  },
  {
   "cell_type": "markdown",
   "metadata": {},
   "source": [
    "#### c)Bar plot of top words before stemming"
   ]
  },
  {
   "cell_type": "code",
   "execution_count": 28,
   "metadata": {},
   "outputs": [
    {
     "data": {
      "text/plain": [
       "<matplotlib.axes._subplots.AxesSubplot at 0x235588bcfd0>"
      ]
     },
     "execution_count": 28,
     "metadata": {},
     "output_type": "execute_result"
    },
    {
     "data": {
      "image/png": "[encoded data removed]",
      "text/plain": [
       "<matplotlib.figure.Figure at 0x23557e61d30>"
      ]
     },
     "metadata": {},
     "output_type": "display_data"
    }
   ],
   "source": [
    "top_vacab = vocab_bef_stem.head(20)\n",
    "top_vacab.plot(kind = 'barh', figsize=(5,10), xlim= (2000, 3500)) ## xlim= (25230, 25260))"
   ]
  },
  {
   "cell_type": "markdown",
   "metadata": {},
   "source": [
    "#### d)Stemming operations\n",
    "Stemming operation bundles together words of same root. E.g. stem operation bundles \"response\" and \"respond\" into a common \"respon\""
   ]
  },
  {
   "cell_type": "code",
   "execution_count": 29,
   "metadata": {},
   "outputs": [],
   "source": [
    "from nltk.stem.snowball import SnowballStemmer\n",
    "# create an object of stemming function\n",
    "stemmer = SnowballStemmer(\"english\")\n",
    "\n",
    "def stemming(text):    \n",
    "    '''a function which stems each word in the given text'''\n",
    "    text = [stemmer.stem(word) for word in text.split()]\n",
    "    return \" \".join(text) "
   ]
  },
  {
   "cell_type": "code",
   "execution_count": 30,
   "metadata": {},
   "outputs": [
    {
     "data": {
      "text/plain": [
       "'skynet sherijo driverless car sick accid injuri death peopl drive reckless time must stop'"
      ]
     },
     "execution_count": 30,
     "metadata": {},
     "output_type": "execute_result"
    }
   ],
   "source": [
    "#Apply the function to each datapoint\n",
    "data['cleaned_round2'] = data['cleaned_round2'].apply(stemming)\n",
    "data['cleaned_round2'][19]"
   ]
  },
  {
   "cell_type": "markdown",
   "metadata": {
    "collapsed": true
   },
   "source": [
    "**Top words after stemming operation**"
   ]
  },
  {
   "cell_type": "markdown",
   "metadata": {
    "collapsed": true
   },
   "source": [
    "#### e)Collect vocabulary count"
   ]
  },
  {
   "cell_type": "code",
   "execution_count": 31,
   "metadata": {
    "collapsed": true
   },
   "outputs": [],
   "source": [
    "# create the object of tfid vectorizer\n",
    "tfid_vectorizer = TfidfVectorizer(\"english\")\n",
    "# fit the vectorizer using the text data\n",
    "tfid_vectorizer.fit(data['cleaned_round2'])\n",
    "# collect the vocabulary items used in the vectorizer\n",
    "dictionary = tfid_vectorizer.vocabulary_.items()  "
   ]
  },
  {
   "cell_type": "markdown",
   "metadata": {
    "collapsed": true
   },
   "source": [
    "#### f)Bar plot of top words after stemming"
   ]
  },
  {
   "cell_type": "code",
   "execution_count": 32,
   "metadata": {},
   "outputs": [
    {
     "data": {
      "text/plain": [
       "<matplotlib.axes._subplots.AxesSubplot at 0x2355ab3a7f0>"
      ]
     },
     "execution_count": 32,
     "metadata": {},
     "output_type": "execute_result"
    },
    {
     "data": {
      "image/png": "[encoded data removed]",
      "text/plain": [
       "<matplotlib.figure.Figure at 0x2355a94ee10>"
      ]
     },
     "metadata": {},
     "output_type": "display_data"
    }
   ],
   "source": [
    "# lists to store the vocab and counts\n",
    "vocab = []\n",
    "count = []\n",
    "# iterate through each vocab and count append the value to designated lists\n",
    "for key, value in dictionary:\n",
    "    vocab.append(key)\n",
    "    count.append(value)\n",
    "# store the count in panadas dataframe with vocab as index\n",
    "vocab_after_stem = pd.Series(count, index=vocab)\n",
    "# sort the dataframe\n",
    "vocab_after_stem = vocab_after_stem.sort_values(ascending=False)\n",
    "# plot of the top vocab\n",
    "top_vacab = vocab_after_stem.head(20)\n",
    "top_vacab.plot(kind = 'barh', figsize=(5,10), xlim= (2000, 3500))"
   ]
  },
  {
   "cell_type": "markdown",
   "metadata": {},
   "source": [
    "# 5) Saving cleaned file"
   ]
  },
  {
   "cell_type": "code",
   "execution_count": 33,
   "metadata": {},
   "outputs": [],
   "source": [
    "data.to_csv('self_drive_clean_round2.csv', index= False, encoding= 'utf-8')"
   ]
  },
  {
   "cell_type": "markdown",
   "metadata": {},
   "source": [
    "# 6) Visualize after clean"
   ]
  },
  {
   "cell_type": "code",
   "execution_count": 34,
   "metadata": {
    "collapsed": true
   },
   "outputs": [],
   "source": [
    "clean_round2=data['cleaned_round2']"
   ]
  },
  {
   "cell_type": "code",
   "execution_count": 35,
   "metadata": {},
   "outputs": [
    {
     "data": {
      "text/plain": [
       "0    manjulamartin kirkgleason except train capit i...\n",
       "1                            want googl driverless car\n",
       "2    oatmeal googl driverless teslamotor ooooh woul...\n",
       "3    much awesom amaz video googl next phase driver...\n",
       "4                     googl make driverless car awesom\n",
       "Name: cleaned_round2, dtype: object"
      ]
     },
     "execution_count": 35,
     "metadata": {},
     "output_type": "execute_result"
    }
   ],
   "source": [
    "clean_round2[:5]"
   ]
  },
  {
   "cell_type": "markdown",
   "metadata": {},
   "source": [
    "## checking top 50 words after cleaning"
   ]
  },
  {
   "cell_type": "code",
   "execution_count": 36,
   "metadata": {},
   "outputs": [
    {
     "data": {
      "application/vnd.plotly.v1+json": {
       "config": {
        "linkText": "Export to plot.ly",
        "plotlyServerURL": "https://plot.ly",
        "showLink": false
       },
       "data": [
        {
         "marker": {
          "color": [
           302,
           66,
           65,
           60,
           53,
           52,
           52,
           45,
           44,
           44,
           43,
           42,
           41,
           40,
           38,
           38,
           37,
           35,
           33,
           33,
           33,
           31,
           31,
           30,
           30,
           29,
           28,
           28,
           27,
           27,
           27,
           26,
           26,
           26,
           25,
           25,
           25,
           24,
           23,
           22,
           22,
           21,
           20,
           20,
           20,
           20,
           20,
           19,
           19,
           19,
           19,
           18,
           18,
           18,
           18,
           18,
           18,
           18,
           18,
           17,
           17,
           17,
           17,
           17,
           17,
           16,
           16,
           16,
           16,
           16,
           16,
           15,
           15,
           15,
           14,
           14,
           14,
           14,
           14,
           14,
           14,
           14,
           14,
           14,
           14,
           14,
           14,
           13,
           13,
           13,
           13,
           13,
           13,
           13,
           13,
           12,
           12,
           12
          ],
          "colorscale": "Jet"
         },
         "text": "Word counts",
         "type": "bar",
         "uid": "2080ef9b-6fe0-4984-bc39-1340df81e432",
         "x": [
          "googl",
          "california",
          "futur",
          "drive",
          "road",
          "one",
          "could",
          "driver",
          "go",
          "test",
          "via",
          "make",
          "legal",
          "like",
          "get",
          "use",
          "think",
          "rt",
          "vehicl",
          "wheel",
          "come",
          "new",
          "take",
          "amp",
          "would",
          "year",
          "peopl",
          "want",
          "uber",
          "us",
          "time",
          "cant",
          "need",
          "technolog",
          "look",
          "steer",
          "start",
          "less",
          "see",
          "im",
          "wait",
          "uk",
          "taxi",
          "work",
          "insur",
          "way",
          "build",
          "park"
         ],
         "y": [
          302,
          66,
          65,
          60,
          53,
          52,
          52,
          45,
          44,
          44,
          43,
          42,
          41,
          40,
          38,
          38,
          37,
          35,
          33,
          33,
          33,
          31,
          31,
          30,
          30,
          29,
          28,
          28,
          27,
          27,
          27,
          26,
          26,
          26,
          25,
          25,
          25,
          24,
          23,
          22,
          22,
          21,
          20,
          20,
          20,
          20,
          20,
          19
         ]
        }
       ],
       "layout": {
        "title": {
         "text": "Top 50 (cleaned) Word frequencies in the dataset"
        }
       }
      },
      "text/html": [
       "<div id=\"35b3d979-cb24-4ea9-af38-ee800e450779\" style=\"height: 525px; width: 100%;\" class=\"plotly-graph-div\"></div><script type=\"text/javascript\">require([\"plotly\"], function(Plotly) { window.PLOTLYENV=window.PLOTLYENV || {};window.PLOTLYENV.BASE_URL=\"https://plot.ly\";\n",
       "if (document.getElementById(\"35b3d979-cb24-4ea9-af38-ee800e450779\")) {\n",
       "    Plotly.newPlot(\"35b3d979-cb24-4ea9-af38-ee800e450779\", [{\"marker\": {\"color\": [302, 66, 65, 60, 53, 52, 52, 45, 44, 44, 43, 42, 41, 40, 38, 38, 37, 35, 33, 33, 33, 31, 31, 30, 30, 29, 28, 28, 27, 27, 27, 26, 26, 26, 25, 25, 25, 24, 23, 22, 22, 21, 20, 20, 20, 20, 20, 19, 19, 19, 19, 18, 18, 18, 18, 18, 18, 18, 18, 17, 17, 17, 17, 17, 17, 16, 16, 16, 16, 16, 16, 15, 15, 15, 14, 14, 14, 14, 14, 14, 14, 14, 14, 14, 14, 14, 14, 13, 13, 13, 13, 13, 13, 13, 13, 12, 12, 12], \"colorscale\": \"Jet\"}, \"text\": \"Word counts\", \"x\": [\"googl\", \"california\", \"futur\", \"drive\", \"road\", \"one\", \"could\", \"driver\", \"go\", \"test\", \"via\", \"make\", \"legal\", \"like\", \"get\", \"use\", \"think\", \"rt\", \"vehicl\", \"wheel\", \"come\", \"new\", \"take\", \"amp\", \"would\", \"year\", \"peopl\", \"want\", \"uber\", \"us\", \"time\", \"cant\", \"need\", \"technolog\", \"look\", \"steer\", \"start\", \"less\", \"see\", \"im\", \"wait\", \"uk\", \"taxi\", \"work\", \"insur\", \"way\", \"build\", \"park\"], \"y\": [302, 66, 65, 60, 53, 52, 52, 45, 44, 44, 43, 42, 41, 40, 38, 38, 37, 35, 33, 33, 33, 31, 31, 30, 30, 29, 28, 28, 27, 27, 27, 26, 26, 26, 25, 25, 25, 24, 23, 22, 22, 21, 20, 20, 20, 20, 20, 19], \"type\": \"bar\", \"uid\": \"2080ef9b-6fe0-4984-bc39-1340df81e432\"}], {\"title\": {\"text\": \"Top 50 (cleaned) Word frequencies in the dataset\"}}, {\"showLink\": false, \"linkText\": \"Export to plot.ly\", \"plotlyServerURL\": \"https://plot.ly\"}); \n",
       "}\n",
       "});</script><script type=\"text/javascript\">window.addEventListener(\"resize\", function(){if (document.getElementById(\"35b3d979-cb24-4ea9-af38-ee800e450779\")) {window._Plotly.Plots.resize(document.getElementById(\"35b3d979-cb24-4ea9-af38-ee800e450779\"));};})</script>"
      ],
      "text/vnd.plotly.v1+html": [
       "<div id=\"35b3d979-cb24-4ea9-af38-ee800e450779\" style=\"height: 525px; width: 100%;\" class=\"plotly-graph-div\"></div><script type=\"text/javascript\">require([\"plotly\"], function(Plotly) { window.PLOTLYENV=window.PLOTLYENV || {};window.PLOTLYENV.BASE_URL=\"https://plot.ly\";\n",
       "if (document.getElementById(\"35b3d979-cb24-4ea9-af38-ee800e450779\")) {\n",
       "    Plotly.newPlot(\"35b3d979-cb24-4ea9-af38-ee800e450779\", [{\"marker\": {\"color\": [302, 66, 65, 60, 53, 52, 52, 45, 44, 44, 43, 42, 41, 40, 38, 38, 37, 35, 33, 33, 33, 31, 31, 30, 30, 29, 28, 28, 27, 27, 27, 26, 26, 26, 25, 25, 25, 24, 23, 22, 22, 21, 20, 20, 20, 20, 20, 19, 19, 19, 19, 18, 18, 18, 18, 18, 18, 18, 18, 17, 17, 17, 17, 17, 17, 16, 16, 16, 16, 16, 16, 15, 15, 15, 14, 14, 14, 14, 14, 14, 14, 14, 14, 14, 14, 14, 14, 13, 13, 13, 13, 13, 13, 13, 13, 12, 12, 12], \"colorscale\": \"Jet\"}, \"text\": \"Word counts\", \"x\": [\"googl\", \"california\", \"futur\", \"drive\", \"road\", \"one\", \"could\", \"driver\", \"go\", \"test\", \"via\", \"make\", \"legal\", \"like\", \"get\", \"use\", \"think\", \"rt\", \"vehicl\", \"wheel\", \"come\", \"new\", \"take\", \"amp\", \"would\", \"year\", \"peopl\", \"want\", \"uber\", \"us\", \"time\", \"cant\", \"need\", \"technolog\", \"look\", \"steer\", \"start\", \"less\", \"see\", \"im\", \"wait\", \"uk\", \"taxi\", \"work\", \"insur\", \"way\", \"build\", \"park\"], \"y\": [302, 66, 65, 60, 53, 52, 52, 45, 44, 44, 43, 42, 41, 40, 38, 38, 37, 35, 33, 33, 33, 31, 31, 30, 30, 29, 28, 28, 27, 27, 27, 26, 26, 26, 25, 25, 25, 24, 23, 22, 22, 21, 20, 20, 20, 20, 20, 19], \"type\": \"bar\", \"uid\": \"2080ef9b-6fe0-4984-bc39-1340df81e432\"}], {\"title\": {\"text\": \"Top 50 (cleaned) Word frequencies in the dataset\"}}, {\"showLink\": false, \"linkText\": \"Export to plot.ly\", \"plotlyServerURL\": \"https://plot.ly\"}); \n",
       "}\n",
       "});</script><script type=\"text/javascript\">window.addEventListener(\"resize\", function(){if (document.getElementById(\"35b3d979-cb24-4ea9-af38-ee800e450779\")) {window._Plotly.Plots.resize(document.getElementById(\"35b3d979-cb24-4ea9-af38-ee800e450779\"));};})</script>"
      ]
     },
     "metadata": {},
     "output_type": "display_data"
    }
   ],
   "source": [
    "all_words = clean_round2.str.split(expand=True).unstack().value_counts()\n",
    "data = [go.Bar(\n",
    "            x = all_words.index.values[2:50],\n",
    "            y = all_words.values[2:50],\n",
    "            marker= dict(colorscale='Jet',\n",
    "                         color = all_words.values[2:100]\n",
    "                        ),\n",
    "            text='Word counts'\n",
    "    )]\n",
    "\n",
    "layout = go.Layout(\n",
    "    title='Top 50 (cleaned) Word frequencies in the dataset'\n",
    ")\n",
    "\n",
    "fig = go.Figure(data=data, layout=layout)\n",
    "\n",
    "py.iplot(fig, filename='basic-bar')\n",
    "\n",
    "\n"
   ]
  },
  {
   "cell_type": "markdown",
   "metadata": {},
   "source": [
    "## Plotting for the Bottom 100 words"
   ]
  },
  {
   "cell_type": "code",
   "execution_count": 37,
   "metadata": {},
   "outputs": [
    {
     "data": {
      "application/vnd.plotly.v1+json": {
       "config": {
        "linkText": "Export to plot.ly",
        "plotlyServerURL": "https://plot.ly",
        "showLink": false
       },
       "data": [
        {
         "marker": {
          "color": [
           1,
           1,
           1,
           1,
           1,
           1,
           1,
           1,
           1,
           1,
           1,
           1,
           1,
           1,
           1,
           1,
           1,
           1,
           1,
           1,
           1,
           1,
           1,
           1,
           1,
           1,
           1,
           1,
           1,
           1,
           1,
           1,
           1,
           1,
           1,
           1,
           1,
           1,
           1,
           1,
           1,
           1,
           1,
           1,
           1,
           1,
           1,
           1,
           1,
           1,
           1,
           1,
           1,
           1,
           1,
           1,
           1,
           1,
           1,
           1,
           1,
           1,
           1,
           1,
           1,
           1,
           1,
           1,
           1,
           1,
           1,
           1,
           1,
           1,
           1,
           1,
           1,
           1,
           1,
           1,
           1,
           1,
           1,
           1,
           1,
           1,
           1,
           1,
           1,
           1,
           1,
           1,
           1,
           1,
           1,
           1,
           1,
           1,
           1,
           1
          ],
          "colorscale": "Portland"
         },
         "text": "Word counts",
         "type": "bar",
         "uid": "fd90d8af-f2bd-4242-88c7-6637fd4e39b9",
         "x": [
          "tsrcit",
          "strafe",
          "sustain",
          "nobel",
          "httptcocazthcsm",
          "carsspac",
          "oop",
          "entitl",
          "magnitud",
          "avphotograph",
          "httptcokdlzcdic",
          "nzstuff",
          "willoremus",
          "secur",
          "sad",
          "letha",
          "fwi",
          "capita",
          "httptcohkfhjjuyvn",
          "forbesrussia",
          "hunterwalk",
          "workhumor",
          "srikrp",
          "autopia",
          "laptop",
          "asimo",
          "oppos",
          "gum",
          "vanessaborg",
          "tandem",
          "takeaway",
          "meetup",
          "curious",
          "facckk",
          "congressmen",
          "cancel",
          "nasstrac",
          "relativ",
          "drunkass",
          "lunch",
          "vkhosla",
          "fit",
          "httptcoueutqdmnzu",
          "talker",
          "iot",
          "lovenuitblanch",
          "joke",
          "oversight",
          "traci",
          "shrug",
          "dramat",
          "prize",
          "send",
          "fordtrend",
          "io",
          "noticket",
          "bre",
          "edwardjolmo",
          "httptcotoucgeiykb",
          "snow",
          "bloombergtv",
          "winc",
          "robotaxi",
          "httptcoykxlpxdixb",
          "adamkotsko",
          "equip",
          "obsolet",
          "headless",
          "entir",
          "actfortransit",
          "dumbest",
          "vw",
          "drabtshirt",
          "danalyt",
          "robynbresnahan",
          "semiautonom",
          "nuitblanch",
          "connect",
          "jus",
          "meant",
          "carlo",
          "httptcogkqvenmbyeah",
          "jonlovett",
          "danah",
          "rickscott",
          "reuter",
          "smooth",
          "hu",
          "atlanta",
          "room",
          "sherijo",
          "midnight",
          "firstrt",
          "skyrocket",
          "wed",
          "yptbwp",
          "costmak",
          "rx",
          "reshap",
          "equat"
         ],
         "y": [
          1,
          1,
          1,
          1,
          1,
          1,
          1,
          1,
          1,
          1,
          1,
          1,
          1,
          1,
          1,
          1,
          1,
          1,
          1,
          1,
          1,
          1,
          1,
          1,
          1,
          1,
          1,
          1,
          1,
          1,
          1,
          1,
          1,
          1,
          1,
          1,
          1,
          1,
          1,
          1,
          1,
          1,
          1,
          1,
          1,
          1,
          1,
          1,
          1,
          1,
          1,
          1,
          1,
          1,
          1,
          1,
          1,
          1,
          1,
          1,
          1,
          1,
          1,
          1,
          1,
          1,
          1,
          1,
          1,
          1,
          1,
          1,
          1,
          1,
          1,
          1,
          1,
          1,
          1,
          1,
          1,
          1,
          1,
          1,
          1,
          1,
          1,
          1,
          1,
          1,
          1,
          1,
          1,
          1,
          1,
          1,
          1,
          1,
          1,
          1
         ]
        }
       ],
       "layout": {
        "title": {
         "text": "Bottom 100 Word frequencies after Preprocessing"
        }
       }
      },
      "text/html": [
       "<div id=\"c0b269cf-deb8-4643-aeab-e55ca3971165\" style=\"height: 525px; width: 100%;\" class=\"plotly-graph-div\"></div><script type=\"text/javascript\">require([\"plotly\"], function(Plotly) { window.PLOTLYENV=window.PLOTLYENV || {};window.PLOTLYENV.BASE_URL=\"https://plot.ly\";\n",
       "if (document.getElementById(\"c0b269cf-deb8-4643-aeab-e55ca3971165\")) {\n",
       "    Plotly.newPlot(\"c0b269cf-deb8-4643-aeab-e55ca3971165\", [{\"marker\": {\"color\": [1, 1, 1, 1, 1, 1, 1, 1, 1, 1, 1, 1, 1, 1, 1, 1, 1, 1, 1, 1, 1, 1, 1, 1, 1, 1, 1, 1, 1, 1, 1, 1, 1, 1, 1, 1, 1, 1, 1, 1, 1, 1, 1, 1, 1, 1, 1, 1, 1, 1, 1, 1, 1, 1, 1, 1, 1, 1, 1, 1, 1, 1, 1, 1, 1, 1, 1, 1, 1, 1, 1, 1, 1, 1, 1, 1, 1, 1, 1, 1, 1, 1, 1, 1, 1, 1, 1, 1, 1, 1, 1, 1, 1, 1, 1, 1, 1, 1, 1, 1], \"colorscale\": \"Portland\"}, \"text\": \"Word counts\", \"x\": [\"tsrcit\", \"strafe\", \"sustain\", \"nobel\", \"httptcocazthcsm\", \"carsspac\", \"oop\", \"entitl\", \"magnitud\", \"avphotograph\", \"httptcokdlzcdic\", \"nzstuff\", \"willoremus\", \"secur\", \"sad\", \"letha\", \"fwi\", \"capita\", \"httptcohkfhjjuyvn\", \"forbesrussia\", \"hunterwalk\", \"workhumor\", \"srikrp\", \"autopia\", \"laptop\", \"asimo\", \"oppos\", \"gum\", \"vanessaborg\", \"tandem\", \"takeaway\", \"meetup\", \"curious\", \"facckk\", \"congressmen\", \"cancel\", \"nasstrac\", \"relativ\", \"drunkass\", \"lunch\", \"vkhosla\", \"fit\", \"httptcoueutqdmnzu\", \"talker\", \"iot\", \"lovenuitblanch\", \"joke\", \"oversight\", \"traci\", \"shrug\", \"dramat\", \"prize\", \"send\", \"fordtrend\", \"io\", \"noticket\", \"bre\", \"edwardjolmo\", \"httptcotoucgeiykb\", \"snow\", \"bloombergtv\", \"winc\", \"robotaxi\", \"httptcoykxlpxdixb\", \"adamkotsko\", \"equip\", \"obsolet\", \"headless\", \"entir\", \"actfortransit\", \"dumbest\", \"vw\", \"drabtshirt\", \"danalyt\", \"robynbresnahan\", \"semiautonom\", \"nuitblanch\", \"connect\", \"jus\", \"meant\", \"carlo\", \"httptcogkqvenmbyeah\", \"jonlovett\", \"danah\", \"rickscott\", \"reuter\", \"smooth\", \"hu\", \"atlanta\", \"room\", \"sherijo\", \"midnight\", \"firstrt\", \"skyrocket\", \"wed\", \"yptbwp\", \"costmak\", \"rx\", \"reshap\", \"equat\"], \"y\": [1, 1, 1, 1, 1, 1, 1, 1, 1, 1, 1, 1, 1, 1, 1, 1, 1, 1, 1, 1, 1, 1, 1, 1, 1, 1, 1, 1, 1, 1, 1, 1, 1, 1, 1, 1, 1, 1, 1, 1, 1, 1, 1, 1, 1, 1, 1, 1, 1, 1, 1, 1, 1, 1, 1, 1, 1, 1, 1, 1, 1, 1, 1, 1, 1, 1, 1, 1, 1, 1, 1, 1, 1, 1, 1, 1, 1, 1, 1, 1, 1, 1, 1, 1, 1, 1, 1, 1, 1, 1, 1, 1, 1, 1, 1, 1, 1, 1, 1, 1], \"type\": \"bar\", \"uid\": \"fd90d8af-f2bd-4242-88c7-6637fd4e39b9\"}], {\"title\": {\"text\": \"Bottom 100 Word frequencies after Preprocessing\"}}, {\"showLink\": false, \"linkText\": \"Export to plot.ly\", \"plotlyServerURL\": \"https://plot.ly\"}); \n",
       "}\n",
       "});</script><script type=\"text/javascript\">window.addEventListener(\"resize\", function(){if (document.getElementById(\"c0b269cf-deb8-4643-aeab-e55ca3971165\")) {window._Plotly.Plots.resize(document.getElementById(\"c0b269cf-deb8-4643-aeab-e55ca3971165\"));};})</script>"
      ],
      "text/vnd.plotly.v1+html": [
       "<div id=\"c0b269cf-deb8-4643-aeab-e55ca3971165\" style=\"height: 525px; width: 100%;\" class=\"plotly-graph-div\"></div><script type=\"text/javascript\">require([\"plotly\"], function(Plotly) { window.PLOTLYENV=window.PLOTLYENV || {};window.PLOTLYENV.BASE_URL=\"https://plot.ly\";\n",
       "if (document.getElementById(\"c0b269cf-deb8-4643-aeab-e55ca3971165\")) {\n",
       "    Plotly.newPlot(\"c0b269cf-deb8-4643-aeab-e55ca3971165\", [{\"marker\": {\"color\": [1, 1, 1, 1, 1, 1, 1, 1, 1, 1, 1, 1, 1, 1, 1, 1, 1, 1, 1, 1, 1, 1, 1, 1, 1, 1, 1, 1, 1, 1, 1, 1, 1, 1, 1, 1, 1, 1, 1, 1, 1, 1, 1, 1, 1, 1, 1, 1, 1, 1, 1, 1, 1, 1, 1, 1, 1, 1, 1, 1, 1, 1, 1, 1, 1, 1, 1, 1, 1, 1, 1, 1, 1, 1, 1, 1, 1, 1, 1, 1, 1, 1, 1, 1, 1, 1, 1, 1, 1, 1, 1, 1, 1, 1, 1, 1, 1, 1, 1, 1], \"colorscale\": \"Portland\"}, \"text\": \"Word counts\", \"x\": [\"tsrcit\", \"strafe\", \"sustain\", \"nobel\", \"httptcocazthcsm\", \"carsspac\", \"oop\", \"entitl\", \"magnitud\", \"avphotograph\", \"httptcokdlzcdic\", \"nzstuff\", \"willoremus\", \"secur\", \"sad\", \"letha\", \"fwi\", \"capita\", \"httptcohkfhjjuyvn\", \"forbesrussia\", \"hunterwalk\", \"workhumor\", \"srikrp\", \"autopia\", \"laptop\", \"asimo\", \"oppos\", \"gum\", \"vanessaborg\", \"tandem\", \"takeaway\", \"meetup\", \"curious\", \"facckk\", \"congressmen\", \"cancel\", \"nasstrac\", \"relativ\", \"drunkass\", \"lunch\", \"vkhosla\", \"fit\", \"httptcoueutqdmnzu\", \"talker\", \"iot\", \"lovenuitblanch\", \"joke\", \"oversight\", \"traci\", \"shrug\", \"dramat\", \"prize\", \"send\", \"fordtrend\", \"io\", \"noticket\", \"bre\", \"edwardjolmo\", \"httptcotoucgeiykb\", \"snow\", \"bloombergtv\", \"winc\", \"robotaxi\", \"httptcoykxlpxdixb\", \"adamkotsko\", \"equip\", \"obsolet\", \"headless\", \"entir\", \"actfortransit\", \"dumbest\", \"vw\", \"drabtshirt\", \"danalyt\", \"robynbresnahan\", \"semiautonom\", \"nuitblanch\", \"connect\", \"jus\", \"meant\", \"carlo\", \"httptcogkqvenmbyeah\", \"jonlovett\", \"danah\", \"rickscott\", \"reuter\", \"smooth\", \"hu\", \"atlanta\", \"room\", \"sherijo\", \"midnight\", \"firstrt\", \"skyrocket\", \"wed\", \"yptbwp\", \"costmak\", \"rx\", \"reshap\", \"equat\"], \"y\": [1, 1, 1, 1, 1, 1, 1, 1, 1, 1, 1, 1, 1, 1, 1, 1, 1, 1, 1, 1, 1, 1, 1, 1, 1, 1, 1, 1, 1, 1, 1, 1, 1, 1, 1, 1, 1, 1, 1, 1, 1, 1, 1, 1, 1, 1, 1, 1, 1, 1, 1, 1, 1, 1, 1, 1, 1, 1, 1, 1, 1, 1, 1, 1, 1, 1, 1, 1, 1, 1, 1, 1, 1, 1, 1, 1, 1, 1, 1, 1, 1, 1, 1, 1, 1, 1, 1, 1, 1, 1, 1, 1, 1, 1, 1, 1, 1, 1, 1, 1], \"type\": \"bar\", \"uid\": \"fd90d8af-f2bd-4242-88c7-6637fd4e39b9\"}], {\"title\": {\"text\": \"Bottom 100 Word frequencies after Preprocessing\"}}, {\"showLink\": false, \"linkText\": \"Export to plot.ly\", \"plotlyServerURL\": \"https://plot.ly\"}); \n",
       "}\n",
       "});</script><script type=\"text/javascript\">window.addEventListener(\"resize\", function(){if (document.getElementById(\"c0b269cf-deb8-4643-aeab-e55ca3971165\")) {window._Plotly.Plots.resize(document.getElementById(\"c0b269cf-deb8-4643-aeab-e55ca3971165\"));};})</script>"
      ]
     },
     "metadata": {},
     "output_type": "display_data"
    }
   ],
   "source": [
    "data = [go.Bar(\n",
    "            x = all_words.index.values[-100:],\n",
    "            y = all_words.values[-100:],\n",
    "            marker= dict(colorscale='Portland',\n",
    "                         color = all_words.values[-100:]\n",
    "                        ),\n",
    "            text='Word counts'\n",
    "    )]\n",
    "\n",
    "layout = go.Layout(\n",
    "    title='Bottom 100 Word frequencies after Preprocessing'\n",
    ")\n",
    "\n",
    "fig = go.Figure(data=data, layout=layout)\n",
    "\n",
    "py.iplot(fig, filename='basic-bar')"
   ]
  }
 ],
 "metadata": {
  "kernelspec": {
   "display_name": "Python 3",
   "language": "python",
   "name": "python3"
  },
  "language_info": {
   "codemirror_mode": {
    "name": "ipython",
    "version": 3
   },
   "file_extension": ".py",
   "mimetype": "text/x-python",
   "name": "python",
   "nbconvert_exporter": "python",
   "pygments_lexer": "ipython3",
   "version": "3.6.3"
  }
 },
 "nbformat": 4,
 "nbformat_minor": 2
}
