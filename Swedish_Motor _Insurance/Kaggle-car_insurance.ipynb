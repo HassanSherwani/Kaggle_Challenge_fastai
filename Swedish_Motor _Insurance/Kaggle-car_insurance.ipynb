{
 "cells": [
  {
   "cell_type": "markdown",
   "metadata": {},
   "source": [
    "# Car Insurance Kaggle\n",
    "\n",
    "Applying Generalized Linear Models\n"
   ]
  },
  {
   "cell_type": "markdown",
   "metadata": {},
   "source": [
    "# 1)- Importing key libraries "
   ]
  },
  {
   "cell_type": "code",
   "execution_count": 1,
   "metadata": {},
   "outputs": [],
   "source": [
    "#support both Python 2 and Python 3 with minimal overhead.\n",
    "from __future__ import absolute_import, division, print_function"
   ]
  },
  {
   "cell_type": "code",
   "execution_count": 2,
   "metadata": {},
   "outputs": [],
   "source": [
    "# I am an engineer. I care only about error not warning. So, let's be maverick and ignore warnings.\n",
    "import warnings\n",
    "warnings.filterwarnings('ignore')"
   ]
  },
  {
   "cell_type": "code",
   "execution_count": 3,
   "metadata": {},
   "outputs": [
    {
     "data": {
      "text/html": [
       "<style>body {\n",
       "    margin: 0;\n",
       "    font-family: Helvetica;\n",
       "}\n",
       "table.dataframe {\n",
       "    border-collapse: collapse;\n",
       "    border: none;\n",
       "}\n",
       "table.dataframe tr {\n",
       "    border: none;\n",
       "}\n",
       "table.dataframe td, table.dataframe th {\n",
       "    margin: 0;\n",
       "    border: 1px solid white;\n",
       "    padding-left: 0.25em;\n",
       "    padding-right: 0.25em;\n",
       "}\n",
       "table.dataframe th:not(:empty) {\n",
       "    background-color: #fec;\n",
       "    text-align: left;\n",
       "    font-weight: normal;\n",
       "}\n",
       "table.dataframe tr:nth-child(2) th:empty {\n",
       "    border-left: none;\n",
       "    border-right: 1px dashed #888;\n",
       "}\n",
       "table.dataframe td {\n",
       "    border: 2px solid #ccf;\n",
       "    background-color: #f4f4ff;\n",
       "}\n",
       "h3 {\n",
       "    color: white;\n",
       "    background-color: black;\n",
       "    padding: 0.5em;\n",
       "}\n",
       "</style>"
      ],
      "text/plain": [
       "<IPython.core.display.HTML object>"
      ]
     },
     "execution_count": 3,
     "metadata": {},
     "output_type": "execute_result"
    }
   ],
   "source": [
    "# What's life without style :). So, let's add style to our dataframes\n",
    "from IPython.core.display import HTML\n",
    "css = open('style-table.css').read() + open('style-notebook.css').read()\n",
    "HTML('<style>{}</style>'.format(css))"
   ]
  },
  {
   "cell_type": "code",
   "execution_count": 4,
   "metadata": {},
   "outputs": [],
   "source": [
    "import pandas as pd\n",
    "import numpy as np\n",
    "import h2o\n",
    "import statsmodels.api as sm\n",
    "import statsmodels.formula.api as smf\n",
    "from scipy import stats\n",
    "import sys\n",
    "import matplotlib.pyplot as plt\n",
    "import seaborn as sns\n",
    "%matplotlib inline"
   ]
  },
  {
   "cell_type": "code",
   "execution_count": 5,
   "metadata": {},
   "outputs": [
    {
     "data": {
      "application/json": {
       "Software versions": [
        {
         "module": "Python",
         "version": "3.6.5 64bit [MSC v.1900 64 bit (AMD64)]"
        },
        {
         "module": "IPython",
         "version": "6.4.0"
        },
        {
         "module": "OS",
         "version": "Windows 10 10.0.18362 SP0"
        },
        {
         "module": "pandas",
         "version": "0.24.1"
        },
        {
         "module": "numpy",
         "version": "1.16.0"
        },
        {
         "module": "seaborn",
         "version": "0.9.0"
        },
        {
         "module": "matplotlib",
         "version": "3.0.2"
        },
        {
         "module": "sys",
         "version": "The 'sys' distribution was not found and is required by the application"
        },
        {
         "module": "h2o",
         "version": "3.26.0.3"
        }
       ]
      },
      "text/html": [
       "<table><tr><th>Software</th><th>Version</th></tr><tr><td>Python</td><td>3.6.5 64bit [MSC v.1900 64 bit (AMD64)]</td></tr><tr><td>IPython</td><td>6.4.0</td></tr><tr><td>OS</td><td>Windows 10 10.0.18362 SP0</td></tr><tr><td>pandas</td><td>0.24.1</td></tr><tr><td>numpy</td><td>1.16.0</td></tr><tr><td>seaborn</td><td>0.9.0</td></tr><tr><td>matplotlib</td><td>3.0.2</td></tr><tr><td>sys</td><td>The 'sys' distribution was not found and is required by the application</td></tr><tr><td>h2o</td><td>3.26.0.3</td></tr><tr><td colspan='2'>Sun Aug 25 21:46:26 2019 W. Europe Daylight Time</td></tr></table>"
      ],
      "text/latex": [
       "\\begin{tabular}{|l|l|}\\hline\n",
       "{\\bf Software} & {\\bf Version} \\\\ \\hline\\hline\n",
       "Python & 3.6.5 64bit [MSC v.1900 64 bit (AMD64)] \\\\ \\hline\n",
       "IPython & 6.4.0 \\\\ \\hline\n",
       "OS & Windows 10 10.0.18362 SP0 \\\\ \\hline\n",
       "pandas & 0.24.1 \\\\ \\hline\n",
       "numpy & 1.16.0 \\\\ \\hline\n",
       "seaborn & 0.9.0 \\\\ \\hline\n",
       "matplotlib & 3.0.2 \\\\ \\hline\n",
       "sys & The 'sys' distribution was not found and is required by the application \\\\ \\hline\n",
       "h2o & 3.26.0.3 \\\\ \\hline\n",
       "\\hline \\multicolumn{2}{|l|}{Sun Aug 25 21:46:26 2019 W. Europe Daylight Time} \\\\ \\hline\n",
       "\\end{tabular}\n"
      ],
      "text/plain": [
       "Software versions\n",
       "Python 3.6.5 64bit [MSC v.1900 64 bit (AMD64)]\n",
       "IPython 6.4.0\n",
       "OS Windows 10 10.0.18362 SP0\n",
       "pandas 0.24.1\n",
       "numpy 1.16.0\n",
       "seaborn 0.9.0\n",
       "matplotlib 3.0.2\n",
       "sys The 'sys' distribution was not found and is required by the application\n",
       "h2o 3.26.0.3\n",
       "Sun Aug 25 21:46:26 2019 W. Europe Daylight Time"
      ]
     },
     "execution_count": 5,
     "metadata": {},
     "output_type": "execute_result"
    }
   ],
   "source": [
    "# first install: pip install version_information\n",
    "%reload_ext version_information\n",
    "%version_information pandas, numpy, seaborn, matplotlib, sys,h2o"
   ]
  },
  {
   "cell_type": "markdown",
   "metadata": {},
   "source": [
    "# 2)- Loading data"
   ]
  },
  {
   "cell_type": "code",
   "execution_count": 6,
   "metadata": {},
   "outputs": [],
   "source": [
    "df_insurance=pd.read_csv('SwedishMotorInsurance.csv')"
   ]
  },
  {
   "cell_type": "code",
   "execution_count": 7,
   "metadata": {},
   "outputs": [
    {
     "data": {
      "text/plain": [
       "(2182, 7)"
      ]
     },
     "execution_count": 7,
     "metadata": {},
     "output_type": "execute_result"
    }
   ],
   "source": [
    "df_insurance.shape"
   ]
  },
  {
   "cell_type": "code",
   "execution_count": 8,
   "metadata": {},
   "outputs": [
    {
     "data": {
      "text/plain": [
       "Index(['Kilometres', 'Zone', 'Bonus', 'Make', 'Insured', 'Claims', 'Payment'], dtype='object')"
      ]
     },
     "execution_count": 8,
     "metadata": {},
     "output_type": "execute_result"
    }
   ],
   "source": [
    "df_insurance.columns"
   ]
  },
  {
   "cell_type": "code",
   "execution_count": 9,
   "metadata": {},
   "outputs": [
    {
     "data": {
      "text/html": [
       "<div>\n",
       "<style scoped>\n",
       "    .dataframe tbody tr th:only-of-type {\n",
       "        vertical-align: middle;\n",
       "    }\n",
       "\n",
       "    .dataframe tbody tr th {\n",
       "        vertical-align: top;\n",
       "    }\n",
       "\n",
       "    .dataframe thead th {\n",
       "        text-align: right;\n",
       "    }\n",
       "</style>\n",
       "<table border=\"1\" class=\"dataframe\">\n",
       "  <thead>\n",
       "    <tr style=\"text-align: right;\">\n",
       "      <th></th>\n",
       "      <th>Kilometres</th>\n",
       "      <th>Zone</th>\n",
       "      <th>Bonus</th>\n",
       "      <th>Make</th>\n",
       "      <th>Insured</th>\n",
       "      <th>Claims</th>\n",
       "      <th>Payment</th>\n",
       "    </tr>\n",
       "  </thead>\n",
       "  <tbody>\n",
       "    <tr>\n",
       "      <th>0</th>\n",
       "      <td>1</td>\n",
       "      <td>1</td>\n",
       "      <td>1</td>\n",
       "      <td>1</td>\n",
       "      <td>455.13</td>\n",
       "      <td>108</td>\n",
       "      <td>392491</td>\n",
       "    </tr>\n",
       "    <tr>\n",
       "      <th>1</th>\n",
       "      <td>1</td>\n",
       "      <td>1</td>\n",
       "      <td>1</td>\n",
       "      <td>2</td>\n",
       "      <td>69.17</td>\n",
       "      <td>19</td>\n",
       "      <td>46221</td>\n",
       "    </tr>\n",
       "    <tr>\n",
       "      <th>2</th>\n",
       "      <td>1</td>\n",
       "      <td>1</td>\n",
       "      <td>1</td>\n",
       "      <td>3</td>\n",
       "      <td>72.88</td>\n",
       "      <td>13</td>\n",
       "      <td>15694</td>\n",
       "    </tr>\n",
       "    <tr>\n",
       "      <th>3</th>\n",
       "      <td>1</td>\n",
       "      <td>1</td>\n",
       "      <td>1</td>\n",
       "      <td>4</td>\n",
       "      <td>1292.39</td>\n",
       "      <td>124</td>\n",
       "      <td>422201</td>\n",
       "    </tr>\n",
       "    <tr>\n",
       "      <th>4</th>\n",
       "      <td>1</td>\n",
       "      <td>1</td>\n",
       "      <td>1</td>\n",
       "      <td>5</td>\n",
       "      <td>191.01</td>\n",
       "      <td>40</td>\n",
       "      <td>119373</td>\n",
       "    </tr>\n",
       "  </tbody>\n",
       "</table>\n",
       "</div>"
      ],
      "text/plain": [
       "   Kilometres  Zone  Bonus  Make  Insured  Claims  Payment\n",
       "0           1     1      1     1   455.13     108   392491\n",
       "1           1     1      1     2    69.17      19    46221\n",
       "2           1     1      1     3    72.88      13    15694\n",
       "3           1     1      1     4  1292.39     124   422201\n",
       "4           1     1      1     5   191.01      40   119373"
      ]
     },
     "execution_count": 9,
     "metadata": {},
     "output_type": "execute_result"
    }
   ],
   "source": [
    "df_insurance.head()"
   ]
  },
  {
   "cell_type": "markdown",
   "metadata": {},
   "source": [
    "# 3)- Exploring data"
   ]
  },
  {
   "cell_type": "code",
   "execution_count": 10,
   "metadata": {},
   "outputs": [
    {
     "data": {
      "text/html": [
       "<div>\n",
       "<style scoped>\n",
       "    .dataframe tbody tr th:only-of-type {\n",
       "        vertical-align: middle;\n",
       "    }\n",
       "\n",
       "    .dataframe tbody tr th {\n",
       "        vertical-align: top;\n",
       "    }\n",
       "\n",
       "    .dataframe thead th {\n",
       "        text-align: right;\n",
       "    }\n",
       "</style>\n",
       "<table border=\"1\" class=\"dataframe\">\n",
       "  <thead>\n",
       "    <tr style=\"text-align: right;\">\n",
       "      <th></th>\n",
       "      <th>Kilometres</th>\n",
       "      <th>Zone</th>\n",
       "      <th>Bonus</th>\n",
       "      <th>Make</th>\n",
       "      <th>Insured</th>\n",
       "      <th>Claims</th>\n",
       "      <th>Payment</th>\n",
       "    </tr>\n",
       "  </thead>\n",
       "  <tbody>\n",
       "    <tr>\n",
       "      <th>2177</th>\n",
       "      <td>5</td>\n",
       "      <td>7</td>\n",
       "      <td>7</td>\n",
       "      <td>5</td>\n",
       "      <td>8.74</td>\n",
       "      <td>0</td>\n",
       "      <td>0</td>\n",
       "    </tr>\n",
       "    <tr>\n",
       "      <th>2178</th>\n",
       "      <td>5</td>\n",
       "      <td>7</td>\n",
       "      <td>7</td>\n",
       "      <td>6</td>\n",
       "      <td>16.61</td>\n",
       "      <td>0</td>\n",
       "      <td>0</td>\n",
       "    </tr>\n",
       "    <tr>\n",
       "      <th>2179</th>\n",
       "      <td>5</td>\n",
       "      <td>7</td>\n",
       "      <td>7</td>\n",
       "      <td>7</td>\n",
       "      <td>2.83</td>\n",
       "      <td>1</td>\n",
       "      <td>966</td>\n",
       "    </tr>\n",
       "    <tr>\n",
       "      <th>2180</th>\n",
       "      <td>5</td>\n",
       "      <td>7</td>\n",
       "      <td>7</td>\n",
       "      <td>8</td>\n",
       "      <td>13.06</td>\n",
       "      <td>0</td>\n",
       "      <td>0</td>\n",
       "    </tr>\n",
       "    <tr>\n",
       "      <th>2181</th>\n",
       "      <td>5</td>\n",
       "      <td>7</td>\n",
       "      <td>7</td>\n",
       "      <td>9</td>\n",
       "      <td>384.87</td>\n",
       "      <td>16</td>\n",
       "      <td>112252</td>\n",
       "    </tr>\n",
       "  </tbody>\n",
       "</table>\n",
       "</div>"
      ],
      "text/plain": [
       "      Kilometres  Zone  Bonus  Make  Insured  Claims  Payment\n",
       "2177           5     7      7     5     8.74       0        0\n",
       "2178           5     7      7     6    16.61       0        0\n",
       "2179           5     7      7     7     2.83       1      966\n",
       "2180           5     7      7     8    13.06       0        0\n",
       "2181           5     7      7     9   384.87      16   112252"
      ]
     },
     "execution_count": 10,
     "metadata": {},
     "output_type": "execute_result"
    }
   ],
   "source": [
    "df_insurance.tail()"
   ]
  },
  {
   "cell_type": "code",
   "execution_count": 11,
   "metadata": {},
   "outputs": [
    {
     "data": {
      "text/plain": [
       "pandas.core.frame.DataFrame"
      ]
     },
     "execution_count": 11,
     "metadata": {},
     "output_type": "execute_result"
    }
   ],
   "source": [
    "type(df_insurance)"
   ]
  },
  {
   "cell_type": "code",
   "execution_count": 12,
   "metadata": {},
   "outputs": [
    {
     "name": "stdout",
     "output_type": "stream",
     "text": [
      "<class 'pandas.core.frame.DataFrame'>\n",
      "RangeIndex: 2182 entries, 0 to 2181\n",
      "Data columns (total 7 columns):\n",
      "Kilometres    2182 non-null int64\n",
      "Zone          2182 non-null int64\n",
      "Bonus         2182 non-null int64\n",
      "Make          2182 non-null int64\n",
      "Insured       2182 non-null float64\n",
      "Claims        2182 non-null int64\n",
      "Payment       2182 non-null int64\n",
      "dtypes: float64(1), int64(6)\n",
      "memory usage: 119.4 KB\n"
     ]
    }
   ],
   "source": [
    "df_insurance.info()"
   ]
  },
  {
   "cell_type": "code",
   "execution_count": 13,
   "metadata": {},
   "outputs": [
    {
     "data": {
      "text/html": [
       "<div>\n",
       "<style scoped>\n",
       "    .dataframe tbody tr th:only-of-type {\n",
       "        vertical-align: middle;\n",
       "    }\n",
       "\n",
       "    .dataframe tbody tr th {\n",
       "        vertical-align: top;\n",
       "    }\n",
       "\n",
       "    .dataframe thead th {\n",
       "        text-align: right;\n",
       "    }\n",
       "</style>\n",
       "<table border=\"1\" class=\"dataframe\">\n",
       "  <thead>\n",
       "    <tr style=\"text-align: right;\">\n",
       "      <th></th>\n",
       "      <th>Kilometres</th>\n",
       "      <th>Zone</th>\n",
       "      <th>Bonus</th>\n",
       "      <th>Make</th>\n",
       "      <th>Insured</th>\n",
       "      <th>Claims</th>\n",
       "      <th>Payment</th>\n",
       "    </tr>\n",
       "  </thead>\n",
       "  <tbody>\n",
       "    <tr>\n",
       "      <th>count</th>\n",
       "      <td>2182.000000</td>\n",
       "      <td>2182.000000</td>\n",
       "      <td>2182.000000</td>\n",
       "      <td>2182.000000</td>\n",
       "      <td>2182.000000</td>\n",
       "      <td>2182.000000</td>\n",
       "      <td>2.182000e+03</td>\n",
       "    </tr>\n",
       "    <tr>\n",
       "      <th>mean</th>\n",
       "      <td>2.985793</td>\n",
       "      <td>3.970211</td>\n",
       "      <td>4.015124</td>\n",
       "      <td>4.991751</td>\n",
       "      <td>1092.195270</td>\n",
       "      <td>51.865720</td>\n",
       "      <td>2.570076e+05</td>\n",
       "    </tr>\n",
       "    <tr>\n",
       "      <th>std</th>\n",
       "      <td>1.410409</td>\n",
       "      <td>1.988858</td>\n",
       "      <td>2.000516</td>\n",
       "      <td>2.586943</td>\n",
       "      <td>5661.156245</td>\n",
       "      <td>201.710694</td>\n",
       "      <td>1.017283e+06</td>\n",
       "    </tr>\n",
       "    <tr>\n",
       "      <th>min</th>\n",
       "      <td>1.000000</td>\n",
       "      <td>1.000000</td>\n",
       "      <td>1.000000</td>\n",
       "      <td>1.000000</td>\n",
       "      <td>0.010000</td>\n",
       "      <td>0.000000</td>\n",
       "      <td>0.000000e+00</td>\n",
       "    </tr>\n",
       "    <tr>\n",
       "      <th>25%</th>\n",
       "      <td>2.000000</td>\n",
       "      <td>2.000000</td>\n",
       "      <td>2.000000</td>\n",
       "      <td>3.000000</td>\n",
       "      <td>21.610000</td>\n",
       "      <td>1.000000</td>\n",
       "      <td>2.988750e+03</td>\n",
       "    </tr>\n",
       "    <tr>\n",
       "      <th>50%</th>\n",
       "      <td>3.000000</td>\n",
       "      <td>4.000000</td>\n",
       "      <td>4.000000</td>\n",
       "      <td>5.000000</td>\n",
       "      <td>81.525000</td>\n",
       "      <td>5.000000</td>\n",
       "      <td>2.740350e+04</td>\n",
       "    </tr>\n",
       "    <tr>\n",
       "      <th>75%</th>\n",
       "      <td>4.000000</td>\n",
       "      <td>6.000000</td>\n",
       "      <td>6.000000</td>\n",
       "      <td>7.000000</td>\n",
       "      <td>389.782500</td>\n",
       "      <td>21.000000</td>\n",
       "      <td>1.119538e+05</td>\n",
       "    </tr>\n",
       "    <tr>\n",
       "      <th>max</th>\n",
       "      <td>5.000000</td>\n",
       "      <td>7.000000</td>\n",
       "      <td>7.000000</td>\n",
       "      <td>9.000000</td>\n",
       "      <td>127687.270000</td>\n",
       "      <td>3338.000000</td>\n",
       "      <td>1.824503e+07</td>\n",
       "    </tr>\n",
       "  </tbody>\n",
       "</table>\n",
       "</div>"
      ],
      "text/plain": [
       "        Kilometres         Zone        Bonus         Make        Insured  \\\n",
       "count  2182.000000  2182.000000  2182.000000  2182.000000    2182.000000   \n",
       "mean      2.985793     3.970211     4.015124     4.991751    1092.195270   \n",
       "std       1.410409     1.988858     2.000516     2.586943    5661.156245   \n",
       "min       1.000000     1.000000     1.000000     1.000000       0.010000   \n",
       "25%       2.000000     2.000000     2.000000     3.000000      21.610000   \n",
       "50%       3.000000     4.000000     4.000000     5.000000      81.525000   \n",
       "75%       4.000000     6.000000     6.000000     7.000000     389.782500   \n",
       "max       5.000000     7.000000     7.000000     9.000000  127687.270000   \n",
       "\n",
       "            Claims       Payment  \n",
       "count  2182.000000  2.182000e+03  \n",
       "mean     51.865720  2.570076e+05  \n",
       "std     201.710694  1.017283e+06  \n",
       "min       0.000000  0.000000e+00  \n",
       "25%       1.000000  2.988750e+03  \n",
       "50%       5.000000  2.740350e+04  \n",
       "75%      21.000000  1.119538e+05  \n",
       "max    3338.000000  1.824503e+07  "
      ]
     },
     "execution_count": 13,
     "metadata": {},
     "output_type": "execute_result"
    }
   ],
   "source": [
    "df_insurance.describe()"
   ]
  },
  {
   "cell_type": "markdown",
   "metadata": {},
   "source": [
    "### 3.1)-Dependant feature"
   ]
  },
  {
   "cell_type": "code",
   "execution_count": 14,
   "metadata": {},
   "outputs": [
    {
     "data": {
      "text/plain": [
       "0    108\n",
       "1     19\n",
       "2     13\n",
       "3    124\n",
       "4     40\n",
       "Name: Claims, dtype: int64"
      ]
     },
     "execution_count": 14,
     "metadata": {},
     "output_type": "execute_result"
    }
   ],
   "source": [
    "df_insurance['Claims'].head()"
   ]
  },
  {
   "cell_type": "code",
   "execution_count": 15,
   "metadata": {},
   "outputs": [
    {
     "data": {
      "image/png": "[encoded data removed]",
      "text/plain": [
       "<Figure size 1440x1080 with 9 Axes>"
      ]
     },
     "metadata": {},
     "output_type": "display_data"
    }
   ],
   "source": [
    "# Distribution of Features\n",
    "df_insurance.hist(bins=50, figsize=(20,15))\n",
    "plt.show()"
   ]
  },
  {
   "cell_type": "markdown",
   "metadata": {},
   "source": [
    "From desribe and histogram, there is a possibility of outliers. If it is then we need to detect those values"
   ]
  },
  {
   "cell_type": "markdown",
   "metadata": {},
   "source": [
    "### 3.2)-Missing values"
   ]
  },
  {
   "cell_type": "code",
   "execution_count": 16,
   "metadata": {},
   "outputs": [
    {
     "data": {
      "text/plain": [
       "<matplotlib.axes._subplots.AxesSubplot at 0x2000fa78828>"
      ]
     },
     "execution_count": 16,
     "metadata": {},
     "output_type": "execute_result"
    },
    {
     "data": {
      "image/png": "[encoded data removed]",
      "text/plain": [
       "<Figure size 1152x504 with 2 Axes>"
      ]
     },
     "metadata": {},
     "output_type": "display_data"
    }
   ],
   "source": [
    "import missingno as msno\n",
    "\n",
    "msno.matrix(df_insurance.sample(500),\n",
    "            figsize=(16, 7),\n",
    "            width_ratios=(15, 1))"
   ]
  },
  {
   "cell_type": "code",
   "execution_count": 17,
   "metadata": {},
   "outputs": [
    {
     "data": {
      "text/plain": [
       "Kilometres    0\n",
       "Zone          0\n",
       "Bonus         0\n",
       "Make          0\n",
       "Insured       0\n",
       "Claims        0\n",
       "Payment       0\n",
       "dtype: int64"
      ]
     },
     "execution_count": 17,
     "metadata": {},
     "output_type": "execute_result"
    }
   ],
   "source": [
    "df_insurance.isnull().sum()"
   ]
  },
  {
   "cell_type": "markdown",
   "metadata": {},
   "source": [
    "So, there is no missing value"
   ]
  },
  {
   "cell_type": "markdown",
   "metadata": {},
   "source": [
    "### 3.3)- Duplicate values"
   ]
  },
  {
   "cell_type": "code",
   "execution_count": 18,
   "metadata": {},
   "outputs": [
    {
     "data": {
      "text/plain": [
       "0"
      ]
     },
     "execution_count": 18,
     "metadata": {},
     "output_type": "execute_result"
    }
   ],
   "source": [
    "df_insurance.duplicated().sum()"
   ]
  },
  {
   "cell_type": "markdown",
   "metadata": {},
   "source": [
    "### 3.4)-Sorting"
   ]
  },
  {
   "cell_type": "code",
   "execution_count": 19,
   "metadata": {},
   "outputs": [
    {
     "data": {
      "text/html": [
       "<div>\n",
       "<style scoped>\n",
       "    .dataframe tbody tr th:only-of-type {\n",
       "        vertical-align: middle;\n",
       "    }\n",
       "\n",
       "    .dataframe tbody tr th {\n",
       "        vertical-align: top;\n",
       "    }\n",
       "\n",
       "    .dataframe thead th {\n",
       "        text-align: right;\n",
       "    }\n",
       "</style>\n",
       "<table border=\"1\" class=\"dataframe\">\n",
       "  <thead>\n",
       "    <tr style=\"text-align: right;\">\n",
       "      <th></th>\n",
       "      <th>Kilometres</th>\n",
       "      <th>Zone</th>\n",
       "      <th>Bonus</th>\n",
       "      <th>Make</th>\n",
       "      <th>Insured</th>\n",
       "      <th>Claims</th>\n",
       "      <th>Payment</th>\n",
       "    </tr>\n",
       "  </thead>\n",
       "  <tbody>\n",
       "    <tr>\n",
       "      <th>690</th>\n",
       "      <td>2</td>\n",
       "      <td>4</td>\n",
       "      <td>7</td>\n",
       "      <td>9</td>\n",
       "      <td>121293.07</td>\n",
       "      <td>3338</td>\n",
       "      <td>18245026</td>\n",
       "    </tr>\n",
       "    <tr>\n",
       "      <th>251</th>\n",
       "      <td>1</td>\n",
       "      <td>4</td>\n",
       "      <td>7</td>\n",
       "      <td>9</td>\n",
       "      <td>127687.27</td>\n",
       "      <td>2894</td>\n",
       "      <td>15540162</td>\n",
       "    </tr>\n",
       "    <tr>\n",
       "      <th>1131</th>\n",
       "      <td>3</td>\n",
       "      <td>4</td>\n",
       "      <td>7</td>\n",
       "      <td>9</td>\n",
       "      <td>79614.96</td>\n",
       "      <td>2548</td>\n",
       "      <td>13203616</td>\n",
       "    </tr>\n",
       "    <tr>\n",
       "      <th>501</th>\n",
       "      <td>2</td>\n",
       "      <td>1</td>\n",
       "      <td>7</td>\n",
       "      <td>9</td>\n",
       "      <td>44511.41</td>\n",
       "      <td>2127</td>\n",
       "      <td>10315455</td>\n",
       "    </tr>\n",
       "    <tr>\n",
       "      <th>564</th>\n",
       "      <td>2</td>\n",
       "      <td>2</td>\n",
       "      <td>7</td>\n",
       "      <td>9</td>\n",
       "      <td>54421.40</td>\n",
       "      <td>2087</td>\n",
       "      <td>9950131</td>\n",
       "    </tr>\n",
       "  </tbody>\n",
       "</table>\n",
       "</div>"
      ],
      "text/plain": [
       "      Kilometres  Zone  Bonus  Make    Insured  Claims   Payment\n",
       "690            2     4      7     9  121293.07    3338  18245026\n",
       "251            1     4      7     9  127687.27    2894  15540162\n",
       "1131           3     4      7     9   79614.96    2548  13203616\n",
       "501            2     1      7     9   44511.41    2127  10315455\n",
       "564            2     2      7     9   54421.40    2087   9950131"
      ]
     },
     "execution_count": 19,
     "metadata": {},
     "output_type": "execute_result"
    }
   ],
   "source": [
    "df_insurance.sort_values(by='Claims', ascending=False).head()"
   ]
  },
  {
   "cell_type": "code",
   "execution_count": 20,
   "metadata": {},
   "outputs": [
    {
     "data": {
      "text/html": [
       "<div>\n",
       "<style scoped>\n",
       "    .dataframe tbody tr th:only-of-type {\n",
       "        vertical-align: middle;\n",
       "    }\n",
       "\n",
       "    .dataframe tbody tr th {\n",
       "        vertical-align: top;\n",
       "    }\n",
       "\n",
       "    .dataframe thead th {\n",
       "        text-align: right;\n",
       "    }\n",
       "</style>\n",
       "<table border=\"1\" class=\"dataframe\">\n",
       "  <thead>\n",
       "    <tr style=\"text-align: right;\">\n",
       "      <th></th>\n",
       "      <th>Kilometres</th>\n",
       "      <th>Zone</th>\n",
       "      <th>Bonus</th>\n",
       "      <th>Make</th>\n",
       "      <th>Insured</th>\n",
       "      <th>Claims</th>\n",
       "      <th>Payment</th>\n",
       "    </tr>\n",
       "  </thead>\n",
       "  <tbody>\n",
       "    <tr>\n",
       "      <th>361</th>\n",
       "      <td>1</td>\n",
       "      <td>6</td>\n",
       "      <td>6</td>\n",
       "      <td>2</td>\n",
       "      <td>88.23</td>\n",
       "      <td>0</td>\n",
       "      <td>0</td>\n",
       "    </tr>\n",
       "    <tr>\n",
       "      <th>793</th>\n",
       "      <td>2</td>\n",
       "      <td>6</td>\n",
       "      <td>5</td>\n",
       "      <td>4</td>\n",
       "      <td>77.26</td>\n",
       "      <td>0</td>\n",
       "      <td>0</td>\n",
       "    </tr>\n",
       "    <tr>\n",
       "      <th>434</th>\n",
       "      <td>1</td>\n",
       "      <td>7</td>\n",
       "      <td>7</td>\n",
       "      <td>5</td>\n",
       "      <td>60.68</td>\n",
       "      <td>0</td>\n",
       "      <td>0</td>\n",
       "    </tr>\n",
       "    <tr>\n",
       "      <th>1856</th>\n",
       "      <td>5</td>\n",
       "      <td>2</td>\n",
       "      <td>5</td>\n",
       "      <td>3</td>\n",
       "      <td>56.86</td>\n",
       "      <td>0</td>\n",
       "      <td>0</td>\n",
       "    </tr>\n",
       "    <tr>\n",
       "      <th>1668</th>\n",
       "      <td>4</td>\n",
       "      <td>6</td>\n",
       "      <td>4</td>\n",
       "      <td>6</td>\n",
       "      <td>56.73</td>\n",
       "      <td>0</td>\n",
       "      <td>0</td>\n",
       "    </tr>\n",
       "  </tbody>\n",
       "</table>\n",
       "</div>"
      ],
      "text/plain": [
       "      Kilometres  Zone  Bonus  Make  Insured  Claims  Payment\n",
       "361            1     6      6     2    88.23       0        0\n",
       "793            2     6      5     4    77.26       0        0\n",
       "434            1     7      7     5    60.68       0        0\n",
       "1856           5     2      5     3    56.86       0        0\n",
       "1668           4     6      4     6    56.73       0        0"
      ]
     },
     "execution_count": 20,
     "metadata": {},
     "output_type": "execute_result"
    }
   ],
   "source": [
    "df_insurance.sort_values(by=['Claims', 'Insured'], ascending=[True, False]).head()"
   ]
  },
  {
   "cell_type": "markdown",
   "metadata": {},
   "source": [
    "### 3.5)- Correlation"
   ]
  },
  {
   "cell_type": "code",
   "execution_count": 21,
   "metadata": {},
   "outputs": [],
   "source": [
    "data_corrs = df_insurance.corr()"
   ]
  },
  {
   "cell_type": "code",
   "execution_count": 22,
   "metadata": {},
   "outputs": [
    {
     "data": {
      "image/png": "[encoded data removed]",
      "text/plain": [
       "<Figure size 576x432 with 2 Axes>"
      ]
     },
     "metadata": {},
     "output_type": "display_data"
    }
   ],
   "source": [
    "plt.figure(figsize = (8, 6))\n",
    "\n",
    "# Heatmap of correlations\n",
    "sns.heatmap(data_corrs, cmap = plt.cm.RdYlBu_r, vmin = -0.25, annot = True, vmax = 0.6)\n",
    "plt.title('Correlation Heatmap');"
   ]
  },
  {
   "cell_type": "code",
   "execution_count": 23,
   "metadata": {},
   "outputs": [],
   "source": [
    "#correlations with the label feature and sort\n",
    "correlations = df_insurance.corr()['Claims'].sort_values()"
   ]
  },
  {
   "cell_type": "code",
   "execution_count": 24,
   "metadata": {},
   "outputs": [
    {
     "name": "stdout",
     "output_type": "stream",
     "text": [
      "Most Positive Correlations:\n",
      " Bonus      0.105102\n",
      "Make       0.253212\n",
      "Insured    0.910348\n",
      "Payment    0.995400\n",
      "Claims     1.000000\n",
      "Name: Claims, dtype: float64\n"
     ]
    }
   ],
   "source": [
    "print('Most Positive Correlations:\\n', correlations.tail(5))"
   ]
  },
  {
   "cell_type": "code",
   "execution_count": 25,
   "metadata": {},
   "outputs": [
    {
     "name": "stdout",
     "output_type": "stream",
     "text": [
      "\n",
      "Most Negative Correlations:\n",
      " Kilometres   -0.128452\n",
      "Zone         -0.114687\n",
      "Bonus         0.105102\n",
      "Make          0.253212\n",
      "Insured       0.910348\n",
      "Name: Claims, dtype: float64\n"
     ]
    }
   ],
   "source": [
    "print('\\nMost Negative Correlations:\\n', correlations.head(5))"
   ]
  },
  {
   "cell_type": "markdown",
   "metadata": {},
   "source": [
    "### 3.6)- Outliers"
   ]
  },
  {
   "cell_type": "code",
   "execution_count": 26,
   "metadata": {},
   "outputs": [
    {
     "data": {
      "text/plain": [
       "3338"
      ]
     },
     "execution_count": 26,
     "metadata": {},
     "output_type": "execute_result"
    }
   ],
   "source": [
    "df_insurance['Claims'].max()"
   ]
  },
  {
   "cell_type": "code",
   "execution_count": 27,
   "metadata": {},
   "outputs": [
    {
     "data": {
      "text/plain": [
       "0"
      ]
     },
     "execution_count": 27,
     "metadata": {},
     "output_type": "execute_result"
    }
   ],
   "source": [
    "df_insurance['Claims'].min()"
   ]
  },
  {
   "cell_type": "code",
   "execution_count": 28,
   "metadata": {},
   "outputs": [
    {
     "data": {
      "text/plain": [
       "51.86571952337305"
      ]
     },
     "execution_count": 28,
     "metadata": {},
     "output_type": "execute_result"
    }
   ],
   "source": [
    "df_insurance['Claims'].mean()"
   ]
  },
  {
   "cell_type": "code",
   "execution_count": 29,
   "metadata": {},
   "outputs": [
    {
     "data": {
      "text/plain": [
       "201.71069351186725"
      ]
     },
     "execution_count": 29,
     "metadata": {},
     "output_type": "execute_result"
    }
   ],
   "source": [
    "df_insurance['Claims'].std()"
   ]
  },
  {
   "cell_type": "markdown",
   "metadata": {},
   "source": [
    "We can see higher and lower values. Huge difference in std deviation and mean so, there is possibility of outliers. Let's confirm it !!!"
   ]
  },
  {
   "cell_type": "code",
   "execution_count": 30,
   "metadata": {},
   "outputs": [
    {
     "data": {
      "text/plain": [
       "Kilometres    1\n",
       "Zone          1\n",
       "Bonus         1\n",
       "Make          1\n",
       "Insured       1\n",
       "Claims        1\n",
       "Payment       1\n",
       "dtype: int64"
      ]
     },
     "execution_count": 30,
     "metadata": {},
     "output_type": "execute_result"
    }
   ],
   "source": [
    "df_insurance[(df_insurance['Claims'] > 3000)].count()"
   ]
  },
  {
   "cell_type": "code",
   "execution_count": 31,
   "metadata": {
    "scrolled": true
   },
   "outputs": [
    {
     "data": {
      "text/plain": [
       "Kilometres    6\n",
       "Zone          6\n",
       "Bonus         6\n",
       "Make          6\n",
       "Insured       6\n",
       "Claims        6\n",
       "Payment       6\n",
       "dtype: int64"
      ]
     },
     "execution_count": 31,
     "metadata": {},
     "output_type": "execute_result"
    }
   ],
   "source": [
    "df_insurance[(df_insurance['Claims'] > 2000)].count()"
   ]
  },
  {
   "cell_type": "code",
   "execution_count": 32,
   "metadata": {
    "scrolled": true
   },
   "outputs": [
    {
     "data": {
      "text/plain": [
       "Kilometres    22\n",
       "Zone          22\n",
       "Bonus         22\n",
       "Make          22\n",
       "Insured       22\n",
       "Claims        22\n",
       "Payment       22\n",
       "dtype: int64"
      ]
     },
     "execution_count": 32,
     "metadata": {},
     "output_type": "execute_result"
    }
   ],
   "source": [
    "df_insurance[(df_insurance['Claims'] > 1000)].count()"
   ]
  },
  {
   "cell_type": "code",
   "execution_count": 33,
   "metadata": {},
   "outputs": [
    {
     "data": {
      "text/plain": [
       "<matplotlib.axes._subplots.AxesSubplot at 0x2000efd7fd0>"
      ]
     },
     "execution_count": 33,
     "metadata": {},
     "output_type": "execute_result"
    },
    {
     "data": {
      "image/png": "[encoded data removed]",
      "text/plain": [
       "<Figure size 1080x720 with 1 Axes>"
      ]
     },
     "metadata": {},
     "output_type": "display_data"
    }
   ],
   "source": [
    "df_insurance.Claims.hist(bins=50,figsize=(15,10))"
   ]
  },
  {
   "cell_type": "markdown",
   "metadata": {},
   "source": [
    "Claims' value are skewed"
   ]
  },
  {
   "cell_type": "code",
   "execution_count": 34,
   "metadata": {},
   "outputs": [
    {
     "name": "stdout",
     "output_type": "stream",
     "text": [
      "\n",
      " mu = 51.87 and sigma = 201.66\n",
      "\n"
     ]
    },
    {
     "data": {
      "text/plain": [
       "Text(0.5, 1.0, 'Insurance Claims distribution')"
      ]
     },
     "execution_count": 34,
     "metadata": {},
     "output_type": "execute_result"
    },
    {
     "data": {
      "image/png": "[encoded data removed]",
      "text/plain": [
       "<Figure size 432x288 with 1 Axes>"
      ]
     },
     "metadata": {},
     "output_type": "display_data"
    }
   ],
   "source": [
    "from scipy.stats import norm, skew\n",
    "sns.distplot(df_insurance['Claims'] , fit=norm);\n",
    "\n",
    "# Get the fitted parameters used by the function\n",
    "(mu, sigma) = norm.fit(df_insurance['Claims'])\n",
    "print( '\\n mu = {:.2f} and sigma = {:.2f}\\n'.format(mu, sigma))\n",
    "\n",
    "# Plotting the distribution\n",
    "plt.legend(['Normal dist. ($\\mu=$ {:.2f} and $\\sigma=$ {:.2f} )'.format(mu, sigma)],\n",
    "            loc='best')\n",
    "plt.ylabel('Frequency')\n",
    "plt.title('Insurance Claims distribution')"
   ]
  },
  {
   "cell_type": "markdown",
   "metadata": {},
   "source": [
    "### 3.7)- Density plot for claim frequencies"
   ]
  },
  {
   "cell_type": "code",
   "execution_count": 35,
   "metadata": {},
   "outputs": [
    {
     "data": {
      "text/plain": [
       "<matplotlib.axes._subplots.AxesSubplot at 0x2000eb9ba58>"
      ]
     },
     "execution_count": 35,
     "metadata": {},
     "output_type": "execute_result"
    },
    {
     "data": {
      "image/png": "[encoded data removed]",
      "text/plain": [
       "<Figure size 432x288 with 1 Axes>"
      ]
     },
     "metadata": {},
     "output_type": "display_data"
    }
   ],
   "source": [
    "df_insurance.Claims.plot(kind='density')"
   ]
  },
  {
   "cell_type": "markdown",
   "metadata": {},
   "source": [
    "### 3.8)-Boxplot"
   ]
  },
  {
   "cell_type": "code",
   "execution_count": 36,
   "metadata": {},
   "outputs": [
    {
     "data": {
      "image/png": "[encoded data removed]",
      "text/plain": [
       "<Figure size 432x288 with 1 Axes>"
      ]
     },
     "metadata": {},
     "output_type": "display_data"
    }
   ],
   "source": [
    "df_insurance.Claims.plot(kind='box', subplots=True, layout=(1,1), sharex=False, sharey=False)\n",
    "plt.show()"
   ]
  },
  {
   "cell_type": "markdown",
   "metadata": {},
   "source": [
    "These above points are outliers. So, finally we got visual evidences"
   ]
  },
  {
   "cell_type": "markdown",
   "metadata": {},
   "source": [
    "### 3.9)-Scatter plot"
   ]
  },
  {
   "cell_type": "code",
   "execution_count": 37,
   "metadata": {},
   "outputs": [
    {
     "data": {
      "text/plain": [
       "<matplotlib.collections.PathCollection at 0x2000f04c518>"
      ]
     },
     "execution_count": 37,
     "metadata": {},
     "output_type": "execute_result"
    },
    {
     "data": {
      "image/png": "[encoded data removed]",
      "text/plain": [
       "<Figure size 720x432 with 1 Axes>"
      ]
     },
     "metadata": {},
     "output_type": "display_data"
    }
   ],
   "source": [
    "plt.figure(figsize=(10,6))\n",
    "plt.scatter(y=df_insurance['Claims'],x=df_insurance['Kilometres'],alpha=0.3)"
   ]
  },
  {
   "cell_type": "code",
   "execution_count": 38,
   "metadata": {},
   "outputs": [
    {
     "data": {
      "text/plain": [
       "<matplotlib.collections.PathCollection at 0x2000f60cfd0>"
      ]
     },
     "execution_count": 38,
     "metadata": {},
     "output_type": "execute_result"
    },
    {
     "data": {
      "image/png": "[encoded data removed]",
      "text/plain": [
       "<Figure size 720x432 with 1 Axes>"
      ]
     },
     "metadata": {},
     "output_type": "display_data"
    }
   ],
   "source": [
    "plt.figure(figsize=(10,6))\n",
    "plt.scatter(y=df_insurance['Claims'],x=df_insurance['Zone'],alpha=0.3)"
   ]
  },
  {
   "cell_type": "code",
   "execution_count": 39,
   "metadata": {},
   "outputs": [
    {
     "data": {
      "text/plain": [
       "<matplotlib.collections.PathCollection at 0x2000ebe3b38>"
      ]
     },
     "execution_count": 39,
     "metadata": {},
     "output_type": "execute_result"
    },
    {
     "data": {
      "image/png": "[encoded data removed]",
      "text/plain": [
       "<Figure size 720x432 with 1 Axes>"
      ]
     },
     "metadata": {},
     "output_type": "display_data"
    }
   ],
   "source": [
    "plt.figure(figsize=(10,6))\n",
    "plt.scatter(y=df_insurance['Claims'],x=df_insurance['Bonus'],alpha=0.3)"
   ]
  },
  {
   "cell_type": "code",
   "execution_count": 40,
   "metadata": {},
   "outputs": [
    {
     "data": {
      "text/plain": [
       "<matplotlib.collections.PathCollection at 0x2000ed31c50>"
      ]
     },
     "execution_count": 40,
     "metadata": {},
     "output_type": "execute_result"
    },
    {
     "data": {
      "image/png": "[encoded data removed]",
      "text/plain": [
       "<Figure size 720x432 with 1 Axes>"
      ]
     },
     "metadata": {},
     "output_type": "display_data"
    }
   ],
   "source": [
    "plt.figure(figsize=(10,6))\n",
    "plt.scatter(y=df_insurance['Claims'],x=df_insurance['Make'],alpha=0.3)"
   ]
  },
  {
   "cell_type": "code",
   "execution_count": 41,
   "metadata": {},
   "outputs": [
    {
     "data": {
      "text/plain": [
       "<matplotlib.collections.PathCollection at 0x2000ec96ef0>"
      ]
     },
     "execution_count": 41,
     "metadata": {},
     "output_type": "execute_result"
    },
    {
     "data": {
      "image/png": "[encoded data removed]",
      "text/plain": [
       "<Figure size 720x432 with 1 Axes>"
      ]
     },
     "metadata": {},
     "output_type": "display_data"
    }
   ],
   "source": [
    "plt.figure(figsize=(10,6))\n",
    "plt.scatter(y=df_insurance['Claims'],x=df_insurance['Insured'],alpha=0.3)"
   ]
  },
  {
   "cell_type": "code",
   "execution_count": 42,
   "metadata": {},
   "outputs": [
    {
     "data": {
      "text/plain": [
       "<matplotlib.collections.PathCollection at 0x2000f4c8160>"
      ]
     },
     "execution_count": 42,
     "metadata": {},
     "output_type": "execute_result"
    },
    {
     "data": {
      "image/png": "[encoded data removed]",
      "text/plain": [
       "<Figure size 720x432 with 1 Axes>"
      ]
     },
     "metadata": {},
     "output_type": "display_data"
    }
   ],
   "source": [
    "plt.figure(figsize=(10,6))\n",
    "plt.scatter(y=df_insurance['Claims'],x=df_insurance['Payment'],alpha=0.3)"
   ]
  },
  {
   "cell_type": "markdown",
   "metadata": {},
   "source": [
    "\"Insured\" and \"Payment\" are showing a linear pattern."
   ]
  },
  {
   "cell_type": "markdown",
   "metadata": {},
   "source": [
    "### 3.10)- Plot Claim Frequencies\n",
    "\n",
    "boxplot"
   ]
  },
  {
   "cell_type": "code",
   "execution_count": 43,
   "metadata": {},
   "outputs": [],
   "source": [
    "df_insurance['av_claims']= (df_insurance['Claims']/df_insurance['Insured'])"
   ]
  },
  {
   "cell_type": "code",
   "execution_count": 44,
   "metadata": {},
   "outputs": [
    {
     "data": {
      "image/png": "[encoded data removed]",
      "text/plain": [
       "<Figure size 360x360 with 1 Axes>"
      ]
     },
     "metadata": {},
     "output_type": "display_data"
    }
   ],
   "source": [
    "sns.catplot(x=\"Kilometres\", y=\"av_claims\", kind=\"box\", data=df_insurance);"
   ]
  },
  {
   "cell_type": "code",
   "execution_count": 45,
   "metadata": {},
   "outputs": [
    {
     "data": {
      "image/png": "[encoded data removed]",
      "text/plain": [
       "<Figure size 360x360 with 1 Axes>"
      ]
     },
     "metadata": {},
     "output_type": "display_data"
    }
   ],
   "source": [
    "sns.catplot(x=\"Bonus\", y=\"av_claims\", kind=\"box\", data=df_insurance);"
   ]
  },
  {
   "cell_type": "code",
   "execution_count": 46,
   "metadata": {},
   "outputs": [
    {
     "data": {
      "image/png": "[encoded data removed]",
      "text/plain": [
       "<Figure size 360x360 with 1 Axes>"
      ]
     },
     "metadata": {},
     "output_type": "display_data"
    }
   ],
   "source": [
    "sns.catplot(x=\"Zone\", y=\"av_claims\", kind=\"box\", data=df_insurance);"
   ]
  },
  {
   "cell_type": "code",
   "execution_count": 47,
   "metadata": {},
   "outputs": [
    {
     "data": {
      "image/png": "[encoded data removed]",
      "text/plain": [
       "<Figure size 360x360 with 1 Axes>"
      ]
     },
     "metadata": {},
     "output_type": "display_data"
    }
   ],
   "source": [
    "sns.catplot(x=\"Make\", y=\"av_claims\", kind=\"box\", data=df_insurance);"
   ]
  },
  {
   "cell_type": "markdown",
   "metadata": {},
   "source": [
    "### 3.11)-Tukey IQR\n",
    "\n",
    "For outlier problem"
   ]
  },
  {
   "cell_type": "code",
   "execution_count": 48,
   "metadata": {},
   "outputs": [],
   "source": [
    "def find_outliers_tukey(x):\n",
    "    q1 = np.percentile(x, 25)\n",
    "    q3 = np.percentile(x, 75)\n",
    "    iqr = q3-q1 \n",
    "    floor = q1 - 1.5*iqr\n",
    "    ceiling = q3 + 1.5*iqr\n",
    "    outlier_indices = list(x.index[(x < floor)|(x > ceiling)])\n",
    "    outlier_values = list(x[outlier_indices])\n",
    "\n",
    "    return outlier_indices, outlier_values"
   ]
  },
  {
   "cell_type": "code",
   "execution_count": 49,
   "metadata": {},
   "outputs": [
    {
     "name": "stdout",
     "output_type": "stream",
     "text": [
      "[  52   52   52   52   52   53   53   53   53   53   53   54   54   55\n",
      "   55   55   55   55   55   55   55   56   56   57   57   58   58   58\n",
      "   59   60   60   60   60   61   61   62   62   62   63   64   64   64\n",
      "   65   65   65   65   65   65   65   65   66   66   67   67   67   67\n",
      "   67   68   68   69   69   70   70   70   70   71   71   72   72   72\n",
      "   72   73   74   74   74   74   74   74   75   76   76   77   77   78\n",
      "   80   80   81   82   82   82   82   83   83   83   83   84   85   86\n",
      "   86   86   86   86   86   87   87   87   87   88   89   89   90   91\n",
      "   91   91   91   92   92   94   95   95   96   96   97   97   98   98\n",
      "   98   98   99   99   99   99   99   99  100  101  101  101  101  103\n",
      "  104  105  107  107  107  107  108  109  111  111  112  113  113  115\n",
      "  115  115  115  116  116  117  118  119  120  120  121  121  122  122\n",
      "  122  124  125  125  127  131  135  136  138  139  140  144  146  148\n",
      "  150  153  154  156  156  157  159  160  162  164  165  172  172  173\n",
      "  174  174  176  185  187  187  190  194  197  209  211  214  217  219\n",
      "  222  224  226  227  233  233  234  236  241  242  242  243  250  250\n",
      "  255  255  256  269  274  282  283  284  290  291  291  294  297  300\n",
      "  301  304  317  320  323  323  324  324  325  332  344  344  356  359\n",
      "  363  389  390  393  396  404  407  407  407  408  413  416  418  425\n",
      "  427  441  444  445  453  456  477  477  484  484  486  492  517  520\n",
      "  522  535  542  556  559  580  584  589  591  598  605  616  616  618\n",
      "  622  625  638  645  722  728  799  849  886  920 1003 1037 1157 1186\n",
      " 1205 1326 1410 1442 1446 1462 1481 1504 1704 1744 1865 1875 2044 2087\n",
      " 2127 2548 2894 3338]\n"
     ]
    }
   ],
   "source": [
    "tukey_indices, tukey_values = find_outliers_tukey(df_insurance['Claims'])\n",
    "print(np.sort(tukey_values))"
   ]
  },
  {
   "cell_type": "markdown",
   "metadata": {},
   "source": [
    "### 3.12)-Treating Outlier problem\n",
    "If we want to treat these outliers then feature scaling is the way. There are 4 methods of feature scaling that are implemented in scikit-learn:\n",
    "\n",
    "- StandardScaler\n",
    "- MinMaxScaler\n",
    "- RobustScaler\n",
    "- Normalizer"
   ]
  },
  {
   "cell_type": "code",
   "execution_count": 50,
   "metadata": {},
   "outputs": [],
   "source": [
    "# Log Transformation of the Target Variable\n",
    "df_insurance[\"Claims\"]=np.log1p(df_insurance[\"Claims\"])"
   ]
  },
  {
   "cell_type": "markdown",
   "metadata": {},
   "source": [
    "### 3.13)-Probability plot or QQ plot"
   ]
  },
  {
   "cell_type": "code",
   "execution_count": 51,
   "metadata": {},
   "outputs": [
    {
     "data": {
      "image/png": "[encoded data removed]",
      "text/plain": [
       "<Figure size 432x288 with 1 Axes>"
      ]
     },
     "metadata": {},
     "output_type": "display_data"
    }
   ],
   "source": [
    "fig = plt.figure()\n",
    "res = stats.probplot(df_insurance['Claims'], plot=plt)\n",
    "plt.show()"
   ]
  },
  {
   "cell_type": "markdown",
   "metadata": {},
   "source": [
    "# 4)- Poisson Model"
   ]
  },
  {
   "cell_type": "code",
   "execution_count": 52,
   "metadata": {},
   "outputs": [],
   "source": [
    "y = df_insurance.Claims.values\n",
    "x = df_insurance.drop('Claims', 1)"
   ]
  },
  {
   "cell_type": "code",
   "execution_count": 53,
   "metadata": {},
   "outputs": [
    {
     "data": {
      "text/plain": [
       "pandas.core.frame.DataFrame"
      ]
     },
     "execution_count": 53,
     "metadata": {},
     "output_type": "execute_result"
    }
   ],
   "source": [
    "type(x)"
   ]
  },
  {
   "cell_type": "code",
   "execution_count": 54,
   "metadata": {},
   "outputs": [],
   "source": [
    "# adding constant to adding bias\n",
    "X = sm.add_constant(x, prepend=False)"
   ]
  },
  {
   "cell_type": "code",
   "execution_count": 55,
   "metadata": {},
   "outputs": [
    {
     "data": {
      "text/plain": [
       "pandas.core.frame.DataFrame"
      ]
     },
     "execution_count": 55,
     "metadata": {},
     "output_type": "execute_result"
    }
   ],
   "source": [
    "type(x)"
   ]
  },
  {
   "cell_type": "code",
   "execution_count": 56,
   "metadata": {},
   "outputs": [
    {
     "name": "stderr",
     "output_type": "stream",
     "text": [
      "C:\\Users\\Hassan\\Anaconda3\\lib\\site-packages\\sklearn\\preprocessing\\data.py:645: DataConversionWarning: Data with input dtype int64, float64 were all converted to float64 by StandardScaler.\n",
      "  return self.partial_fit(X, y)\n",
      "C:\\Users\\Hassan\\Anaconda3\\lib\\site-packages\\sklearn\\base.py:464: DataConversionWarning: Data with input dtype int64, float64 were all converted to float64 by StandardScaler.\n",
      "  return self.fit(X, **fit_params).transform(X)\n"
     ]
    },
    {
     "data": {
      "text/plain": [
       "array([[-1.40827845, -1.49376798, -1.50751861, ..., -0.11255851,\n",
       "         0.13321216,  1.96478594],\n",
       "       [-1.40827845, -1.49376798, -1.50751861, ..., -0.18075102,\n",
       "        -0.20725309,  2.40167423],\n",
       "       [-1.40827845, -1.49376798, -1.50751861, ..., -0.18009553,\n",
       "        -0.23726835,  1.2763475 ],\n",
       "       ...,\n",
       "       [ 1.42842921,  1.52373092,  1.49239531, ..., -0.19247216,\n",
       "        -0.25174945,  3.32090194],\n",
       "       [ 1.42842921,  1.52373092,  1.49239531, ..., -0.1906647 ,\n",
       "        -0.25269926, -0.80786303],\n",
       "       [ 1.42842921,  1.52373092,  1.49239531, ..., -0.12497225,\n",
       "        -0.14232901, -0.32211335]])"
      ]
     },
     "execution_count": 56,
     "metadata": {},
     "output_type": "execute_result"
    }
   ],
   "source": [
    "from sklearn.preprocessing import StandardScaler\n",
    "X_scaled = StandardScaler().fit_transform(x)\n",
    "X_scaled"
   ]
  },
  {
   "cell_type": "markdown",
   "metadata": {},
   "source": [
    "### 4.1)- building the model\n"
   ]
  },
  {
   "cell_type": "code",
   "execution_count": 57,
   "metadata": {},
   "outputs": [],
   "source": [
    "poisson_mod = sm.Poisson(y, x)"
   ]
  },
  {
   "cell_type": "code",
   "execution_count": 58,
   "metadata": {},
   "outputs": [
    {
     "name": "stdout",
     "output_type": "stream",
     "text": [
      "Optimization terminated successfully.\n",
      "         Current function value: 1.661465\n",
      "         Iterations 14\n",
      "                          Poisson Regression Results                          \n",
      "==============================================================================\n",
      "Dep. Variable:                      y   No. Observations:                 2182\n",
      "Model:                        Poisson   Df Residuals:                     2175\n",
      "Method:                           MLE   Df Model:                            6\n",
      "Date:                Sun, 25 Aug 2019   Pseudo R-squ.:                  0.1134\n",
      "Time:                        21:47:18   Log-Likelihood:                -3625.3\n",
      "converged:                       True   LL-Null:                       -4088.8\n",
      "                                        LLR p-value:                5.357e-197\n",
      "==============================================================================\n",
      "                 coef    std err          z      P>|z|      [0.025      0.975]\n",
      "------------------------------------------------------------------------------\n",
      "Kilometres    -0.0708      0.010     -7.060      0.000      -0.090      -0.051\n",
      "Zone          -0.0731      0.007    -10.299      0.000      -0.087      -0.059\n",
      "Bonus          0.1538      0.007     22.757      0.000       0.141       0.167\n",
      "Make           0.0638      0.006     11.575      0.000       0.053       0.075\n",
      "Insured    -4.119e-05    3.9e-06    -10.548      0.000   -4.88e-05   -3.35e-05\n",
      "Payment     3.413e-07   2.17e-08     15.742      0.000    2.99e-07    3.84e-07\n",
      "av_claims      1.5119      0.100     15.049      0.000       1.315       1.709\n",
      "==============================================================================\n"
     ]
    }
   ],
   "source": [
    "poisson_res = poisson_mod.fit(family = \" poisson\")\n",
    "print(poisson_res.summary())"
   ]
  },
  {
   "cell_type": "markdown",
   "metadata": {},
   "source": [
    "### 4.2)-testing the model"
   ]
  },
  {
   "cell_type": "code",
   "execution_count": 59,
   "metadata": {},
   "outputs": [],
   "source": [
    "predVals = poisson_res.predict(x)"
   ]
  },
  {
   "cell_type": "code",
   "execution_count": 60,
   "metadata": {},
   "outputs": [
    {
     "data": {
      "image/png": "[encoded data removed]",
      "text/plain": [
       "<Figure size 432x288 with 1 Axes>"
      ]
     },
     "metadata": {},
     "output_type": "display_data"
    }
   ],
   "source": [
    "plt.plot(range(len(y)), y, 'r*-', range(len(y)), predVals, 'bo-')\n",
    "plt.title('Train dataset Real vs. Predicted Values')\n",
    "plt.legend(['Real Values', 'Predicted Values'])\n",
    "plt.show()"
   ]
  },
  {
   "cell_type": "markdown",
   "metadata": {},
   "source": [
    "# Using h2o library for modeling\n",
    "\n",
    "initiate h2o"
   ]
  },
  {
   "cell_type": "code",
   "execution_count": 61,
   "metadata": {},
   "outputs": [
    {
     "name": "stdout",
     "output_type": "stream",
     "text": [
      "Checking whether there is an H2O instance running at http://localhost:54321 ..... not found.\n",
      "Attempting to start a local H2O server...\n",
      "; Java HotSpot(TM) 64-Bit Server VM (build 25.201-b09, mixed mode)\n",
      "  Starting server from C:\\Users\\Hassan\\Anaconda3\\lib\\site-packages\\h2o\\backend\\bin\\h2o.jar\n",
      "  Ice root: C:\\Users\\Hassan\\AppData\\Local\\Temp\\tmpgw1pyekt\n",
      "  JVM stdout: C:\\Users\\Hassan\\AppData\\Local\\Temp\\tmpgw1pyekt\\h2o_Hassan_started_from_python.out\n",
      "  JVM stderr: C:\\Users\\Hassan\\AppData\\Local\\Temp\\tmpgw1pyekt\\h2o_Hassan_started_from_python.err\n",
      "  Server is running at http://127.0.0.1:54321\n",
      "Connecting to H2O server at http://127.0.0.1:54321 ... successful.\n"
     ]
    },
    {
     "data": {
      "text/html": [
       "<div style=\"overflow:auto\"><table style=\"width:50%\"><tr><td>H2O cluster uptime:</td>\n",
       "<td>03 secs</td></tr>\n",
       "<tr><td>H2O cluster timezone:</td>\n",
       "<td>Europe/Berlin</td></tr>\n",
       "<tr><td>H2O data parsing timezone:</td>\n",
       "<td>UTC</td></tr>\n",
       "<tr><td>H2O cluster version:</td>\n",
       "<td>3.26.0.3</td></tr>\n",
       "<tr><td>H2O cluster version age:</td>\n",
       "<td>1 day </td></tr>\n",
       "<tr><td>H2O cluster name:</td>\n",
       "<td>H2O_from_python_Hassan_qkxkt6</td></tr>\n",
       "<tr><td>H2O cluster total nodes:</td>\n",
       "<td>1</td></tr>\n",
       "<tr><td>H2O cluster free memory:</td>\n",
       "<td>3.542 Gb</td></tr>\n",
       "<tr><td>H2O cluster total cores:</td>\n",
       "<td>8</td></tr>\n",
       "<tr><td>H2O cluster allowed cores:</td>\n",
       "<td>8</td></tr>\n",
       "<tr><td>H2O cluster status:</td>\n",
       "<td>accepting new members, healthy</td></tr>\n",
       "<tr><td>H2O connection url:</td>\n",
       "<td>http://127.0.0.1:54321</td></tr>\n",
       "<tr><td>H2O connection proxy:</td>\n",
       "<td>None</td></tr>\n",
       "<tr><td>H2O internal security:</td>\n",
       "<td>False</td></tr>\n",
       "<tr><td>H2O API Extensions:</td>\n",
       "<td>Amazon S3, Algos, AutoML, Core V3, Core V4</td></tr>\n",
       "<tr><td>Python version:</td>\n",
       "<td>3.6.5 final</td></tr></table></div>"
      ],
      "text/plain": [
       "--------------------------  ------------------------------------------\n",
       "H2O cluster uptime:         03 secs\n",
       "H2O cluster timezone:       Europe/Berlin\n",
       "H2O data parsing timezone:  UTC\n",
       "H2O cluster version:        3.26.0.3\n",
       "H2O cluster version age:    1 day\n",
       "H2O cluster name:           H2O_from_python_Hassan_qkxkt6\n",
       "H2O cluster total nodes:    1\n",
       "H2O cluster free memory:    3.542 Gb\n",
       "H2O cluster total cores:    8\n",
       "H2O cluster allowed cores:  8\n",
       "H2O cluster status:         accepting new members, healthy\n",
       "H2O connection url:         http://127.0.0.1:54321\n",
       "H2O connection proxy:\n",
       "H2O internal security:      False\n",
       "H2O API Extensions:         Amazon S3, Algos, AutoML, Core V3, Core V4\n",
       "Python version:             3.6.5 final\n",
       "--------------------------  ------------------------------------------"
      ]
     },
     "metadata": {},
     "output_type": "display_data"
    }
   ],
   "source": [
    "h2o.init()\n",
    "from h2o.estimators.glm import H2OGeneralizedLinearEstimator"
   ]
  },
  {
   "cell_type": "markdown",
   "metadata": {},
   "source": [
    "# 5)-Buidling Poisson Model\n",
    "\n",
    "A type of GLM. Also known as Count model"
   ]
  },
  {
   "cell_type": "code",
   "execution_count": 62,
   "metadata": {},
   "outputs": [
    {
     "name": "stdout",
     "output_type": "stream",
     "text": [
      "Parse progress: |█████████████████████████████████████████████████████████| 100%\n"
     ]
    }
   ],
   "source": [
    "insurance = h2o.import_file(\"http://h2o-public-test-data.s3.amazonaws.com/smalldata/glm_test/Motor_insurance_sweden.txt\", sep = '\\t')"
   ]
  },
  {
   "cell_type": "code",
   "execution_count": 63,
   "metadata": {},
   "outputs": [
    {
     "data": {
      "text/html": [
       "<table>\n",
       "<thead>\n",
       "<tr><th style=\"text-align: right;\">  Kilometres</th><th style=\"text-align: right;\">  Zone</th><th style=\"text-align: right;\">  Bonus</th><th style=\"text-align: right;\">  Make</th><th style=\"text-align: right;\">  Insured</th><th style=\"text-align: right;\">  Claims</th><th style=\"text-align: right;\">         Payment</th></tr>\n",
       "</thead>\n",
       "<tbody>\n",
       "<tr><td style=\"text-align: right;\">           1</td><td style=\"text-align: right;\">     1</td><td style=\"text-align: right;\">      1</td><td style=\"text-align: right;\">     1</td><td style=\"text-align: right;\">   455.13</td><td style=\"text-align: right;\">     108</td><td style=\"text-align: right;\">392491          </td></tr>\n",
       "<tr><td style=\"text-align: right;\">           1</td><td style=\"text-align: right;\">     1</td><td style=\"text-align: right;\">      1</td><td style=\"text-align: right;\">     2</td><td style=\"text-align: right;\">    69.17</td><td style=\"text-align: right;\">      19</td><td style=\"text-align: right;\"> 46221          </td></tr>\n",
       "<tr><td style=\"text-align: right;\">           1</td><td style=\"text-align: right;\">     1</td><td style=\"text-align: right;\">      1</td><td style=\"text-align: right;\">     3</td><td style=\"text-align: right;\">    72.88</td><td style=\"text-align: right;\">      13</td><td style=\"text-align: right;\"> 15694          </td></tr>\n",
       "<tr><td style=\"text-align: right;\">           1</td><td style=\"text-align: right;\">     1</td><td style=\"text-align: right;\">      1</td><td style=\"text-align: right;\">     4</td><td style=\"text-align: right;\">  1292.39</td><td style=\"text-align: right;\">     124</td><td style=\"text-align: right;\">422201          </td></tr>\n",
       "<tr><td style=\"text-align: right;\">           1</td><td style=\"text-align: right;\">     1</td><td style=\"text-align: right;\">      1</td><td style=\"text-align: right;\">     5</td><td style=\"text-align: right;\">   191.01</td><td style=\"text-align: right;\">      40</td><td style=\"text-align: right;\">119373          </td></tr>\n",
       "<tr><td style=\"text-align: right;\">           1</td><td style=\"text-align: right;\">     1</td><td style=\"text-align: right;\">      1</td><td style=\"text-align: right;\">     6</td><td style=\"text-align: right;\">   477.66</td><td style=\"text-align: right;\">      57</td><td style=\"text-align: right;\">170913          </td></tr>\n",
       "<tr><td style=\"text-align: right;\">           1</td><td style=\"text-align: right;\">     1</td><td style=\"text-align: right;\">      1</td><td style=\"text-align: right;\">     7</td><td style=\"text-align: right;\">   105.58</td><td style=\"text-align: right;\">      23</td><td style=\"text-align: right;\"> 56940          </td></tr>\n",
       "<tr><td style=\"text-align: right;\">           1</td><td style=\"text-align: right;\">     1</td><td style=\"text-align: right;\">      1</td><td style=\"text-align: right;\">     8</td><td style=\"text-align: right;\">    32.55</td><td style=\"text-align: right;\">      14</td><td style=\"text-align: right;\"> 77487          </td></tr>\n",
       "<tr><td style=\"text-align: right;\">           1</td><td style=\"text-align: right;\">     1</td><td style=\"text-align: right;\">      1</td><td style=\"text-align: right;\">     9</td><td style=\"text-align: right;\">  9998.46</td><td style=\"text-align: right;\">    1704</td><td style=\"text-align: right;\">     6.80599e+06</td></tr>\n",
       "<tr><td style=\"text-align: right;\">           1</td><td style=\"text-align: right;\">     1</td><td style=\"text-align: right;\">      2</td><td style=\"text-align: right;\">     1</td><td style=\"text-align: right;\">   314.58</td><td style=\"text-align: right;\">      45</td><td style=\"text-align: right;\">214011          </td></tr>\n",
       "</tbody>\n",
       "</table>"
      ]
     },
     "metadata": {},
     "output_type": "display_data"
    },
    {
     "data": {
      "text/plain": []
     },
     "execution_count": 63,
     "metadata": {},
     "output_type": "execute_result"
    }
   ],
   "source": [
    "insurance.head()"
   ]
  },
  {
   "cell_type": "code",
   "execution_count": 64,
   "metadata": {},
   "outputs": [
    {
     "data": {
      "text/html": [
       "<table>\n",
       "<thead>\n",
       "<tr><th>       </th><th>Kilometres        </th><th>Zone              </th><th>Bonus             </th><th>Make              </th><th>Insured           </th><th>Claims            </th><th>Payment           </th></tr>\n",
       "</thead>\n",
       "<tbody>\n",
       "<tr><td>type   </td><td>int               </td><td>int               </td><td>int               </td><td>int               </td><td>real              </td><td>int               </td><td>int               </td></tr>\n",
       "<tr><td>mins   </td><td>1.0               </td><td>1.0               </td><td>1.0               </td><td>1.0               </td><td>0.01              </td><td>0.0               </td><td>0.0               </td></tr>\n",
       "<tr><td>mean   </td><td>2.9857928505957827</td><td>3.9702108157653533</td><td>4.01512373968836  </td><td>4.991750687442713 </td><td>1092.1952703941352</td><td>51.865719523372995</td><td>257007.6448212649 </td></tr>\n",
       "<tr><td>maxs   </td><td>5.0               </td><td>7.0               </td><td>7.0               </td><td>9.0               </td><td>127687.27         </td><td>3338.0            </td><td>18245026.0        </td></tr>\n",
       "<tr><td>sigma  </td><td>1.4104086085546428</td><td>1.988857510408954 </td><td>2.0005158569701793</td><td>2.5869431535278427</td><td>5661.156244715404 </td><td>201.7106935118666 </td><td>1017282.5856477643</td></tr>\n",
       "<tr><td>zeros  </td><td>0                 </td><td>0                 </td><td>0                 </td><td>0                 </td><td>0                 </td><td>385               </td><td>385               </td></tr>\n",
       "<tr><td>missing</td><td>0                 </td><td>0                 </td><td>0                 </td><td>0                 </td><td>0                 </td><td>0                 </td><td>0                 </td></tr>\n",
       "<tr><td>0      </td><td>1.0               </td><td>1.0               </td><td>1.0               </td><td>1.0               </td><td>455.13            </td><td>108.0             </td><td>392491.0          </td></tr>\n",
       "<tr><td>1      </td><td>1.0               </td><td>1.0               </td><td>1.0               </td><td>2.0               </td><td>69.17             </td><td>19.0              </td><td>46221.0           </td></tr>\n",
       "<tr><td>2      </td><td>1.0               </td><td>1.0               </td><td>1.0               </td><td>3.0               </td><td>72.88             </td><td>13.0              </td><td>15694.0           </td></tr>\n",
       "<tr><td>3      </td><td>1.0               </td><td>1.0               </td><td>1.0               </td><td>4.0               </td><td>1292.39           </td><td>124.0             </td><td>422201.0          </td></tr>\n",
       "<tr><td>4      </td><td>1.0               </td><td>1.0               </td><td>1.0               </td><td>5.0               </td><td>191.01            </td><td>40.0              </td><td>119373.0          </td></tr>\n",
       "<tr><td>5      </td><td>1.0               </td><td>1.0               </td><td>1.0               </td><td>6.0               </td><td>477.66            </td><td>57.0              </td><td>170913.0          </td></tr>\n",
       "<tr><td>6      </td><td>1.0               </td><td>1.0               </td><td>1.0               </td><td>7.0               </td><td>105.58            </td><td>23.0              </td><td>56940.0           </td></tr>\n",
       "<tr><td>7      </td><td>1.0               </td><td>1.0               </td><td>1.0               </td><td>8.0               </td><td>32.55             </td><td>14.0              </td><td>77487.0           </td></tr>\n",
       "<tr><td>8      </td><td>1.0               </td><td>1.0               </td><td>1.0               </td><td>9.0               </td><td>9998.46           </td><td>1704.0            </td><td>6805992.0         </td></tr>\n",
       "<tr><td>9      </td><td>1.0               </td><td>1.0               </td><td>2.0               </td><td>1.0               </td><td>314.58            </td><td>45.0              </td><td>214011.0          </td></tr>\n",
       "</tbody>\n",
       "</table>"
      ]
     },
     "metadata": {},
     "output_type": "display_data"
    }
   ],
   "source": [
    "insurance.summary()"
   ]
  },
  {
   "cell_type": "markdown",
   "metadata": {},
   "source": [
    "### 5.1)- Training"
   ]
  },
  {
   "cell_type": "code",
   "execution_count": 65,
   "metadata": {},
   "outputs": [
    {
     "name": "stdout",
     "output_type": "stream",
     "text": [
      "glm Model Build progress: |███████████████████████████████████████████████| 100%\n"
     ]
    }
   ],
   "source": [
    "poisson_model = H2OGeneralizedLinearEstimator(family = \" poisson\",lambda_ = 0, remove_collinear_columns= True,compute_p_values=True)\n",
    "poisson_model.train(y= \"Claims\" , x = [\"Payment\", \"Insured\", \"Kilometres\", \"Zone\", \"Bonus\", \"Make\"] ,training_frame = insurance)"
   ]
  },
  {
   "cell_type": "code",
   "execution_count": 66,
   "metadata": {},
   "outputs": [
    {
     "name": "stdout",
     "output_type": "stream",
     "text": [
      "Model Details\n",
      "=============\n",
      "H2OGeneralizedLinearEstimator :  Generalized Linear Modeling\n",
      "Model Key:  GLM_model_python_1566762621694_1\n",
      "\n",
      "\n",
      "GLM Model: summary\n"
     ]
    },
    {
     "data": {
      "text/html": [
       "<div>\n",
       "<style scoped>\n",
       "    .dataframe tbody tr th:only-of-type {\n",
       "        vertical-align: middle;\n",
       "    }\n",
       "\n",
       "    .dataframe tbody tr th {\n",
       "        vertical-align: top;\n",
       "    }\n",
       "\n",
       "    .dataframe thead th {\n",
       "        text-align: right;\n",
       "    }\n",
       "</style>\n",
       "<table border=\"1\" class=\"dataframe\">\n",
       "  <thead>\n",
       "    <tr style=\"text-align: right;\">\n",
       "      <th></th>\n",
       "      <th></th>\n",
       "      <th>family</th>\n",
       "      <th>link</th>\n",
       "      <th>regularization</th>\n",
       "      <th>number_of_predictors_total</th>\n",
       "      <th>number_of_active_predictors</th>\n",
       "      <th>number_of_iterations</th>\n",
       "      <th>training_frame</th>\n",
       "    </tr>\n",
       "  </thead>\n",
       "  <tbody>\n",
       "    <tr>\n",
       "      <th>0</th>\n",
       "      <td></td>\n",
       "      <td>poisson</td>\n",
       "      <td>log</td>\n",
       "      <td>None</td>\n",
       "      <td>6</td>\n",
       "      <td>6</td>\n",
       "      <td>6</td>\n",
       "      <td>Key_Frame__http___h2o_public_test_data_s3_amazonaws_com_smalldata_...</td>\n",
       "    </tr>\n",
       "  </tbody>\n",
       "</table>\n",
       "</div>"
      ],
      "text/plain": [
       "      family link regularization  number_of_predictors_total  \\\n",
       "0    poisson  log           None                           6   \n",
       "\n",
       "  number_of_active_predictors  number_of_iterations  \\\n",
       "0                           6                     6   \n",
       "\n",
       "                                                          training_frame  \n",
       "0  Key_Frame__http___h2o_public_test_data_s3_amazonaws_com_smalldata_...  "
      ]
     },
     "metadata": {},
     "output_type": "display_data"
    },
    {
     "name": "stdout",
     "output_type": "stream",
     "text": [
      "\n",
      "\n",
      "ModelMetricsRegressionGLM: glm\n",
      "** Reported on train data. **\n",
      "\n",
      "MSE: 18287.328901692104\n",
      "RMSE: 135.23065074786894\n",
      "MAE: 40.41030288136362\n",
      "RMSLE: 1.7658170521996852\n",
      "R^2: 0.55033248798047\n",
      "Mean Residual Deviance: 53.17217585124376\n",
      "Null degrees of freedom: 2181\n",
      "Residual degrees of freedom: 2175\n",
      "Null deviance: 435505.0456453899\n",
      "Residual deviance: 116021.68770741388\n",
      "AIC: 123673.42803356209\n",
      "\n",
      "Scoring History: "
     ]
    },
    {
     "data": {
      "text/html": [
       "<div>\n",
       "<style scoped>\n",
       "    .dataframe tbody tr th:only-of-type {\n",
       "        vertical-align: middle;\n",
       "    }\n",
       "\n",
       "    .dataframe tbody tr th {\n",
       "        vertical-align: top;\n",
       "    }\n",
       "\n",
       "    .dataframe thead th {\n",
       "        text-align: right;\n",
       "    }\n",
       "</style>\n",
       "<table border=\"1\" class=\"dataframe\">\n",
       "  <thead>\n",
       "    <tr style=\"text-align: right;\">\n",
       "      <th></th>\n",
       "      <th></th>\n",
       "      <th>timestamp</th>\n",
       "      <th>duration</th>\n",
       "      <th>iterations</th>\n",
       "      <th>negative_log_likelihood</th>\n",
       "      <th>objective</th>\n",
       "    </tr>\n",
       "  </thead>\n",
       "  <tbody>\n",
       "    <tr>\n",
       "      <th>0</th>\n",
       "      <td></td>\n",
       "      <td>2019-08-25 21:50:39</td>\n",
       "      <td>0.000 sec</td>\n",
       "      <td>0</td>\n",
       "      <td>435505.045645</td>\n",
       "      <td>199.589847</td>\n",
       "    </tr>\n",
       "    <tr>\n",
       "      <th>1</th>\n",
       "      <td></td>\n",
       "      <td>2019-08-25 21:50:39</td>\n",
       "      <td>0.063 sec</td>\n",
       "      <td>1</td>\n",
       "      <td>210276.874695</td>\n",
       "      <td>96.368870</td>\n",
       "    </tr>\n",
       "    <tr>\n",
       "      <th>2</th>\n",
       "      <td></td>\n",
       "      <td>2019-08-25 21:50:39</td>\n",
       "      <td>0.063 sec</td>\n",
       "      <td>2</td>\n",
       "      <td>134559.405037</td>\n",
       "      <td>61.667922</td>\n",
       "    </tr>\n",
       "    <tr>\n",
       "      <th>3</th>\n",
       "      <td></td>\n",
       "      <td>2019-08-25 21:50:39</td>\n",
       "      <td>0.063 sec</td>\n",
       "      <td>3</td>\n",
       "      <td>116149.265044</td>\n",
       "      <td>53.230644</td>\n",
       "    </tr>\n",
       "    <tr>\n",
       "      <th>4</th>\n",
       "      <td></td>\n",
       "      <td>2019-08-25 21:50:39</td>\n",
       "      <td>0.078 sec</td>\n",
       "      <td>4</td>\n",
       "      <td>116021.815340</td>\n",
       "      <td>53.172234</td>\n",
       "    </tr>\n",
       "    <tr>\n",
       "      <th>5</th>\n",
       "      <td></td>\n",
       "      <td>2019-08-25 21:50:39</td>\n",
       "      <td>0.078 sec</td>\n",
       "      <td>5</td>\n",
       "      <td>116021.687708</td>\n",
       "      <td>53.172176</td>\n",
       "    </tr>\n",
       "    <tr>\n",
       "      <th>6</th>\n",
       "      <td></td>\n",
       "      <td>2019-08-25 21:50:39</td>\n",
       "      <td>0.094 sec</td>\n",
       "      <td>6</td>\n",
       "      <td>116021.687707</td>\n",
       "      <td>53.172176</td>\n",
       "    </tr>\n",
       "  </tbody>\n",
       "</table>\n",
       "</div>"
      ],
      "text/plain": [
       "               timestamp    duration  iterations  negative_log_likelihood  \\\n",
       "0    2019-08-25 21:50:39   0.000 sec           0            435505.045645   \n",
       "1    2019-08-25 21:50:39   0.063 sec           1            210276.874695   \n",
       "2    2019-08-25 21:50:39   0.063 sec           2            134559.405037   \n",
       "3    2019-08-25 21:50:39   0.063 sec           3            116149.265044   \n",
       "4    2019-08-25 21:50:39   0.078 sec           4            116021.815340   \n",
       "5    2019-08-25 21:50:39   0.078 sec           5            116021.687708   \n",
       "6    2019-08-25 21:50:39   0.094 sec           6            116021.687707   \n",
       "\n",
       "    objective  \n",
       "0  199.589847  \n",
       "1   96.368870  \n",
       "2   61.667922  \n",
       "3   53.230644  \n",
       "4   53.172234  \n",
       "5   53.172176  \n",
       "6   53.172176  "
      ]
     },
     "metadata": {},
     "output_type": "display_data"
    },
    {
     "name": "stdout",
     "output_type": "stream",
     "text": [
      "\n"
     ]
    }
   ],
   "source": [
    "print(poisson_model)"
   ]
  },
  {
   "cell_type": "markdown",
   "metadata": {},
   "source": [
    "### 5.2)-Results"
   ]
  },
  {
   "cell_type": "code",
   "execution_count": 67,
   "metadata": {},
   "outputs": [
    {
     "name": "stdout",
     "output_type": "stream",
     "text": [
      "{'Intercept': 2.5822368526491166, 'Kilometres': -0.24677600908636968, 'Zone': -0.11876052909495259, 'Bonus': 0.13082512307229846, 'Make': 0.23191707139739182, 'Insured': -5.4928746201778095e-05, 'Payment': 5.931233707518411e-07}\n"
     ]
    }
   ],
   "source": [
    "# Coefficients that can be applied to the non-standardized data.\n",
    "print(poisson_model.coef())"
   ]
  },
  {
   "cell_type": "code",
   "execution_count": 68,
   "metadata": {},
   "outputs": [
    {
     "name": "stdout",
     "output_type": "stream",
     "text": [
      "{'Intercept': 3.1493060536896644, 'Kilometres': -0.34805500760017394, 'Zone': -0.23619777023063776, 'Bonus': 0.2617177331962081, 'Make': 0.5999562800377105, 'Insured': -0.31096021457458406, 'Payment': 0.6033740762065506}\n"
     ]
    }
   ],
   "source": [
    "# Coefficients fitted on the standardized data (requires standardize = True, which is on by default)\n",
    "print(poisson_model.coef_norm())"
   ]
  },
  {
   "cell_type": "code",
   "execution_count": 69,
   "metadata": {},
   "outputs": [
    {
     "name": "stdout",
     "output_type": "stream",
     "text": [
      "\n",
      "Coefficients: glm coefficients\n"
     ]
    },
    {
     "data": {
      "text/html": [
       "<div>\n",
       "<style scoped>\n",
       "    .dataframe tbody tr th:only-of-type {\n",
       "        vertical-align: middle;\n",
       "    }\n",
       "\n",
       "    .dataframe tbody tr th {\n",
       "        vertical-align: top;\n",
       "    }\n",
       "\n",
       "    .dataframe thead th {\n",
       "        text-align: right;\n",
       "    }\n",
       "</style>\n",
       "<table border=\"1\" class=\"dataframe\">\n",
       "  <thead>\n",
       "    <tr style=\"text-align: right;\">\n",
       "      <th></th>\n",
       "      <th>names</th>\n",
       "      <th>coefficients</th>\n",
       "      <th>std_error</th>\n",
       "      <th>z_value</th>\n",
       "      <th>p_value</th>\n",
       "      <th>standardized_coefficients</th>\n",
       "    </tr>\n",
       "  </thead>\n",
       "  <tbody>\n",
       "    <tr>\n",
       "      <th>0</th>\n",
       "      <td>Intercept</td>\n",
       "      <td>2.582237e+00</td>\n",
       "      <td>1.604723e-02</td>\n",
       "      <td>160.914793</td>\n",
       "      <td>0.0</td>\n",
       "      <td>3.149306</td>\n",
       "    </tr>\n",
       "    <tr>\n",
       "      <th>1</th>\n",
       "      <td>Kilometres</td>\n",
       "      <td>-2.467760e-01</td>\n",
       "      <td>2.602166e-03</td>\n",
       "      <td>-94.834829</td>\n",
       "      <td>0.0</td>\n",
       "      <td>-0.348055</td>\n",
       "    </tr>\n",
       "    <tr>\n",
       "      <th>2</th>\n",
       "      <td>Zone</td>\n",
       "      <td>-1.187605e-01</td>\n",
       "      <td>1.829220e-03</td>\n",
       "      <td>-64.924142</td>\n",
       "      <td>0.0</td>\n",
       "      <td>-0.236198</td>\n",
       "    </tr>\n",
       "    <tr>\n",
       "      <th>3</th>\n",
       "      <td>Bonus</td>\n",
       "      <td>1.308251e-01</td>\n",
       "      <td>1.598831e-03</td>\n",
       "      <td>81.825491</td>\n",
       "      <td>0.0</td>\n",
       "      <td>0.261718</td>\n",
       "    </tr>\n",
       "    <tr>\n",
       "      <th>4</th>\n",
       "      <td>Make</td>\n",
       "      <td>2.319171e-01</td>\n",
       "      <td>1.655148e-03</td>\n",
       "      <td>140.118597</td>\n",
       "      <td>0.0</td>\n",
       "      <td>0.599956</td>\n",
       "    </tr>\n",
       "    <tr>\n",
       "      <th>5</th>\n",
       "      <td>Insured</td>\n",
       "      <td>-5.492875e-05</td>\n",
       "      <td>3.562449e-07</td>\n",
       "      <td>-154.188166</td>\n",
       "      <td>0.0</td>\n",
       "      <td>-0.310960</td>\n",
       "    </tr>\n",
       "    <tr>\n",
       "      <th>6</th>\n",
       "      <td>Payment</td>\n",
       "      <td>5.931234e-07</td>\n",
       "      <td>2.280965e-09</td>\n",
       "      <td>260.031722</td>\n",
       "      <td>0.0</td>\n",
       "      <td>0.603374</td>\n",
       "    </tr>\n",
       "  </tbody>\n",
       "</table>\n",
       "</div>"
      ],
      "text/plain": [
       "        names  coefficients     std_error     z_value  p_value  \\\n",
       "0   Intercept  2.582237e+00  1.604723e-02  160.914793      0.0   \n",
       "1  Kilometres -2.467760e-01  2.602166e-03  -94.834829      0.0   \n",
       "2        Zone -1.187605e-01  1.829220e-03  -64.924142      0.0   \n",
       "3       Bonus  1.308251e-01  1.598831e-03   81.825491      0.0   \n",
       "4        Make  2.319171e-01  1.655148e-03  140.118597      0.0   \n",
       "5     Insured -5.492875e-05  3.562449e-07 -154.188166      0.0   \n",
       "6     Payment  5.931234e-07  2.280965e-09  260.031722      0.0   \n",
       "\n",
       "   standardized_coefficients  \n",
       "0                   3.149306  \n",
       "1                  -0.348055  \n",
       "2                  -0.236198  \n",
       "3                   0.261718  \n",
       "4                   0.599956  \n",
       "5                  -0.310960  \n",
       "6                   0.603374  "
      ]
     },
     "metadata": {},
     "output_type": "display_data"
    },
    {
     "data": {
      "text/plain": []
     },
     "execution_count": 69,
     "metadata": {},
     "output_type": "execute_result"
    }
   ],
   "source": [
    "# Print the Coefficients table\n",
    "poisson_model._model_json['output']['coefficients_table']"
   ]
  },
  {
   "cell_type": "markdown",
   "metadata": {},
   "source": [
    "# 6)-Quantities of interest"
   ]
  },
  {
   "cell_type": "markdown",
   "metadata": {},
   "source": [
    "### 6a)-Standard error"
   ]
  },
  {
   "cell_type": "code",
   "execution_count": 70,
   "metadata": {},
   "outputs": [
    {
     "name": "stdout",
     "output_type": "stream",
     "text": [
      "[0.016047231002516732, 0.002602166435357356, 0.001829219855678322, 0.0015988308907284264, 0.001655148398401047, 3.562448896838998e-07, 2.28096543615261e-09]\n"
     ]
    }
   ],
   "source": [
    "# Print the Standard error\n",
    "print(poisson_model._model_json['output']['coefficients_table']['std_error'])"
   ]
  },
  {
   "cell_type": "markdown",
   "metadata": {},
   "source": [
    "### 6b)-p values"
   ]
  },
  {
   "cell_type": "code",
   "execution_count": 71,
   "metadata": {},
   "outputs": [
    {
     "name": "stdout",
     "output_type": "stream",
     "text": [
      "[0.0, 0.0, 0.0, 0.0, 0.0, 0.0, 0.0]\n"
     ]
    }
   ],
   "source": [
    "# Print the p values\n",
    "print(poisson_model._model_json['output']['coefficients_table']['p_value'])"
   ]
  },
  {
   "cell_type": "markdown",
   "metadata": {},
   "source": [
    "### 6c)-z values"
   ]
  },
  {
   "cell_type": "code",
   "execution_count": 72,
   "metadata": {},
   "outputs": [
    {
     "name": "stdout",
     "output_type": "stream",
     "text": [
      "[160.91479285392833, -94.8348290613778, -64.92414169149346, 81.82549125798703, 140.11859699192826, -154.1881660408294, 260.0317222484022]\n"
     ]
    }
   ],
   "source": [
    "# Print the z values\n",
    "print(poisson_model._model_json['output']['coefficients_table']['z_value'])"
   ]
  },
  {
   "cell_type": "markdown",
   "metadata": {},
   "source": [
    "### 6d)-graphical plot"
   ]
  },
  {
   "cell_type": "code",
   "execution_count": 73,
   "metadata": {},
   "outputs": [
    {
     "name": "stderr",
     "output_type": "stream",
     "text": [
      "C:\\Users\\Hassan\\AppData\\Roaming\\Python\\Python36\\site-packages\\matplotlib\\cbook\\__init__.py:424: MatplotlibDeprecationWarning: \n",
      "Passing one of 'on', 'true', 'off', 'false' as a boolean is deprecated; use an actual boolean (True/False) instead.\n",
      "  warn_deprecated(\"2.2\", \"Passing one of 'on', 'true', 'off', 'false' as a \"\n",
      "C:\\Users\\Hassan\\AppData\\Roaming\\Python\\Python36\\site-packages\\matplotlib\\cbook\\__init__.py:424: MatplotlibDeprecationWarning: \n",
      "Passing one of 'on', 'true', 'off', 'false' as a boolean is deprecated; use an actual boolean (True/False) instead.\n",
      "  warn_deprecated(\"2.2\", \"Passing one of 'on', 'true', 'off', 'false' as a \"\n",
      "C:\\Users\\Hassan\\AppData\\Roaming\\Python\\Python36\\site-packages\\matplotlib\\cbook\\__init__.py:424: MatplotlibDeprecationWarning: \n",
      "Passing one of 'on', 'true', 'off', 'false' as a boolean is deprecated; use an actual boolean (True/False) instead.\n",
      "  warn_deprecated(\"2.2\", \"Passing one of 'on', 'true', 'off', 'false' as a \"\n"
     ]
    },
    {
     "data": {
      "image/png": "[encoded data removed]",
      "text/plain": [
       "<Figure size 1008x720 with 1 Axes>"
      ]
     },
     "metadata": {},
     "output_type": "display_data"
    }
   ],
   "source": [
    "# Retrieve a graphical plot of the standardized coefficient magnitudes\n",
    "poisson_model.std_coef_plot()"
   ]
  }
 ],
 "metadata": {
  "kernelspec": {
   "display_name": "Python 3",
   "language": "python",
   "name": "python3"
  },
  "language_info": {
   "codemirror_mode": {
    "name": "ipython",
    "version": 3
   },
   "file_extension": ".py",
   "mimetype": "text/x-python",
   "name": "python",
   "nbconvert_exporter": "python",
   "pygments_lexer": "ipython3",
   "version": "3.6.5"
  }
 },
 "nbformat": 4,
 "nbformat_minor": 2
}
